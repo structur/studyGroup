{
 "cells": [
  {
   "cell_type": "markdown",
   "metadata": {},
   "source": [
    "**Load functions**"
   ]
  },
  {
   "cell_type": "code",
   "execution_count": 1,
   "metadata": {},
   "outputs": [],
   "source": [
    "# Loads libraries and automatically installs them if needed.\n",
    "# Source code: https://stackoverflow.com/questions/19596359/install-package-library-if-not-installed\n",
    "usePackage <- function(p) {\n",
    "    if (!is.element(p, installed.packages()[,1]))\n",
    "        install.packages(p, dependencies = TRUE)\n",
    "    require(p, character.only = TRUE)\n",
    "}"
   ]
  },
  {
   "cell_type": "code",
   "execution_count": 2,
   "metadata": {},
   "outputs": [
    {
     "name": "stderr",
     "output_type": "stream",
     "text": [
      "Loading required package: GGally\n",
      "Loading required package: ggplot2\n",
      "Loading required package: ppcor\n",
      "Loading required package: MASS\n",
      "Loading required package: openintro\n",
      "Please visit openintro.org for free statistics materials\n",
      "\n",
      "Attaching package: 'openintro'\n",
      "\n",
      "The following objects are masked from 'package:MASS':\n",
      "\n",
      "    housing, mammals\n",
      "\n",
      "The following object is masked from 'package:ggplot2':\n",
      "\n",
      "    diamonds\n",
      "\n",
      "The following objects are masked from 'package:datasets':\n",
      "\n",
      "    cars, trees\n",
      "\n",
      "Loading required package: stargazer\n",
      "\n",
      "Please cite as: \n",
      "\n",
      " Hlavac, Marek (2018). stargazer: Well-Formatted Regression and Summary Statistics Tables.\n",
      " R package version 5.2.2. https://CRAN.R-project.org/package=stargazer \n",
      "\n",
      "Loading required package: mctest\n",
      "Loading required package: yhat\n"
     ]
    }
   ],
   "source": [
    "usePackage('GGally')\n",
    "usePackage('ggplot2')\n",
    "usePackage('ppcor')\n",
    "usePackage('openintro')\n",
    "usePackage('stargazer')\n",
    "usePackage('mctest')\n",
    "usePackage('yhat')\n",
    "# usePackage('lmtest') # This package is for the bp test further down. It did not work in Jupyter notebook for Mac but it does work in Windows."
   ]
  },
  {
   "cell_type": "code",
   "execution_count": 3,
   "metadata": {},
   "outputs": [
    {
     "data": {
      "text/html": [
       "\n",
       "<table width=\"100%\" summary=\"page for ncbirths {openintro}\"><tr><td>ncbirths {openintro}</td><td style=\"text-align: right;\">R Documentation</td></tr></table>\n",
       "\n",
       "<h2>\n",
       "North Carolina births\n",
       "</h2>\n",
       "\n",
       "<h3>Description</h3>\n",
       "\n",
       "<p>In 2004, the state of North Carolina released to the public a large data set containing information on births recorded in this state.  This data set has been of interest to medical researchers who are studying the relation between habits and practices of expectant mothers and the birth of their children. This is a random sample of 1,000 cases from this data set.\n",
       "</p>\n",
       "\n",
       "\n",
       "<h3>Usage</h3>\n",
       "\n",
       "<pre>data(ncbirths)</pre>\n",
       "\n",
       "\n",
       "<h3>Format</h3>\n",
       "\n",
       "<p>A data frame with 1000 observations on the following 13 variables.\n",
       "</p>\n",
       "\n",
       "<dl>\n",
       "<dt><code>fage</code></dt><dd><p>Father's age in years. </p>\n",
       "</dd>\n",
       "<dt><code>mage</code></dt><dd><p>Mother's age in years. </p>\n",
       "</dd>\n",
       "<dt><code>mature</code></dt><dd><p>Maturity status of mother. </p>\n",
       "</dd>\n",
       "<dt><code>weeks</code></dt><dd><p>Length of pregnancy in weeks. </p>\n",
       "</dd>\n",
       "<dt><code>premie</code></dt><dd><p>Whether the birth was classified as premature (premie) or \tfull-term. </p>\n",
       "</dd>\n",
       "<dt><code>visits</code></dt><dd><p>Number of hospital visits during pregnancy. </p>\n",
       "</dd>\n",
       "<dt><code>gained</code></dt><dd><p>Weight gained by mother during pregnancy in pounds. </p>\n",
       "</dd>\n",
       "<dt><code>weight</code></dt><dd><p>Weight of the baby at birth in pounds. </p>\n",
       "</dd>\n",
       "<dt><code>lowbirthweight</code></dt><dd><p>Whether baby was classified as low birthweight (<code>low</code>) or not (<code>not low</code>). </p>\n",
       "</dd>\n",
       "<dt><code>gender</code></dt><dd><p>Gender of the baby, <code>female</code> or <code>male</code>. </p>\n",
       "</dd>\n",
       "<dt><code>habit</code></dt><dd><p>Status of the mother as a <code>nonsmoker</code> or a \t<code>smoker</code>. </p>\n",
       "</dd>\n",
       "<dt><code>marital</code></dt><dd><p>Whether mother is <code>married</code> or <code>not married</code> at birth. </p>\n",
       "</dd>\n",
       "<dt><code>whitemom</code></dt><dd><p>Whether mom is <code>white</code> or <code>not white</code>. </p>\n",
       "</dd>\n",
       "</dl>\n",
       "\n",
       "\n",
       "\n",
       "<h3>Examples</h3>\n",
       "\n",
       "<pre>\n",
       "data(ncbirths)\n",
       "boxPlot(ncbirths$weight, fact = ncbirths$habit)\n",
       "boxPlot(ncbirths$visits, fact = ncbirths$whitemom)\n",
       "boxPlot(ncbirths$gained, fact = ncbirths$mature)\n",
       "</pre>\n",
       "\n",
       "<hr /><div style=\"text-align: center;\">[Package <em>openintro</em> version 1.7.1 ]</div>"
      ],
      "text/latex": [
       "\\inputencoding{utf8}\n",
       "\\HeaderA{ncbirths}{North Carolina births}{ncbirths}\n",
       "\\keyword{datasets}{ncbirths}\n",
       "%\n",
       "\\begin{Description}\\relax\n",
       "In 2004, the state of North Carolina released to the public a large data set containing information on births recorded in this state.  This data set has been of interest to medical researchers who are studying the relation between habits and practices of expectant mothers and the birth of their children. This is a random sample of 1,000 cases from this data set.\n",
       "\\end{Description}\n",
       "%\n",
       "\\begin{Usage}\n",
       "\\begin{verbatim}\n",
       "data(ncbirths)\n",
       "\\end{verbatim}\n",
       "\\end{Usage}\n",
       "%\n",
       "\\begin{Format}\n",
       "A data frame with 1000 observations on the following 13 variables.\n",
       "\\begin{description}\n",
       "\n",
       "\\item[\\code{fage}] Father's age in years. \n",
       "\\item[\\code{mage}] Mother's age in years. \n",
       "\\item[\\code{mature}] Maturity status of mother. \n",
       "\\item[\\code{weeks}] Length of pregnancy in weeks. \n",
       "\\item[\\code{premie}] Whether the birth was classified as premature (premie) or \tfull-term. \n",
       "\\item[\\code{visits}] Number of hospital visits during pregnancy. \n",
       "\\item[\\code{gained}] Weight gained by mother during pregnancy in pounds. \n",
       "\\item[\\code{weight}] Weight of the baby at birth in pounds. \n",
       "\\item[\\code{lowbirthweight}] Whether baby was classified as low birthweight (\\code{low}) or not (\\code{not low}). \n",
       "\\item[\\code{gender}] Gender of the baby, \\code{female} or \\code{male}. \n",
       "\\item[\\code{habit}] Status of the mother as a \\code{nonsmoker} or a \t\\code{smoker}. \n",
       "\\item[\\code{marital}] Whether mother is \\code{married} or \\code{not married} at birth. \n",
       "\\item[\\code{whitemom}] Whether mom is \\code{white} or \\code{not white}. \n",
       "\n",
       "\\end{description}\n",
       "\n",
       "\\end{Format}\n",
       "%\n",
       "\\begin{Examples}\n",
       "\\begin{ExampleCode}\n",
       "data(ncbirths)\n",
       "boxPlot(ncbirths$weight, fact = ncbirths$habit)\n",
       "boxPlot(ncbirths$visits, fact = ncbirths$whitemom)\n",
       "boxPlot(ncbirths$gained, fact = ncbirths$mature)\n",
       "\\end{ExampleCode}\n",
       "\\end{Examples}"
      ],
      "text/plain": [
       "ncbirths               package:openintro               R Documentation\n",
       "\n",
       "_\bN_\bo_\br_\bt_\bh _\bC_\ba_\br_\bo_\bl_\bi_\bn_\ba _\bb_\bi_\br_\bt_\bh_\bs\n",
       "\n",
       "_\bD_\be_\bs_\bc_\br_\bi_\bp_\bt_\bi_\bo_\bn:\n",
       "\n",
       "     In 2004, the state of North Carolina released to the public a\n",
       "     large data set containing information on births recorded in this\n",
       "     state.  This data set has been of interest to medical researchers\n",
       "     who are studying the relation between habits and practices of\n",
       "     expectant mothers and the birth of their children. This is a\n",
       "     random sample of 1,000 cases from this data set.\n",
       "\n",
       "_\bU_\bs_\ba_\bg_\be:\n",
       "\n",
       "     data(ncbirths)\n",
       "     \n",
       "_\bF_\bo_\br_\bm_\ba_\bt:\n",
       "\n",
       "     A data frame with 1000 observations on the following 13 variables.\n",
       "\n",
       "     'fage' Father's age in years.\n",
       "\n",
       "     'mage' Mother's age in years.\n",
       "\n",
       "     'mature' Maturity status of mother.\n",
       "\n",
       "     'weeks' Length of pregnancy in weeks.\n",
       "\n",
       "     'premie' Whether the birth was classified as premature (premie) or\n",
       "          full-term.\n",
       "\n",
       "     'visits' Number of hospital visits during pregnancy.\n",
       "\n",
       "     'gained' Weight gained by mother during pregnancy in pounds.\n",
       "\n",
       "     'weight' Weight of the baby at birth in pounds.\n",
       "\n",
       "     'lowbirthweight' Whether baby was classified as low birthweight\n",
       "          ('low') or not ('not low').\n",
       "\n",
       "     'gender' Gender of the baby, 'female' or 'male'.\n",
       "\n",
       "     'habit' Status of the mother as a 'nonsmoker' or a 'smoker'.\n",
       "\n",
       "     'marital' Whether mother is 'married' or 'not married' at birth.\n",
       "\n",
       "     'whitemom' Whether mom is 'white' or 'not white'.\n",
       "\n",
       "_\bE_\bx_\ba_\bm_\bp_\bl_\be_\bs:\n",
       "\n",
       "     data(ncbirths)\n",
       "     boxPlot(ncbirths$weight, fact = ncbirths$habit)\n",
       "     boxPlot(ncbirths$visits, fact = ncbirths$whitemom)\n",
       "     boxPlot(ncbirths$gained, fact = ncbirths$mature)\n",
       "     "
      ]
     },
     "metadata": {},
     "output_type": "display_data"
    }
   ],
   "source": [
    "# Look at the data dictionary\n",
    "help(ncbirths)"
   ]
  },
  {
   "cell_type": "code",
   "execution_count": 4,
   "metadata": {},
   "outputs": [],
   "source": [
    "# From here onwards we will assign the data set to a new variable so the original dataframe remains untouched and in its originial condition.\n",
    "df <- ncbirths"
   ]
  },
  {
   "cell_type": "code",
   "execution_count": 5,
   "metadata": {},
   "outputs": [
    {
     "name": "stdout",
     "output_type": "stream",
     "text": [
      "'data.frame':\t1000 obs. of  13 variables:\n",
      " $ fage          : int  NA NA 19 21 NA NA 18 17 NA 20 ...\n",
      " $ mage          : int  13 14 15 15 15 15 15 15 16 16 ...\n",
      " $ mature        : Factor w/ 2 levels \"mature mom\",\"younger mom\": 2 2 2 2 2 2 2 2 2 2 ...\n",
      " $ weeks         : int  39 42 37 41 39 38 37 35 38 37 ...\n",
      " $ premie        : Factor w/ 2 levels \"full term\",\"premie\": 1 1 1 1 1 1 1 2 1 1 ...\n",
      " $ visits        : int  10 15 11 6 9 19 12 5 9 13 ...\n",
      " $ marital       : Factor w/ 2 levels \"married\",\"not married\": 1 1 1 1 1 1 1 1 1 1 ...\n",
      " $ gained        : int  38 20 38 34 27 22 76 15 NA 52 ...\n",
      " $ weight        : num  7.63 7.88 6.63 8 6.38 5.38 8.44 4.69 8.81 6.94 ...\n",
      " $ lowbirthweight: Factor w/ 2 levels \"low\",\"not low\": 2 2 2 2 2 1 2 1 2 2 ...\n",
      " $ gender        : Factor w/ 2 levels \"female\",\"male\": 2 2 1 2 1 2 2 2 2 1 ...\n",
      " $ habit         : Factor w/ 2 levels \"nonsmoker\",\"smoker\": 1 1 1 1 1 1 1 1 1 1 ...\n",
      " $ whitemom      : Factor w/ 2 levels \"not white\",\"white\": 1 1 2 2 1 1 1 1 2 2 ...\n"
     ]
    }
   ],
   "source": [
    "# Look at the structure of the data\n",
    "# Notice how there are continous and categorical variables\n",
    "# Categorical variables are known as factor type data in R. The sample below has factors with different levels.\n",
    "# These factors can be given an order. This would make them ordinal variables.\n",
    "str(df)"
   ]
  },
  {
   "cell_type": "code",
   "execution_count": 6,
   "metadata": {},
   "outputs": [
    {
     "data": {
      "text/html": [
       "<table>\n",
       "<thead><tr><th scope=col>fage</th><th scope=col>mage</th><th scope=col>mature</th><th scope=col>weeks</th><th scope=col>premie</th><th scope=col>visits</th><th scope=col>marital</th><th scope=col>gained</th><th scope=col>weight</th><th scope=col>lowbirthweight</th><th scope=col>gender</th><th scope=col>habit</th><th scope=col>whitemom</th></tr></thead>\n",
       "<tbody>\n",
       "\t<tr><td>NA         </td><td>13         </td><td>younger mom</td><td>39         </td><td>full term  </td><td>10         </td><td>married    </td><td>38         </td><td>7.63       </td><td>not low    </td><td>male       </td><td>nonsmoker  </td><td>not white  </td></tr>\n",
       "\t<tr><td>NA         </td><td>14         </td><td>younger mom</td><td>42         </td><td>full term  </td><td>15         </td><td>married    </td><td>20         </td><td>7.88       </td><td>not low    </td><td>male       </td><td>nonsmoker  </td><td>not white  </td></tr>\n",
       "\t<tr><td>19         </td><td>15         </td><td>younger mom</td><td>37         </td><td>full term  </td><td>11         </td><td>married    </td><td>38         </td><td>6.63       </td><td>not low    </td><td>female     </td><td>nonsmoker  </td><td>white      </td></tr>\n",
       "\t<tr><td>21         </td><td>15         </td><td>younger mom</td><td>41         </td><td>full term  </td><td> 6         </td><td>married    </td><td>34         </td><td>8.00       </td><td>not low    </td><td>male       </td><td>nonsmoker  </td><td>white      </td></tr>\n",
       "\t<tr><td>NA         </td><td>15         </td><td>younger mom</td><td>39         </td><td>full term  </td><td> 9         </td><td>married    </td><td>27         </td><td>6.38       </td><td>not low    </td><td>female     </td><td>nonsmoker  </td><td>not white  </td></tr>\n",
       "\t<tr><td>NA         </td><td>15         </td><td>younger mom</td><td>38         </td><td>full term  </td><td>19         </td><td>married    </td><td>22         </td><td>5.38       </td><td>low        </td><td>male       </td><td>nonsmoker  </td><td>not white  </td></tr>\n",
       "</tbody>\n",
       "</table>\n"
      ],
      "text/latex": [
       "\\begin{tabular}{r|lllllllllllll}\n",
       " fage & mage & mature & weeks & premie & visits & marital & gained & weight & lowbirthweight & gender & habit & whitemom\\\\\n",
       "\\hline\n",
       "\t NA          & 13          & younger mom & 39          & full term   & 10          & married     & 38          & 7.63        & not low     & male        & nonsmoker   & not white  \\\\\n",
       "\t NA          & 14          & younger mom & 42          & full term   & 15          & married     & 20          & 7.88        & not low     & male        & nonsmoker   & not white  \\\\\n",
       "\t 19          & 15          & younger mom & 37          & full term   & 11          & married     & 38          & 6.63        & not low     & female      & nonsmoker   & white      \\\\\n",
       "\t 21          & 15          & younger mom & 41          & full term   &  6          & married     & 34          & 8.00        & not low     & male        & nonsmoker   & white      \\\\\n",
       "\t NA          & 15          & younger mom & 39          & full term   &  9          & married     & 27          & 6.38        & not low     & female      & nonsmoker   & not white  \\\\\n",
       "\t NA          & 15          & younger mom & 38          & full term   & 19          & married     & 22          & 5.38        & low         & male        & nonsmoker   & not white  \\\\\n",
       "\\end{tabular}\n"
      ],
      "text/markdown": [
       "\n",
       "fage | mage | mature | weeks | premie | visits | marital | gained | weight | lowbirthweight | gender | habit | whitemom | \n",
       "|---|---|---|---|---|---|\n",
       "| NA          | 13          | younger mom | 39          | full term   | 10          | married     | 38          | 7.63        | not low     | male        | nonsmoker   | not white   | \n",
       "| NA          | 14          | younger mom | 42          | full term   | 15          | married     | 20          | 7.88        | not low     | male        | nonsmoker   | not white   | \n",
       "| 19          | 15          | younger mom | 37          | full term   | 11          | married     | 38          | 6.63        | not low     | female      | nonsmoker   | white       | \n",
       "| 21          | 15          | younger mom | 41          | full term   |  6          | married     | 34          | 8.00        | not low     | male        | nonsmoker   | white       | \n",
       "| NA          | 15          | younger mom | 39          | full term   |  9          | married     | 27          | 6.38        | not low     | female      | nonsmoker   | not white   | \n",
       "| NA          | 15          | younger mom | 38          | full term   | 19          | married     | 22          | 5.38        | low         | male        | nonsmoker   | not white   | \n",
       "\n",
       "\n"
      ],
      "text/plain": [
       "  fage mage mature      weeks premie    visits marital gained weight\n",
       "1 NA   13   younger mom 39    full term 10     married 38     7.63  \n",
       "2 NA   14   younger mom 42    full term 15     married 20     7.88  \n",
       "3 19   15   younger mom 37    full term 11     married 38     6.63  \n",
       "4 21   15   younger mom 41    full term  6     married 34     8.00  \n",
       "5 NA   15   younger mom 39    full term  9     married 27     6.38  \n",
       "6 NA   15   younger mom 38    full term 19     married 22     5.38  \n",
       "  lowbirthweight gender habit     whitemom \n",
       "1 not low        male   nonsmoker not white\n",
       "2 not low        male   nonsmoker not white\n",
       "3 not low        female nonsmoker white    \n",
       "4 not low        male   nonsmoker white    \n",
       "5 not low        female nonsmoker not white\n",
       "6 low            male   nonsmoker not white"
      ]
     },
     "metadata": {},
     "output_type": "display_data"
    }
   ],
   "source": [
    "# Look at a sample of the data\n",
    "head(df)"
   ]
  },
  {
   "cell_type": "code",
   "execution_count": 7,
   "metadata": {},
   "outputs": [
    {
     "data": {
      "text/plain": [
       "      fage            mage            mature        weeks             premie   \n",
       " Min.   :14.00   Min.   :13   mature mom :133   Min.   :20.00   full term:846  \n",
       " 1st Qu.:25.00   1st Qu.:22   younger mom:867   1st Qu.:37.00   premie   :152  \n",
       " Median :30.00   Median :27                     Median :39.00   NA's     :  2  \n",
       " Mean   :30.26   Mean   :27                     Mean   :38.33                  \n",
       " 3rd Qu.:35.00   3rd Qu.:32                     3rd Qu.:40.00                  \n",
       " Max.   :55.00   Max.   :50                     Max.   :45.00                  \n",
       " NA's   :171                                    NA's   :2                      \n",
       "     visits            marital        gained          weight      \n",
       " Min.   : 0.0   married    :386   Min.   : 0.00   Min.   : 1.000  \n",
       " 1st Qu.:10.0   not married:613   1st Qu.:20.00   1st Qu.: 6.380  \n",
       " Median :12.0   NA's       :  1   Median :30.00   Median : 7.310  \n",
       " Mean   :12.1                     Mean   :30.33   Mean   : 7.101  \n",
       " 3rd Qu.:15.0                     3rd Qu.:38.00   3rd Qu.: 8.060  \n",
       " Max.   :30.0                     Max.   :85.00   Max.   :11.750  \n",
       " NA's   :9                        NA's   :27                      \n",
       " lowbirthweight    gender          habit          whitemom  \n",
       " low    :111    female:503   nonsmoker:873   not white:284  \n",
       " not low:889    male  :497   smoker   :126   white    :714  \n",
       "                             NA's     :  1   NA's     :  2  \n",
       "                                                            \n",
       "                                                            \n",
       "                                                            \n",
       "                                                            "
      ]
     },
     "metadata": {},
     "output_type": "display_data"
    }
   ],
   "source": [
    "# Summary statistics\n",
    "summary(df)"
   ]
  },
  {
   "cell_type": "markdown",
   "metadata": {},
   "source": [
    "**Creating ordinal variables**"
   ]
  },
  {
   "cell_type": "code",
   "execution_count": 8,
   "metadata": {},
   "outputs": [],
   "source": [
    "# Creating levels for factor type data\n",
    "\n",
    "df$lowbirthweight <- factor(df$lowbirthweight,\n",
    "                                                  levels = c('low', 'not low'),\n",
    "                                                  labels = c('low', 'not low'),\n",
    "                            ordered=TRUE) # If ordered is left as FALSE then there won't be any order beyong the alphabetic order.\n",
    "\n",
    "df$habit <- factor(df$habit,\n",
    "                                                  levels = c('nonsmoker', 'smoker'),\n",
    "                                                  labels = c('nonsmoker', 'smoker'),\n",
    "                            ordered=TRUE) # If ordered is left as FALSE then there won't be any order beyong the alphabetic order."
   ]
  },
  {
   "cell_type": "code",
   "execution_count": 9,
   "metadata": {},
   "outputs": [
    {
     "name": "stdout",
     "output_type": "stream",
     "text": [
      "'data.frame':\t1000 obs. of  13 variables:\n",
      " $ fage          : int  NA NA 19 21 NA NA 18 17 NA 20 ...\n",
      " $ mage          : int  13 14 15 15 15 15 15 15 16 16 ...\n",
      " $ mature        : Factor w/ 2 levels \"mature mom\",\"younger mom\": 2 2 2 2 2 2 2 2 2 2 ...\n",
      " $ weeks         : int  39 42 37 41 39 38 37 35 38 37 ...\n",
      " $ premie        : Factor w/ 2 levels \"full term\",\"premie\": 1 1 1 1 1 1 1 2 1 1 ...\n",
      " $ visits        : int  10 15 11 6 9 19 12 5 9 13 ...\n",
      " $ marital       : Factor w/ 2 levels \"married\",\"not married\": 1 1 1 1 1 1 1 1 1 1 ...\n",
      " $ gained        : int  38 20 38 34 27 22 76 15 NA 52 ...\n",
      " $ weight        : num  7.63 7.88 6.63 8 6.38 5.38 8.44 4.69 8.81 6.94 ...\n",
      " $ lowbirthweight: Ord.factor w/ 2 levels \"low\"<\"not low\": 2 2 2 2 2 1 2 1 2 2 ...\n",
      " $ gender        : Factor w/ 2 levels \"female\",\"male\": 2 2 1 2 1 2 2 2 2 1 ...\n",
      " $ habit         : Ord.factor w/ 2 levels \"nonsmoker\"<\"smoker\": 1 1 1 1 1 1 1 1 1 1 ...\n",
      " $ whitemom      : Factor w/ 2 levels \"not white\",\"white\": 1 1 2 2 1 1 1 1 2 2 ...\n"
     ]
    }
   ],
   "source": [
    "# Notice how the 'habit' column is has an order to the values of the data column.\n",
    "# This is useful for understanding regression. We'll use the variable 'habit' later on.\n",
    "str(df)"
   ]
  },
  {
   "cell_type": "code",
   "execution_count": 10,
   "metadata": {},
   "outputs": [],
   "source": [
    "# Finally, don't be afraid of looking at the data in Excel.\n",
    "# Notice the ordinal nature of the variables are not apparent.\n",
    "write.csv(df, \"df.csv\", row.names=FALSE)"
   ]
  },
  {
   "cell_type": "markdown",
   "metadata": {},
   "source": [
    "**Cleaning up the dataset**"
   ]
  },
  {
   "cell_type": "code",
   "execution_count": 11,
   "metadata": {},
   "outputs": [],
   "source": [
    "# Drop the missing data from the dataframe for the purpose of this exercise\n",
    "# How to report and treat missing data is important in your analysis. We won't disucss this in detail this session.\n",
    "# To keep things simple we will drop all rows with missing data.\n",
    "# Source code: https://stackoverflow.com/questions/4862178/remove-rows-with-all-or-some-nas-missing-values-in-data-frame#4862502\n",
    "df <- na.omit(df) # We are overwriting the df."
   ]
  },
  {
   "cell_type": "code",
   "execution_count": 12,
   "metadata": {},
   "outputs": [
    {
     "name": "stdout",
     "output_type": "stream",
     "text": [
      "'data.frame':\t800 obs. of  13 variables:\n",
      " $ fage          : int  19 21 18 17 20 30 21 14 16 20 ...\n",
      " $ mage          : int  15 15 15 15 16 16 16 16 16 17 ...\n",
      " $ mature        : Factor w/ 2 levels \"mature mom\",\"younger mom\": 2 2 2 2 2 2 2 2 2 2 ...\n",
      " $ weeks         : int  37 41 37 35 37 45 38 40 24 40 ...\n",
      " $ premie        : Factor w/ 2 levels \"full term\",\"premie\": 1 1 1 2 1 1 1 1 2 1 ...\n",
      " $ visits        : int  11 6 12 5 13 9 15 12 5 8 ...\n",
      " $ marital       : Factor w/ 2 levels \"married\",\"not married\": 1 1 1 1 1 1 1 1 1 1 ...\n",
      " $ gained        : int  38 34 76 15 52 28 75 9 12 20 ...\n",
      " $ weight        : num  6.63 8 8.44 4.69 6.94 7.44 7.56 5.81 1.5 8.25 ...\n",
      " $ lowbirthweight: Ord.factor w/ 2 levels \"low\"<\"not low\": 2 2 2 1 2 2 2 2 1 2 ...\n",
      " $ gender        : Factor w/ 2 levels \"female\",\"male\": 1 2 2 2 1 2 1 1 2 1 ...\n",
      " $ habit         : Ord.factor w/ 2 levels \"nonsmoker\"<\"smoker\": 1 1 1 1 1 1 2 2 1 1 ...\n",
      " $ whitemom      : Factor w/ 2 levels \"not white\",\"white\": 2 2 1 1 2 2 2 2 1 2 ...\n",
      " - attr(*, \"na.action\")= 'omit' Named int  1 2 5 6 9 12 13 14 16 21 ...\n",
      "  ..- attr(*, \"names\")= chr  \"1\" \"2\" \"5\" \"6\" ...\n"
     ]
    }
   ],
   "source": [
    "# Notice how we have 200 rows removed from the total of 1000.\n",
    "str(df)"
   ]
  },
  {
   "cell_type": "markdown",
   "metadata": {},
   "source": [
    "**Plot your data**"
   ]
  },
  {
   "cell_type": "code",
   "execution_count": 13,
   "metadata": {},
   "outputs": [
    {
     "data": {
      "image/png": "[encoded data removed]",
      "text/plain": [
       "plot without title"
      ]
     },
     "metadata": {},
     "output_type": "display_data",
     "source": "R display func"
    }
   ],
   "source": [
    "# The ggpairs package allows for seeing the relationship of all continous variables in two by two comparisons and the distribution of each variable.\n",
    "# Drop column from data frame with a non-continous variable.\n",
    "drops <- c('mature', 'premie', 'marital', 'lowbirthweight', 'gender', 'habit', 'whitemom')\n",
    "df_cor <- df[ , !(names(df) %in% drops)]\n",
    "# Print correlations\n",
    "print(ggpairs(df_cor))"
   ]
  },
  {
   "cell_type": "code",
   "execution_count": 14,
   "metadata": {},
   "outputs": [
    {
     "data": {},
     "metadata": {},
     "output_type": "display_data"
    },
    {
     "name": "stderr",
     "output_type": "stream",
     "text": [
      "Saving 6.67 x 6.67 in image\n"
     ]
    },
    {
     "data": {
      "image/png": "[encoded data removed]",
      "text/plain": [
       "plot without title"
      ]
     },
     "metadata": {},
     "output_type": "display_data",
     "source": "R display func"
    }
   ],
   "source": [
    "# First plot the relationship you want to use in your regression\n",
    "p1 <- ggplot(df,aes(y = weight,x = weeks)) +\n",
    "        geom_point() +\n",
    "        geom_smooth(method=\"lm\")\n",
    "\n",
    "p1\n",
    "\n",
    "ggsave('p1.pdf', plot = p1)"
   ]
  },
  {
   "cell_type": "code",
   "execution_count": 15,
   "metadata": {},
   "outputs": [],
   "source": [
    "m1 <- lm(weight ~ weeks, data = df)"
   ]
  },
  {
   "cell_type": "code",
   "execution_count": 16,
   "metadata": {},
   "outputs": [
    {
     "data": {
      "text/plain": [
       "\n",
       "Call:\n",
       "lm(formula = weight ~ weeks, data = df)\n",
       "\n",
       "Residuals:\n",
       "    Min      1Q  Median      3Q     Max \n",
       "-3.3371 -0.6961 -0.0534  0.7211  3.6594 \n",
       "\n",
       "Coefficients:\n",
       "            Estimate Std. Error t value Pr(>|t|)    \n",
       "(Intercept)  -5.5908     0.5513  -10.14   <2e-16 ***\n",
       "weeks         0.3327     0.0143   23.27   <2e-16 ***\n",
       "---\n",
       "Signif. codes:  0 '***' 0.001 '**' 0.01 '*' 0.05 '.' 0.1 ' ' 1\n",
       "\n",
       "Residual standard error: 1.113 on 798 degrees of freedom\n",
       "Multiple R-squared:  0.4044,\tAdjusted R-squared:  0.4036 \n",
       "F-statistic: 541.7 on 1 and 798 DF,  p-value: < 2.2e-16\n"
      ]
     },
     "metadata": {},
     "output_type": "display_data"
    }
   ],
   "source": [
    "summary(m1)\n",
    "# Adjusted R squared is the proportion of the variance in the data that's explained by the model. \n",
    "# From 0 to 100. Usually above 85 is good, this high number not achieved in a lot of clinicla work."
   ]
  },
  {
   "cell_type": "code",
   "execution_count": 17,
   "metadata": {},
   "outputs": [],
   "source": [
    "# Startgazer is a useful method to create regression tables for presentation.\n",
    "# You can costumize it using this link: https://www.jakeruss.com/cheatsheets/stargazer/\n",
    "# Simply copy/paste the output of the HTML file into Word. Or you can use R markdown.\n",
    "invisible(capture.output(stargazer(m1, out = 'result1.html', model.names = FALSE))) # Change to 'TRUE' to display OLS"
   ]
  },
  {
   "cell_type": "markdown",
   "metadata": {},
   "source": [
    "**Model quality**\n",
    "\n",
    "Akaike Information Criterion"
   ]
  },
  {
   "cell_type": "code",
   "execution_count": 18,
   "metadata": {},
   "outputs": [
    {
     "data": {
      "text/html": [
       "2445.331012977"
      ],
      "text/latex": [
       "2445.331012977"
      ],
      "text/markdown": [
       "2445.331012977"
      ],
      "text/plain": [
       "[1] 2445.331"
      ]
     },
     "metadata": {},
     "output_type": "display_data"
    }
   ],
   "source": [
    "# A measure of model quality and simplicity. The lower the value the better.\n",
    "# You want to select a model with the least complexity that explains the most variance.\n",
    "AIC(m1)"
   ]
  },
  {
   "cell_type": "markdown",
   "metadata": {},
   "source": [
    "**Assumptions of the linear regression**\n",
    "\n",
    "1. The relationship is linear (already checked in the first plotting)\n",
    "2. The distrubtion of the residuals are normal (the plot below)\n",
    "3. The variance (standard deviation) of the outcome y is constant over the predictor x (the test below)."
   ]
  },
  {
   "cell_type": "code",
   "execution_count": 19,
   "metadata": {},
   "outputs": [
    {
     "data": {
      "image/png": "[encoded data removed]",
      "text/plain": [
       "Plot with title \"\""
      ]
     },
     "metadata": {},
     "output_type": "display_data",
     "source": "R display func"
    }
   ],
   "source": [
    "par(mfrow=c(2,2)) # to put the plots 2 by 2.\n",
    "\n",
    "# The first plot is used to identify heteroscedasticity with residual plots. You want it to be random.\n",
    "# The second plot shows the normal distribution of the residuals.\n",
    "# You can plot these in ggplot for a better visualization as well.\n",
    "\n",
    "plot(m1)\n",
    "\n",
    "# Formal checking of Heteroscedasticity with the Breusch-Pagan test. The p value must be non-significant.\n",
    "# bptest(m1) # Currently doesn't work in Jupyter on Mac, but worked in Windows version of Jupyter Lab's Anaconda\n",
    "\n",
    "# Cook's distance measures the influence of a given data point. \n",
    "# These influential points can be omitted if beyond a certain threshold of influence."
   ]
  },
  {
   "cell_type": "code",
   "execution_count": 20,
   "metadata": {},
   "outputs": [],
   "source": [
    "# You can also include categorical variables such as smoking habit (yes/no).\n",
    "# We made 'habit' an ordinal variable for this purpose. Non-smokers became the reference.\n",
    "# If more than one category you'd need dummy variables.\n",
    "m2 <- lm(weight ~ weeks + habit, data = df)\n",
    "invisible(capture.output(stargazer(m2, out = 'result2.html')))"
   ]
  },
  {
   "cell_type": "code",
   "execution_count": 21,
   "metadata": {},
   "outputs": [
    {
     "data": {
      "text/html": [
       "2441.60896643476"
      ],
      "text/latex": [
       "2441.60896643476"
      ],
      "text/markdown": [
       "2441.60896643476"
      ],
      "text/plain": [
       "[1] 2441.609"
      ]
     },
     "metadata": {},
     "output_type": "display_data"
    }
   ],
   "source": [
    "AIC(m2)"
   ]
  },
  {
   "cell_type": "markdown",
   "metadata": {},
   "source": [
    "**Tools to assess existence of multicollinearity**"
   ]
  },
  {
   "cell_type": "code",
   "execution_count": 22,
   "metadata": {},
   "outputs": [],
   "source": [
    "# Notice how mother's age and father's age are highly correlated in the graph above. This is called collinearity, which can lead to distorted estimates.\n",
    "# We will discuss this again further down.\n",
    "m3 <- lm(weight ~ weeks + mage + fage, data = df)\n",
    "invisible(capture.output(stargazer(m3, out = 'result3.html')))"
   ]
  },
  {
   "cell_type": "code",
   "execution_count": 23,
   "metadata": {},
   "outputs": [],
   "source": [
    "# Drop column from data frame with a non-continous variable.\n",
    "# We are about to assess all predictor variables that are continous so we will remove categorical ones and \n",
    "# 'weight' which is the outcome.\n",
    "drops <- c('mature', 'premie', 'marital', 'lowbirthweight', 'gender', 'habit', 'whitemom', 'weight')\n",
    "df_cor <- df[ , !(names(df) %in% drops)]"
   ]
  },
  {
   "cell_type": "code",
   "execution_count": 24,
   "metadata": {},
   "outputs": [
    {
     "name": "stdout",
     "output_type": "stream",
     "text": [
      "\n",
      "Call:\n",
      "omcdiag(x = df_cor, y = df$weight)\n",
      "\n",
      "\n",
      "Overall Multicollinearity Diagnostics\n",
      "\n",
      "                       MC Results detection\n",
      "Determinant |X'X|:         0.3633         0\n",
      "Farrar Chi-Square:       805.9693         1\n",
      "Red Indicator:             0.2616         0\n",
      "Sum of Lambda Inverse:     8.3075         0\n",
      "Theil's Method:           -0.3511         0\n",
      "Condition Number:         48.5278         1\n",
      "\n",
      "1 --> COLLINEARITY is detected by the test \n",
      "0 --> COLLINEARITY is not detected by the test\n",
      "\n"
     ]
    }
   ],
   "source": [
    "print(omcdiag(x = df_cor, y = df$weight))\n",
    "\n",
    "# Error is most likely because the outcome variable is still in the dataframe.\n",
    "# As such the outcome variable is also listed as a predictor.\n",
    "# The error tells us one of the variables has exactly the same characteristic as the outcome variable."
   ]
  },
  {
   "cell_type": "code",
   "execution_count": 25,
   "metadata": {},
   "outputs": [
    {
     "name": "stdout",
     "output_type": "stream",
     "text": [
      "\n",
      "Call:\n",
      "imcdiag(x = df_cor, y = df$weight, vif = 2.5, tol = 0.4, all = TRUE)\n",
      "\n",
      "\n",
      "All Individual Multicollinearity Diagnostics in 0 or 1 \n",
      "\n",
      "       VIF TOL Wi Fi Leamer CVIF Klein\n",
      "fage     1   1  1  1      0    0     1\n",
      "mage     1   1  1  1      0    0     1\n",
      "weeks    0   0  1  1      0    0     0\n",
      "visits   0   0  1  1      0    0     0\n",
      "gained   0   0  0  1      0    0     0\n",
      "\n",
      "1 --> COLLINEARITY is detected by the test \n",
      "0 --> COLLINEARITY is not detected by the test\n",
      "\n",
      "fage , mage , visits , coefficient(s) are non-significant may be due to multicollinearity\n",
      "\n",
      "R-square of y on all x: 0.4229 \n",
      "\n",
      "* use method argument to check which regressors may be the reason of collinearity\n",
      "===================================\n"
     ]
    }
   ],
   "source": [
    "# VIF and TOl are the same thing but inversed. You set the threshold or leave the default values.\n",
    "print(imcdiag(x = df_cor, y = df$weight, vif = 2.5, tol = 0.40, all = TRUE))"
   ]
  },
  {
   "cell_type": "code",
   "execution_count": 26,
   "metadata": {},
   "outputs": [
    {
     "name": "stdout",
     "output_type": "stream",
     "text": [
      "NULL\n"
     ]
    },
    {
     "data": {
      "image/png": "[encoded data removed]",
      "text/plain": [
       "Plot with title \"Eigenvalues Plot\""
      ]
     },
     "metadata": {},
     "output_type": "display_data",
     "source": "R display func"
    }
   ],
   "source": [
    "print(mc.plot(x = df_cor, y = df$weight, vif = 2.5))"
   ]
  },
  {
   "cell_type": "markdown",
   "metadata": {},
   "source": [
    "**Tools to support interpreting multiple regression in the face of multicollinearity.**\n",
    "\n",
    "Review: https://www.ncbi.nlm.nih.gov/pubmed/22457655"
   ]
  },
  {
   "cell_type": "code",
   "execution_count": 27,
   "metadata": {},
   "outputs": [
    {
     "data": {
      "text/html": [
       "\n",
       "<table width=\"100%\" summary=\"page for yhat-package {yhat}\"><tr><td>yhat-package {yhat}</td><td style=\"text-align: right;\">R Documentation</td></tr></table>\n",
       "\n",
       "<h2>Interpreting Regression Effects</h2>\n",
       "\n",
       "<h3>Description</h3>\n",
       "\n",
       "<p>The purpose of this package is to provide methods to interpret multiple linear regression and canonical correlation results including beta weights, structure coefficients, validity coefficients, product measures, relative weights, all-possible-subsets regression, dominance analysis, commonality analysis, and adjusted effect sizes.\n",
       "</p>\n",
       "\n",
       "\n",
       "<h3>Details</h3>\n",
       "\n",
       "\n",
       "<table summary=\"Rd table\">\n",
       "<tr>\n",
       " <td style=\"text-align: left;\">\n",
       "Package: </td><td style=\"text-align: left;\"> yhat</td>\n",
       "</tr>\n",
       "<tr>\n",
       " <td style=\"text-align: left;\">\n",
       "Type: </td><td style=\"text-align: left;\"> Package</td>\n",
       "</tr>\n",
       "<tr>\n",
       " <td style=\"text-align: left;\">\n",
       "Version: </td><td style=\"text-align: left;\"> 2.0-0</td>\n",
       "</tr>\n",
       "<tr>\n",
       " <td style=\"text-align: left;\">\n",
       "Date: </td><td style=\"text-align: left;\"> 2013-09-10</td>\n",
       "</tr>\n",
       "<tr>\n",
       " <td style=\"text-align: left;\">\n",
       "License: </td><td style=\"text-align: left;\"> GPL (&gt;= 2)</td>\n",
       "</tr>\n",
       "<tr>\n",
       " <td style=\"text-align: left;\">\n",
       "LazyLoad: </td><td style=\"text-align: left;\"> yes</td>\n",
       "</tr>\n",
       "<tr>\n",
       " <td style=\"text-align: left;\">\n",
       "</td>\n",
       "</tr>\n",
       "\n",
       "</table>\n",
       "\n",
       "\n",
       "\n",
       "<h3>Author(s)</h3>\n",
       "\n",
       "<p>Kim Nimon &lt;kim.nimon@gmail.com&gt;, Fred L. Oswald, J. Kyle Roberts</p>\n",
       "\n",
       "\n",
       "<h3>References</h3>\n",
       "\n",
       "<p>Beaton, A. E. (1973) <em>Commonality</em>. (ERIC Document Reproduction\n",
       "Service No. ED111829)\n",
       "</p>\n",
       "<p>Butts, C. T. (2009). <em>yacca: Yet Another Canonical Correlation\n",
       "Analysis Package</em>. R package version 1.1.\n",
       "</p>\n",
       "<p>Mood, A. M. (1969) Macro-analysis of the American educational \n",
       "system. <em>Operations Research</em>, <b>17</b>, 770-784.\n",
       "</p>\n",
       "<p>Nimon, K., Lewis, M., Kane, R. &amp; Haynes, R. M. (2008) An R package\n",
       "to compute commonality coefficients in the multiple regression\n",
       "case: An introduction to the package and a practical example. \n",
       "<em>Behavior Research Methods</em>, <b>40</b>(2), 457-466.\n",
       "</p>\n",
       "<p>Nimon, K., &amp; Oswald, F. L. (2013). Understanding the results of multiple linear regression: Beyond standardized regression coefficients. <em>Organizational Research Methods</em>, <em>16</em>, \n",
       "650-674.\n",
       "</p>\n",
       "\n",
       "\n",
       "<h3>See Also</h3>\n",
       "\n",
       "<p><code>regr</code>\n",
       "<code>commonalityCoefficients</code>\n",
       "<code>canonCommonality</code>\n",
       "<code>calc.yhat</code>\n",
       "<code>boot.yhat</code>\n",
       "<code>booteval.yhat</code>\n",
       "<code>plotCI.yhat</code>\n",
       "<code>aps</code>\n",
       "<code>commonality</code>\n",
       "<code>dominance</code>\n",
       "<code>dombin</code>\n",
       "<code>rlw</code>\n",
       "</p>\n",
       "\n",
       "<hr /><div style=\"text-align: center;\">[Package <em>yhat</em> version 2.0-0 ]</div>"
      ],
      "text/latex": [
       "\\inputencoding{utf8}\n",
       "\\HeaderA{yhat-package}{Interpreting Regression Effects}{yhat.Rdash.package}\n",
       "\\aliasA{yhat}{yhat-package}{yhat}\n",
       "\\keyword{package}{yhat-package}\n",
       "%\n",
       "\\begin{Description}\\relax\n",
       "The purpose of this package is to provide methods to interpret multiple linear regression and canonical correlation results including beta weights, structure coefficients, validity coefficients, product measures, relative weights, all-possible-subsets regression, dominance analysis, commonality analysis, and adjusted effect sizes.\n",
       "\\end{Description}\n",
       "%\n",
       "\\begin{Details}\\relax\n",
       "\n",
       "\\Tabular{ll}{\n",
       "Package: & yhat\\\\{}\n",
       "Type: & Package\\\\{}\n",
       "Version: & 2.0-0\\\\{}\n",
       "Date: & 2013-09-10\\\\{}\n",
       "License: & GPL (>= 2)\\\\{}\n",
       "LazyLoad: & yes\\\\{}\n",
       "}\n",
       "\n",
       "\\end{Details}\n",
       "%\n",
       "\\begin{Author}\\relax\n",
       "Kim Nimon <kim.nimon@gmail.com>, Fred L. Oswald, J. Kyle Roberts\n",
       "\\end{Author}\n",
       "%\n",
       "\\begin{References}\\relax\n",
       "Beaton, A. E. (1973) \\emph{Commonality}. (ERIC Document Reproduction\n",
       "Service No. ED111829)\n",
       "\n",
       "Butts, C. T. (2009). \\emph{yacca: Yet Another Canonical Correlation\n",
       "Analysis Package}. R package version 1.1.\n",
       "\n",
       "Mood, A. M. (1969) Macro-analysis of the American educational \n",
       "system. \\emph{Operations Research}, \\bold{17}, 770-784.\n",
       "\n",
       "Nimon, K., Lewis, M., Kane, R. \\& Haynes, R. M. (2008) An R package\n",
       "to compute commonality coefficients in the multiple regression\n",
       "case: An introduction to the package and a practical example. \n",
       "\\emph{Behavior Research Methods}, \\bold{40}(2), 457-466.\n",
       "\n",
       "Nimon, K., \\& Oswald, F. L. (2013). Understanding the results of multiple linear regression: Beyond standardized regression coefficients. \\emph{Organizational Research Methods}, \\emph{16}, \n",
       "650-674.\n",
       "\n",
       "\\end{References}\n",
       "%\n",
       "\\begin{SeeAlso}\\relax\n",
       "\\code{\\LinkA{regr}{regr}}\n",
       "\\code{\\LinkA{commonalityCoefficients}{commonalityCoefficients}}\n",
       "\\code{\\LinkA{canonCommonality}{canonCommonality}}\n",
       "\\code{\\LinkA{calc.yhat}{calc.yhat}}\n",
       "\\code{\\LinkA{boot.yhat}{boot.yhat}}\n",
       "\\code{\\LinkA{booteval.yhat}{booteval.yhat}}\n",
       "\\code{\\LinkA{plotCI.yhat}{plotCI.yhat}}\n",
       "\\code{\\LinkA{aps}{aps}}\n",
       "\\code{\\LinkA{commonality}{commonality}}\n",
       "\\code{\\LinkA{dominance}{dominance}}\n",
       "\\code{\\LinkA{dombin}{dombin}}\n",
       "\\code{\\LinkA{rlw}{rlw}}\n",
       "\\end{SeeAlso}"
      ],
      "text/plain": [
       "yhat-package               package:yhat                R Documentation\n",
       "\n",
       "_\bI_\bn_\bt_\be_\br_\bp_\br_\be_\bt_\bi_\bn_\bg _\bR_\be_\bg_\br_\be_\bs_\bs_\bi_\bo_\bn _\bE_\bf_\bf_\be_\bc_\bt_\bs\n",
       "\n",
       "_\bD_\be_\bs_\bc_\br_\bi_\bp_\bt_\bi_\bo_\bn:\n",
       "\n",
       "     The purpose of this package is to provide methods to interpret\n",
       "     multiple linear regression and canonical correlation results\n",
       "     including beta weights, structure coefficients, validity\n",
       "     coefficients, product measures, relative weights,\n",
       "     all-possible-subsets regression, dominance analysis, commonality\n",
       "     analysis, and adjusted effect sizes.\n",
       "\n",
       "_\bD_\be_\bt_\ba_\bi_\bl_\bs:\n",
       "\n",
       "       Package:   yhat       \n",
       "       Type:      Package    \n",
       "       Version:   2.0-0      \n",
       "       Date:      2013-09-10 \n",
       "       License:   GPL (>= 2) \n",
       "       LazyLoad:  yes        \n",
       "      \n",
       "_\bA_\bu_\bt_\bh_\bo_\br(_\bs):\n",
       "\n",
       "     Kim Nimon <kim.nimon@gmail.com>, Fred L. Oswald, J. Kyle Roberts\n",
       "\n",
       "_\bR_\be_\bf_\be_\br_\be_\bn_\bc_\be_\bs:\n",
       "\n",
       "     Beaton, A. E. (1973) _Commonality_. (ERIC Document Reproduction\n",
       "     Service No. ED111829)\n",
       "\n",
       "     Butts, C. T. (2009). _yacca: Yet Another Canonical Correlation\n",
       "     Analysis Package_. R package version 1.1.\n",
       "\n",
       "     Mood, A. M. (1969) Macro-analysis of the American educational\n",
       "     system. _Operations Research_, *17*, 770-784.\n",
       "\n",
       "     Nimon, K., Lewis, M., Kane, R. & Haynes, R. M. (2008) An R package\n",
       "     to compute commonality coefficients in the multiple regression\n",
       "     case: An introduction to the package and a practical example.\n",
       "     _Behavior Research Methods_, *40*(2), 457-466.\n",
       "\n",
       "     Nimon, K., & Oswald, F. L. (2013). Understanding the results of\n",
       "     multiple linear regression: Beyond standardized regression\n",
       "     coefficients. _Organizational Research Methods_, _16_, 650-674.\n",
       "\n",
       "_\bS_\be_\be _\bA_\bl_\bs_\bo:\n",
       "\n",
       "     'regr' 'commonalityCoefficients' 'canonCommonality' 'calc.yhat'\n",
       "     'boot.yhat' 'booteval.yhat' 'plotCI.yhat' 'aps' 'commonality'\n",
       "     'dominance' 'dombin' 'rlw'\n"
      ]
     },
     "metadata": {},
     "output_type": "display_data"
    }
   ],
   "source": [
    "# Understand package\n",
    "help('yhat')"
   ]
  },
  {
   "cell_type": "code",
   "execution_count": 28,
   "metadata": {},
   "outputs": [
    {
     "data": {
      "text/html": [
       "\n",
       "<table width=\"100%\" summary=\"page for plotCI.yhat {yhat}\"><tr><td>plotCI.yhat {yhat}</td><td style=\"text-align: right;\">R Documentation</td></tr></table>\n",
       "\n",
       "<h2>Plot CIs from yhat</h2>\n",
       "\n",
       "<h3>Description</h3>\n",
       "\n",
       "<p>This function plots CIs that have been produced from /codebooteval.yhat.\n",
       "</p>\n",
       "\n",
       "\n",
       "<h3>Usage</h3>\n",
       "\n",
       "<pre>\n",
       "  plotCI.yhat(sampStat, upperCI, lowerCI, pid=1:ncol(sampStat), nr=2, nc=2)\n",
       "</pre>\n",
       "\n",
       "\n",
       "<h3>Arguments</h3>\n",
       "\n",
       "<table summary=\"R argblock\">\n",
       "<tr valign=\"top\"><td><code>sampStat</code></td>\n",
       "<td>\n",
       "\n",
       "<p>Set of sample statistics\n",
       "</p>\n",
       "</td></tr>\n",
       "<tr valign=\"top\"><td><code>upperCI</code></td>\n",
       "<td>\n",
       "\n",
       "<p>Set of upper CIs\n",
       "</p>\n",
       "</td></tr>\n",
       "<tr valign=\"top\"><td><code>lowerCI</code></td>\n",
       "<td>\n",
       "\n",
       "<p>Set of lower CIs\n",
       "</p>\n",
       "</td></tr>\n",
       "<tr valign=\"top\"><td><code>pid</code></td>\n",
       "<td>\n",
       "\n",
       "<p>Which set of Metrics to plot (default to all)\n",
       "</p>\n",
       "</td></tr>\n",
       "<tr valign=\"top\"><td><code>nr</code></td>\n",
       "<td>\n",
       "\n",
       "<p>Number of rows (default = 2)\n",
       "</p>\n",
       "</td></tr>\n",
       "<tr valign=\"top\"><td><code>nc</code></td>\n",
       "<td>\n",
       "\n",
       "<p>Number of columns(default = 2)\n",
       "</p>\n",
       "</td></tr>\n",
       "</table>\n",
       "\n",
       "\n",
       "<h3>Details</h3>\n",
       "\n",
       "<p>This function plots CIs that have been produced from /codebooteval.yhat.   \n",
       "</p>\n",
       "\n",
       "\n",
       "<h3>Value</h3>\n",
       "\n",
       "<p>This returns a plot of CIs that have been produced from /codebooteval.yhat.\n",
       "</p>\n",
       "\n",
       "\n",
       "<h3>Author(s)</h3>\n",
       "\n",
       "<p> Kim Nimon &lt;kim.nimon@gmail.com&gt;</p>\n",
       "\n",
       "\n",
       "<h3>References</h3>\n",
       "\n",
       "<p>Nimon, K., &amp; Oswald, F. L. (2013). Understanding the results of multiple linear regression: Beyond standardized regression coefficients. <em>Organizational Research Methods</em>, <em>16</em>, \n",
       "650-674.\n",
       "</p>\n",
       "\n",
       "\n",
       "<h3>See Also</h3>\n",
       "\n",
       "<p><code>lm</code>\n",
       "<code>calc.yhat</code>\n",
       "<code>boot</code>\n",
       "<code>booteval.yhat</code>\n",
       "</p>\n",
       "\n",
       "\n",
       "<h3>Examples</h3>\n",
       "\n",
       "<pre>\n",
       "  ## Bootstrap regression results predicting paragraph     \n",
       "  ## comprehension based on three verbal tests: general info, \n",
       "  ## sentence comprehension, &amp; word classification \n",
       " \n",
       "  ## Use HS dataset in MBESS \n",
       "     require (\"MBESS\")\n",
       "     data(HS.data)\n",
       "\n",
       "  ## Regression\n",
       "     lm.out&lt;-lm(paragrap~general+sentence+wordc,data=HS.data)\n",
       "\n",
       "  ## Calculate regression metrics\n",
       "     regrOut&lt;-calc.yhat(lm.out)\n",
       "\n",
       "  ## Bootstrap results\n",
       "     require (\"boot\")\n",
       "     boot.out&lt;-boot(HS.data,boot.yhat,100,lmOut=lm.out,regrout0=regrOut)\n",
       "\n",
       "  ## Evaluate bootstrap results\n",
       "     result&lt;-booteval.yhat(regrOut,boot.out,bty=\"perc\")\n",
       "\n",
       "  ## Plot results\n",
       "  ## plotCI.yhat(regrOut$PredictorMetrics[-nrow(regrOut$PredictorMetrics),],\n",
       "  ## result$upperCIpm,result$lowerCIpm, pid=which(colnames(regrOut$PredictorMetrics) \n",
       "  ## %in% c(\"Beta\",\"rs\",\"CD:0\",\"CD:1\",\"CD:2\",\"GenDom\",\"Pratt\",\"RLW\") == TRUE),nr=3,nc=3)\n",
       "</pre>\n",
       "\n",
       "<hr /><div style=\"text-align: center;\">[Package <em>yhat</em> version 2.0-0 ]</div>"
      ],
      "text/latex": [
       "\\inputencoding{utf8}\n",
       "\\HeaderA{plotCI.yhat}{Plot CIs from yhat}{plotCI.yhat}\n",
       "\\keyword{models}{plotCI.yhat}\n",
       "\\keyword{regression}{plotCI.yhat}\n",
       "%\n",
       "\\begin{Description}\\relax\n",
       "This function plots CIs that have been produced from /codebooteval.yhat.\n",
       "\\end{Description}\n",
       "%\n",
       "\\begin{Usage}\n",
       "\\begin{verbatim}\n",
       "  plotCI.yhat(sampStat, upperCI, lowerCI, pid=1:ncol(sampStat), nr=2, nc=2)\n",
       "\\end{verbatim}\n",
       "\\end{Usage}\n",
       "%\n",
       "\\begin{Arguments}\n",
       "\\begin{ldescription}\n",
       "\\item[\\code{sampStat}] \n",
       "Set of sample statistics\n",
       "\n",
       "\\item[\\code{upperCI}] \n",
       "Set of upper CIs\n",
       "\n",
       "\\item[\\code{lowerCI}] \n",
       "Set of lower CIs\n",
       "\n",
       "\\item[\\code{pid}] \n",
       "Which set of Metrics to plot (default to all)\n",
       "\n",
       "\\item[\\code{nr}] \n",
       "Number of rows (default = 2)\n",
       "\n",
       "\\item[\\code{nc}] \n",
       "Number of columns(default = 2)\n",
       "\n",
       "\\end{ldescription}\n",
       "\\end{Arguments}\n",
       "%\n",
       "\\begin{Details}\\relax\n",
       "This function plots CIs that have been produced from /codebooteval.yhat.   \n",
       "\\end{Details}\n",
       "%\n",
       "\\begin{Value}\n",
       "This returns a plot of CIs that have been produced from /codebooteval.yhat.\n",
       "\\end{Value}\n",
       "%\n",
       "\\begin{Author}\\relax\n",
       " Kim Nimon <kim.nimon@gmail.com>\n",
       "\\end{Author}\n",
       "%\n",
       "\\begin{References}\\relax\n",
       "Nimon, K., \\& Oswald, F. L. (2013). Understanding the results of multiple linear regression: Beyond standardized regression coefficients. \\emph{Organizational Research Methods}, \\emph{16}, \n",
       "650-674.\n",
       "\\end{References}\n",
       "%\n",
       "\\begin{SeeAlso}\\relax\n",
       "\\code{\\LinkA{lm}{lm}}\n",
       "\\code{\\LinkA{calc.yhat}{calc.yhat}}\n",
       "\\code{\\LinkA{boot}{boot}}\n",
       "\\code{\\LinkA{booteval.yhat}{booteval.yhat}}\n",
       "\\end{SeeAlso}\n",
       "%\n",
       "\\begin{Examples}\n",
       "\\begin{ExampleCode}\n",
       "  ## Bootstrap regression results predicting paragraph     \n",
       "  ## comprehension based on three verbal tests: general info, \n",
       "  ## sentence comprehension, & word classification \n",
       " \n",
       "  ## Use HS dataset in MBESS \n",
       "     require (\"MBESS\")\n",
       "     data(HS.data)\n",
       "\n",
       "  ## Regression\n",
       "     lm.out<-lm(paragrap~general+sentence+wordc,data=HS.data)\n",
       "\n",
       "  ## Calculate regression metrics\n",
       "     regrOut<-calc.yhat(lm.out)\n",
       "\n",
       "  ## Bootstrap results\n",
       "     require (\"boot\")\n",
       "     boot.out<-boot(HS.data,boot.yhat,100,lmOut=lm.out,regrout0=regrOut)\n",
       "\n",
       "  ## Evaluate bootstrap results\n",
       "     result<-booteval.yhat(regrOut,boot.out,bty=\"perc\")\n",
       "\n",
       "  ## Plot results\n",
       "  ## plotCI.yhat(regrOut$PredictorMetrics[-nrow(regrOut$PredictorMetrics),],\n",
       "  ## result$upperCIpm,result$lowerCIpm, pid=which(colnames(regrOut$PredictorMetrics) \n",
       "  ## %in% c(\"Beta\",\"rs\",\"CD:0\",\"CD:1\",\"CD:2\",\"GenDom\",\"Pratt\",\"RLW\") == TRUE),nr=3,nc=3)\n",
       "\\end{ExampleCode}\n",
       "\\end{Examples}"
      ],
      "text/plain": [
       "plotCI.yhat                package:yhat                R Documentation\n",
       "\n",
       "_\bP_\bl_\bo_\bt _\bC_\bI_\bs _\bf_\br_\bo_\bm _\by_\bh_\ba_\bt\n",
       "\n",
       "_\bD_\be_\bs_\bc_\br_\bi_\bp_\bt_\bi_\bo_\bn:\n",
       "\n",
       "     This function plots CIs that have been produced from\n",
       "     /codebooteval.yhat.\n",
       "\n",
       "_\bU_\bs_\ba_\bg_\be:\n",
       "\n",
       "       plotCI.yhat(sampStat, upperCI, lowerCI, pid=1:ncol(sampStat), nr=2, nc=2)\n",
       "     \n",
       "_\bA_\br_\bg_\bu_\bm_\be_\bn_\bt_\bs:\n",
       "\n",
       "sampStat: Set of sample statistics\n",
       "\n",
       " upperCI: Set of upper CIs\n",
       "\n",
       " lowerCI: Set of lower CIs\n",
       "\n",
       "     pid: Which set of Metrics to plot (default to all)\n",
       "\n",
       "      nr: Number of rows (default = 2)\n",
       "\n",
       "      nc: Number of columns(default = 2)\n",
       "\n",
       "_\bD_\be_\bt_\ba_\bi_\bl_\bs:\n",
       "\n",
       "     This function plots CIs that have been produced from\n",
       "     /codebooteval.yhat.\n",
       "\n",
       "_\bV_\ba_\bl_\bu_\be:\n",
       "\n",
       "     This returns a plot of CIs that have been produced from\n",
       "     /codebooteval.yhat.\n",
       "\n",
       "_\bA_\bu_\bt_\bh_\bo_\br(_\bs):\n",
       "\n",
       "     Kim Nimon <kim.nimon@gmail.com>\n",
       "\n",
       "_\bR_\be_\bf_\be_\br_\be_\bn_\bc_\be_\bs:\n",
       "\n",
       "     Nimon, K., & Oswald, F. L. (2013). Understanding the results of\n",
       "     multiple linear regression: Beyond standardized regression\n",
       "     coefficients. _Organizational Research Methods_, _16_, 650-674.\n",
       "\n",
       "_\bS_\be_\be _\bA_\bl_\bs_\bo:\n",
       "\n",
       "     'lm' 'calc.yhat' 'boot' 'booteval.yhat'\n",
       "\n",
       "_\bE_\bx_\ba_\bm_\bp_\bl_\be_\bs:\n",
       "\n",
       "       ## Bootstrap regression results predicting paragraph     \n",
       "       ## comprehension based on three verbal tests: general info, \n",
       "       ## sentence comprehension, & word classification \n",
       "      \n",
       "       ## Use HS dataset in MBESS \n",
       "          require (\"MBESS\")\n",
       "          data(HS.data)\n",
       "     \n",
       "       ## Regression\n",
       "          lm.out<-lm(paragrap~general+sentence+wordc,data=HS.data)\n",
       "     \n",
       "       ## Calculate regression metrics\n",
       "          regrOut<-calc.yhat(lm.out)\n",
       "     \n",
       "       ## Bootstrap results\n",
       "          require (\"boot\")\n",
       "          boot.out<-boot(HS.data,boot.yhat,100,lmOut=lm.out,regrout0=regrOut)\n",
       "     \n",
       "       ## Evaluate bootstrap results\n",
       "          result<-booteval.yhat(regrOut,boot.out,bty=\"perc\")\n",
       "     \n",
       "       ## Plot results\n",
       "       ## plotCI.yhat(regrOut$PredictorMetrics[-nrow(regrOut$PredictorMetrics),],\n",
       "       ## result$upperCIpm,result$lowerCIpm, pid=which(colnames(regrOut$PredictorMetrics) \n",
       "       ## %in% c(\"Beta\",\"rs\",\"CD:0\",\"CD:1\",\"CD:2\",\"GenDom\",\"Pratt\",\"RLW\") == TRUE),nr=3,nc=3)\n",
       "     "
      ]
     },
     "metadata": {},
     "output_type": "display_data"
    }
   ],
   "source": [
    "# Use sample code of the package in our data set\n",
    "help('plotCI.yhat')"
   ]
  },
  {
   "cell_type": "code",
   "execution_count": 29,
   "metadata": {},
   "outputs": [
    {
     "name": "stderr",
     "output_type": "stream",
     "text": [
      "Loading required package: boot\n",
      "Warning message in cor(x, y, method = \"kendall\"):\n",
      "\"the standard deviation is zero\"Warning message in cor(x, y, method = \"kendall\"):\n",
      "\"the standard deviation is zero\"Warning message in cor(x, y, method = \"kendall\"):\n",
      "\"the standard deviation is zero\""
     ]
    },
    {
     "data": {
      "text/plain": [
       "NULL"
      ]
     },
     "metadata": {},
     "output_type": "display_data"
    },
    {
     "data": {
      "image/png": "[encoded data removed]",
      "text/plain": [
       "Plot with title \"RLW\""
      ]
     },
     "metadata": {},
     "output_type": "display_data",
     "source": "R display func"
    }
   ],
   "source": [
    "## Regression\n",
    "lm.out <- m3 # you can also just type in the model.\n",
    "\n",
    "## Calculate regression metrics\n",
    " regrOut<-calc.yhat(lm.out)\n",
    "\n",
    "## Bootstrap results\n",
    " usePackage (\"boot\")\n",
    " boot.out<-boot(df,boot.yhat,100,lmOut=lm.out,regrout0=regrOut)\n",
    "\n",
    "## Evaluate bootstrap results\n",
    " result<-booteval.yhat(regrOut,boot.out,bty=\"perc\")\n",
    "\n",
    "## Plot results\n",
    " plotCI.yhat(regrOut$PredictorMetrics[-nrow(regrOut$PredictorMetrics),],\n",
    " result$upperCIpm,result$lowerCIpm, pid=which(colnames(regrOut$PredictorMetrics) \n",
    " %in% c(\"Beta\",\"rs\",\"CD:0\",\"CD:1\",\"CD:2\",\"GenDom\",\"Pratt\",\"RLW\") == TRUE),nr=3,nc=3)"
   ]
  },
  {
   "cell_type": "code",
   "execution_count": 30,
   "metadata": {},
   "outputs": [
    {
     "data": {
      "text/html": [
       "<dl>\n",
       "\t<dt>$PredictorMetrics</dt>\n",
       "\t\t<dd><table>\n",
       "<thead><tr><th></th><th scope=col>b</th><th scope=col>Beta</th><th scope=col>r</th><th scope=col>rs</th><th scope=col>rs2</th><th scope=col>Unique</th><th scope=col>Common</th><th scope=col>CD:0</th><th scope=col>CD:1</th><th scope=col>CD:2</th><th scope=col>GenDom</th><th scope=col>Pratt</th><th scope=col>RLW</th></tr></thead>\n",
       "<tbody>\n",
       "\t<tr><th scope=row>weeks</th><td>0.334 </td><td>0.638 </td><td>0.636 </td><td>0.992 </td><td>0.983 </td><td>0.406 </td><td>-0.001</td><td>0.404 </td><td>0.406 </td><td>0.406 </td><td>0.405 </td><td>0.406 </td><td>0.405 </td></tr>\n",
       "\t<tr><th scope=row>mage</th><td>0.010 </td><td>0.041 </td><td>0.052 </td><td>0.081 </td><td>0.007 </td><td>0.001 </td><td> 0.002</td><td>0.003 </td><td>0.003 </td><td>0.001 </td><td>0.002 </td><td>0.002 </td><td>0.002 </td></tr>\n",
       "\t<tr><th scope=row>fage</th><td>0.010 </td><td>0.046 </td><td>0.073 </td><td>0.114 </td><td>0.013 </td><td>0.001 </td><td> 0.005</td><td>0.005 </td><td>0.004 </td><td>0.001 </td><td>0.004 </td><td>0.003 </td><td>0.003 </td></tr>\n",
       "\t<tr><th scope=row>Total</th><td>   NA </td><td>   NA </td><td>   NA </td><td>   NA </td><td>1.003 </td><td>0.408 </td><td> 0.006</td><td>0.412 </td><td>0.413 </td><td>0.408 </td><td>0.411 </td><td>0.411 </td><td>0.410 </td></tr>\n",
       "</tbody>\n",
       "</table>\n",
       "</dd>\n",
       "\t<dt>$OrderedPredictorMetrics</dt>\n",
       "\t\t<dd><table>\n",
       "<thead><tr><th></th><th scope=col>b</th><th scope=col>Beta</th><th scope=col>r</th><th scope=col>rs</th><th scope=col>rs2</th><th scope=col>Unique</th><th scope=col>Common</th><th scope=col>CD:0</th><th scope=col>CD:1</th><th scope=col>CD:2</th><th scope=col>GenDom</th><th scope=col>Pratt</th><th scope=col>RLW</th></tr></thead>\n",
       "<tbody>\n",
       "\t<tr><th scope=row>weeks</th><td>1</td><td>1</td><td>1</td><td>1</td><td>1</td><td>1</td><td>3</td><td>1</td><td>1</td><td>1</td><td>1</td><td>1</td><td>1</td></tr>\n",
       "\t<tr><th scope=row>mage</th><td>2</td><td>3</td><td>3</td><td>3</td><td>3</td><td>2</td><td>2</td><td>3</td><td>3</td><td>2</td><td>3</td><td>3</td><td>3</td></tr>\n",
       "\t<tr><th scope=row>fage</th><td>3</td><td>2</td><td>2</td><td>2</td><td>2</td><td>3</td><td>1</td><td>2</td><td>2</td><td>3</td><td>2</td><td>2</td><td>2</td></tr>\n",
       "</tbody>\n",
       "</table>\n",
       "</dd>\n",
       "\t<dt>$PairedDominanceMetrics</dt>\n",
       "\t\t<dd><table>\n",
       "<thead><tr><th></th><th scope=col>Comp</th><th scope=col>Cond</th><th scope=col>Gen</th></tr></thead>\n",
       "<tbody>\n",
       "\t<tr><th scope=row>weeks&gt;mage</th><td>1</td><td>1</td><td>1</td></tr>\n",
       "\t<tr><th scope=row>weeks&gt;fage</th><td>1</td><td>1</td><td>1</td></tr>\n",
       "\t<tr><th scope=row>mage&gt;fage</th><td>0</td><td>0</td><td>0</td></tr>\n",
       "</tbody>\n",
       "</table>\n",
       "</dd>\n",
       "\t<dt>$APSRelatedMetrics</dt>\n",
       "\t\t<dd><table>\n",
       "<thead><tr><th></th><th scope=col>Commonality</th><th scope=col> % Total</th><th scope=col>R2</th><th scope=col>weeks.Inc</th><th scope=col>mage.Inc</th><th scope=col>fage.Inc</th></tr></thead>\n",
       "<tbody>\n",
       "\t<tr><th scope=row>weeks</th><td> 0.406</td><td> 0.987</td><td>0.404 </td><td>   NA </td><td>0.006 </td><td>0.006 </td></tr>\n",
       "\t<tr><th scope=row>mage</th><td> 0.001</td><td> 0.002</td><td>0.003 </td><td>0.408 </td><td>   NA </td><td>0.003 </td></tr>\n",
       "\t<tr><th scope=row>fage</th><td> 0.001</td><td> 0.002</td><td>0.005 </td><td>0.405 </td><td>0.000 </td><td>   NA </td></tr>\n",
       "\t<tr><th scope=row>weeks,mage</th><td>-0.001</td><td>-0.001</td><td>0.410 </td><td>   NA </td><td>   NA </td><td>0.001 </td></tr>\n",
       "\t<tr><th scope=row>weeks,fage</th><td> 0.002</td><td> 0.005</td><td>0.411 </td><td>   NA </td><td>0.001 </td><td>   NA </td></tr>\n",
       "\t<tr><th scope=row>mage,fage</th><td> 0.005</td><td> 0.013</td><td>0.005 </td><td>0.406 </td><td>   NA </td><td>   NA </td></tr>\n",
       "\t<tr><th scope=row>weeks,mage,fage</th><td>-0.003</td><td>-0.007</td><td>0.411 </td><td>   NA </td><td>   NA </td><td>   NA </td></tr>\n",
       "\t<tr><th scope=row>Total</th><td> 0.411</td><td> 1.000</td><td>   NA </td><td>   NA </td><td>   NA </td><td>   NA </td></tr>\n",
       "</tbody>\n",
       "</table>\n",
       "</dd>\n",
       "</dl>\n"
      ],
      "text/latex": [
       "\\begin{description}\n",
       "\\item[\\$PredictorMetrics] \\begin{tabular}{r|lllllllllllll}\n",
       "  & b & Beta & r & rs & rs2 & Unique & Common & CD:0 & CD:1 & CD:2 & GenDom & Pratt & RLW\\\\\n",
       "\\hline\n",
       "\tweeks & 0.334  & 0.638  & 0.636  & 0.992  & 0.983  & 0.406  & -0.001 & 0.404  & 0.406  & 0.406  & 0.405  & 0.406  & 0.405 \\\\\n",
       "\tmage & 0.010  & 0.041  & 0.052  & 0.081  & 0.007  & 0.001  &  0.002 & 0.003  & 0.003  & 0.001  & 0.002  & 0.002  & 0.002 \\\\\n",
       "\tfage & 0.010  & 0.046  & 0.073  & 0.114  & 0.013  & 0.001  &  0.005 & 0.005  & 0.004  & 0.001  & 0.004  & 0.003  & 0.003 \\\\\n",
       "\tTotal &    NA  &    NA  &    NA  &    NA  & 1.003  & 0.408  &  0.006 & 0.412  & 0.413  & 0.408  & 0.411  & 0.411  & 0.410 \\\\\n",
       "\\end{tabular}\n",
       "\n",
       "\\item[\\$OrderedPredictorMetrics] \\begin{tabular}{r|lllllllllllll}\n",
       "  & b & Beta & r & rs & rs2 & Unique & Common & CD:0 & CD:1 & CD:2 & GenDom & Pratt & RLW\\\\\n",
       "\\hline\n",
       "\tweeks & 1 & 1 & 1 & 1 & 1 & 1 & 3 & 1 & 1 & 1 & 1 & 1 & 1\\\\\n",
       "\tmage & 2 & 3 & 3 & 3 & 3 & 2 & 2 & 3 & 3 & 2 & 3 & 3 & 3\\\\\n",
       "\tfage & 3 & 2 & 2 & 2 & 2 & 3 & 1 & 2 & 2 & 3 & 2 & 2 & 2\\\\\n",
       "\\end{tabular}\n",
       "\n",
       "\\item[\\$PairedDominanceMetrics] \\begin{tabular}{r|lll}\n",
       "  & Comp & Cond & Gen\\\\\n",
       "\\hline\n",
       "\tweeks>mage & 1 & 1 & 1\\\\\n",
       "\tweeks>fage & 1 & 1 & 1\\\\\n",
       "\tmage>fage & 0 & 0 & 0\\\\\n",
       "\\end{tabular}\n",
       "\n",
       "\\item[\\$APSRelatedMetrics] \\begin{tabular}{r|llllll}\n",
       "  & Commonality &  \\% Total & R2 & weeks.Inc & mage.Inc & fage.Inc\\\\\n",
       "\\hline\n",
       "\tweeks &  0.406 &  0.987 & 0.404  &    NA  & 0.006  & 0.006 \\\\\n",
       "\tmage &  0.001 &  0.002 & 0.003  & 0.408  &    NA  & 0.003 \\\\\n",
       "\tfage &  0.001 &  0.002 & 0.005  & 0.405  & 0.000  &    NA \\\\\n",
       "\tweeks,mage & -0.001 & -0.001 & 0.410  &    NA  &    NA  & 0.001 \\\\\n",
       "\tweeks,fage &  0.002 &  0.005 & 0.411  &    NA  & 0.001  &    NA \\\\\n",
       "\tmage,fage &  0.005 &  0.013 & 0.005  & 0.406  &    NA  &    NA \\\\\n",
       "\tweeks,mage,fage & -0.003 & -0.007 & 0.411  &    NA  &    NA  &    NA \\\\\n",
       "\tTotal &  0.411 &  1.000 &    NA  &    NA  &    NA  &    NA \\\\\n",
       "\\end{tabular}\n",
       "\n",
       "\\end{description}\n"
      ],
      "text/markdown": [
       "$PredictorMetrics\n",
       ":   \n",
       "| <!--/--> | b | Beta | r | rs | rs2 | Unique | Common | CD:0 | CD:1 | CD:2 | GenDom | Pratt | RLW | \n",
       "|---|---|---|---|\n",
       "| weeks | 0.334  | 0.638  | 0.636  | 0.992  | 0.983  | 0.406  | -0.001 | 0.404  | 0.406  | 0.406  | 0.405  | 0.406  | 0.405  | \n",
       "| mage | 0.010  | 0.041  | 0.052  | 0.081  | 0.007  | 0.001  |  0.002 | 0.003  | 0.003  | 0.001  | 0.002  | 0.002  | 0.002  | \n",
       "| fage | 0.010  | 0.046  | 0.073  | 0.114  | 0.013  | 0.001  |  0.005 | 0.005  | 0.004  | 0.001  | 0.004  | 0.003  | 0.003  | \n",
       "| Total |    NA  |    NA  |    NA  |    NA  | 1.003  | 0.408  |  0.006 | 0.412  | 0.413  | 0.408  | 0.411  | 0.411  | 0.410  | \n",
       "\n",
       "\n",
       "\n",
       "$OrderedPredictorMetrics\n",
       ":   \n",
       "| <!--/--> | b | Beta | r | rs | rs2 | Unique | Common | CD:0 | CD:1 | CD:2 | GenDom | Pratt | RLW | \n",
       "|---|---|---|\n",
       "| weeks | 1 | 1 | 1 | 1 | 1 | 1 | 3 | 1 | 1 | 1 | 1 | 1 | 1 | \n",
       "| mage | 2 | 3 | 3 | 3 | 3 | 2 | 2 | 3 | 3 | 2 | 3 | 3 | 3 | \n",
       "| fage | 3 | 2 | 2 | 2 | 2 | 3 | 1 | 2 | 2 | 3 | 2 | 2 | 2 | \n",
       "\n",
       "\n",
       "\n",
       "$PairedDominanceMetrics\n",
       ":   \n",
       "| <!--/--> | Comp | Cond | Gen | \n",
       "|---|---|---|\n",
       "| weeks>mage | 1 | 1 | 1 | \n",
       "| weeks>fage | 1 | 1 | 1 | \n",
       "| mage>fage | 0 | 0 | 0 | \n",
       "\n",
       "\n",
       "\n",
       "$APSRelatedMetrics\n",
       ":   \n",
       "| <!--/--> | Commonality |  % Total | R2 | weeks.Inc | mage.Inc | fage.Inc | \n",
       "|---|---|---|---|---|---|---|---|\n",
       "| weeks |  0.406 |  0.987 | 0.404  |    NA  | 0.006  | 0.006  | \n",
       "| mage |  0.001 |  0.002 | 0.003  | 0.408  |    NA  | 0.003  | \n",
       "| fage |  0.001 |  0.002 | 0.005  | 0.405  | 0.000  |    NA  | \n",
       "| weeks,mage | -0.001 | -0.001 | 0.410  |    NA  |    NA  | 0.001  | \n",
       "| weeks,fage |  0.002 |  0.005 | 0.411  |    NA  | 0.001  |    NA  | \n",
       "| mage,fage |  0.005 |  0.013 | 0.005  | 0.406  |    NA  |    NA  | \n",
       "| weeks,mage,fage | -0.003 | -0.007 | 0.411  |    NA  |    NA  |    NA  | \n",
       "| Total |  0.411 |  1.000 |    NA  |    NA  |    NA  |    NA  | \n",
       "\n",
       "\n",
       "\n",
       "\n",
       "\n"
      ],
      "text/plain": [
       "$PredictorMetrics\n",
       "          b  Beta     r    rs   rs2 Unique Common  CD:0  CD:1  CD:2 GenDom\n",
       "weeks 0.334 0.638 0.636 0.992 0.983  0.406 -0.001 0.404 0.406 0.406  0.405\n",
       "mage  0.010 0.041 0.052 0.081 0.007  0.001  0.002 0.003 0.003 0.001  0.002\n",
       "fage  0.010 0.046 0.073 0.114 0.013  0.001  0.005 0.005 0.004 0.001  0.004\n",
       "Total    NA    NA    NA    NA 1.003  0.408  0.006 0.412 0.413 0.408  0.411\n",
       "      Pratt   RLW\n",
       "weeks 0.406 0.405\n",
       "mage  0.002 0.002\n",
       "fage  0.003 0.003\n",
       "Total 0.411 0.410\n",
       "\n",
       "$OrderedPredictorMetrics\n",
       "      b Beta r rs rs2 Unique Common CD:0 CD:1 CD:2 GenDom Pratt RLW\n",
       "weeks 1    1 1  1   1      1      3    1    1    1      1     1   1\n",
       "mage  2    3 3  3   3      2      2    3    3    2      3     3   3\n",
       "fage  3    2 2  2   2      3      1    2    2    3      2     2   2\n",
       "\n",
       "$PairedDominanceMetrics\n",
       "           Comp Cond Gen\n",
       "weeks>mage    1    1   1\n",
       "weeks>fage    1    1   1\n",
       "mage>fage     0    0   0\n",
       "\n",
       "$APSRelatedMetrics\n",
       "                Commonality  % Total    R2 weeks.Inc mage.Inc fage.Inc\n",
       "weeks                 0.406    0.987 0.404        NA    0.006    0.006\n",
       "mage                  0.001    0.002 0.003     0.408       NA    0.003\n",
       "fage                  0.001    0.002 0.005     0.405    0.000       NA\n",
       "weeks,mage           -0.001   -0.001 0.410        NA       NA    0.001\n",
       "weeks,fage            0.002    0.005 0.411        NA    0.001       NA\n",
       "mage,fage             0.005    0.013 0.005     0.406       NA       NA\n",
       "weeks,mage,fage      -0.003   -0.007 0.411        NA       NA       NA\n",
       "Total                 0.411    1.000    NA        NA       NA       NA\n"
      ]
     },
     "metadata": {},
     "output_type": "display_data"
    }
   ],
   "source": [
    "regrOut"
   ]
  },
  {
   "cell_type": "markdown",
   "metadata": {},
   "source": [
    "**k-fold validation of models**"
   ]
  },
  {
   "cell_type": "code",
   "execution_count": 31,
   "metadata": {},
   "outputs": [
    {
     "name": "stderr",
     "output_type": "stream",
     "text": [
      "Loading required package: caret\n",
      "Loading required package: lattice\n",
      "\n",
      "Attaching package: 'lattice'\n",
      "\n",
      "The following object is masked from 'package:boot':\n",
      "\n",
      "    melanoma\n",
      "\n",
      "The following object is masked from 'package:openintro':\n",
      "\n",
      "    lsegments\n",
      "\n",
      "\n",
      "Attaching package: 'caret'\n",
      "\n",
      "The following object is masked from 'package:openintro':\n",
      "\n",
      "    dotPlot\n",
      "\n"
     ]
    }
   ],
   "source": [
    "# Choosing the best model with the lowest AIC. This AIC is a measure of the simplicity of the model, the lower the better.\n",
    "# Source code: http://www.sthda.com/english/articles/37-model-selection-essentials-in-r/154-stepwise-regression-essentials-in-r/\n",
    "\n",
    "model_kfold <- function(df){\n",
    "    \n",
    "    usePackage(\"caret\")\n",
    "\n",
    "    \n",
    "    # Set up repeated k-fold cross-validation\n",
    "    train.control <- trainControl(method = \"repeatedcv\", number=10, repeats=3)\n",
    "    # Train the model\n",
    "    model <- train(weight ~ weeks, data = df, # instead of 'weight ~.', replace the '.' with specific predictors or interest.\n",
    "                    method = \"lm\", # replace lm with lmStepAIC and see what happens\n",
    "                    trControl = train.control)\n",
    "    \n",
    "    detach(package:caret)\n",
    "    \n",
    "    return(model)\n",
    "    \n",
    "}\n",
    "\n",
    "# When you replace the 'lm' method with the 'lmStepAIC' in the above function the model will \n",
    "\n",
    "# We won't be discussing how to review the different models. Our focus is on the final chosen mdoel.\n",
    "\n",
    "# Capture modeling\n",
    "m4 <- model_kfold(df)\n",
    "# Capture final model\n",
    "fit4 <- m4$finalModel\n",
    "# Capture RMSE\n",
    "RMSE4 <- m4$results[, 2]\n",
    "# Capture MAE\n",
    "MAE4 <- m4$results[, 4]\n",
    "\n",
    "# You can just click the blue bar on the left of the output to close the output of the modeling."
   ]
  },
  {
   "cell_type": "code",
   "execution_count": 32,
   "metadata": {},
   "outputs": [],
   "source": [
    "invisible(capture.output(stargazer(fit4, out = 'result4.html')))"
   ]
  },
  {
   "cell_type": "code",
   "execution_count": 33,
   "metadata": {},
   "outputs": [
    {
     "data": {
      "text/html": [
       "<table>\n",
       "<thead><tr><th scope=col>intercept</th><th scope=col>RMSE</th><th scope=col>Rsquared</th><th scope=col>MAE</th><th scope=col>RMSESD</th><th scope=col>RsquaredSD</th><th scope=col>MAESD</th></tr></thead>\n",
       "<tbody>\n",
       "\t<tr><td>TRUE      </td><td>1.111576  </td><td>0.3963065 </td><td>0.8811238 </td><td>0.08105668</td><td>0.1390833 </td><td>0.07053324</td></tr>\n",
       "</tbody>\n",
       "</table>\n"
      ],
      "text/latex": [
       "\\begin{tabular}{r|lllllll}\n",
       " intercept & RMSE & Rsquared & MAE & RMSESD & RsquaredSD & MAESD\\\\\n",
       "\\hline\n",
       "\t TRUE       & 1.111576   & 0.3963065  & 0.8811238  & 0.08105668 & 0.1390833  & 0.07053324\\\\\n",
       "\\end{tabular}\n"
      ],
      "text/markdown": [
       "\n",
       "intercept | RMSE | Rsquared | MAE | RMSESD | RsquaredSD | MAESD | \n",
       "|---|\n",
       "| TRUE       | 1.111576   | 0.3963065  | 0.8811238  | 0.08105668 | 0.1390833  | 0.07053324 | \n",
       "\n",
       "\n"
      ],
      "text/plain": [
       "  intercept RMSE     Rsquared  MAE       RMSESD     RsquaredSD MAESD     \n",
       "1 TRUE      1.111576 0.3963065 0.8811238 0.08105668 0.1390833  0.07053324"
      ]
     },
     "metadata": {},
     "output_type": "display_data"
    },
    {
     "data": {
      "text/plain": [
       "\n",
       "Call:\n",
       "lm(formula = .outcome ~ ., data = dat)\n",
       "\n",
       "Coefficients:\n",
       "(Intercept)        weeks  \n",
       "    -5.5908       0.3327  \n"
      ]
     },
     "metadata": {},
     "output_type": "display_data"
    },
    {
     "data": {
      "text/plain": [
       "\n",
       "Call:\n",
       "lm(formula = .outcome ~ ., data = dat)\n",
       "\n",
       "Residuals:\n",
       "    Min      1Q  Median      3Q     Max \n",
       "-3.3371 -0.6961 -0.0534  0.7211  3.6594 \n",
       "\n",
       "Coefficients:\n",
       "            Estimate Std. Error t value Pr(>|t|)    \n",
       "(Intercept)  -5.5908     0.5513  -10.14   <2e-16 ***\n",
       "weeks         0.3327     0.0143   23.27   <2e-16 ***\n",
       "---\n",
       "Signif. codes:  0 '***' 0.001 '**' 0.01 '*' 0.05 '.' 0.1 ' ' 1\n",
       "\n",
       "Residual standard error: 1.113 on 798 degrees of freedom\n",
       "Multiple R-squared:  0.4044,\tAdjusted R-squared:  0.4036 \n",
       "F-statistic: 541.7 on 1 and 798 DF,  p-value: < 2.2e-16\n"
      ]
     },
     "metadata": {},
     "output_type": "display_data"
    }
   ],
   "source": [
    "# Model accuracy\n",
    "m4$results\n",
    "# Final model coefficients\n",
    "m4$finalModel\n",
    "# Summary of the model\n",
    "summary(m4$finalModel)"
   ]
  },
  {
   "cell_type": "code",
   "execution_count": null,
   "metadata": {},
   "outputs": [],
   "source": []
  },
  {
   "cell_type": "code",
   "execution_count": null,
   "metadata": {},
   "outputs": [],
   "source": []
  }
 ],
 "metadata": {
  "kernelspec": {
   "display_name": "R",
   "language": "R",
   "name": "ir"
  },
  "language_info": {
   "codemirror_mode": "r",
   "file_extension": ".r",
   "mimetype": "text/x-r-source",
   "name": "R",
   "pygments_lexer": "r",
   "version": "3.5.1"
  }
 },
 "nbformat": 4,
 "nbformat_minor": 2
}
