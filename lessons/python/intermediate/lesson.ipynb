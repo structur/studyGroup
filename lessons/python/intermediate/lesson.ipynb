{
 "cells": [
  {
   "cell_type": "markdown",
   "metadata": {},
   "source": [
    "## Intermediate Topics in Python\n",
    "\n",
    "**Author: Ahmed Hasan**\n",
    "\n",
    "Made for U of T Coders, to be delivered on 05/04/2017\n",
    "\n",
    "### Contents\n",
    "1. Reading/Writing Files\n",
    "2. Methods/Attributes\n",
    "3. List Comprehensions\n",
    "4. Control Flow Tools - `pass`, `continue`, `break`\n",
    "5. `assert()` - _if we have time_\n",
    "6. Try/except - _if we have time_\n",
    "\n",
    "\n",
    "### What I'm assuming you know\n",
    "Everything in Madeleine's Intro to Python lesson! I tried to have this lesson pick up right where the intro material left off. This includes:\n",
    "- the interpreter\n",
    "- variables\n",
    "- lists\n",
    "- indexing/slicing\n",
    "- if statements\n",
    "- for loops (and loop syntax in general)\n",
    "- functions\n",
    "- very basic NumPy, Pandas, matplotlib"
   ]
  },
  {
   "cell_type": "markdown",
   "metadata": {},
   "source": [
    "## Reading (and Writing) Files\n",
    "\n",
    "Let's say we have 50 students who wrote a test. This test was out of 40 points, and their results - in percentages - are stored in a text file called `scores.txt`. We want to import these into a Python list."
   ]
  },
  {
   "cell_type": "code",
   "execution_count": null,
   "metadata": {
    "collapsed": true
   },
   "outputs": [],
   "source": [
    "# let's make sure of our working directory\n",
    "\n",
    "import os\n",
    "os.chdir('/Users/Ahmed/Desktop') "
   ]
  },
  {
   "cell_type": "code",
   "execution_count": null,
   "metadata": {
    "collapsed": false
   },
   "outputs": [],
   "source": [
    "with open('scores.txt', 'r') as file:\n",
    "    scores = file.read().split(',') "
   ]
  },
  {
   "cell_type": "code",
   "execution_count": null,
   "metadata": {
    "collapsed": false,
    "scrolled": true
   },
   "outputs": [],
   "source": [
    "print(scores) "
   ]
  },
  {
   "cell_type": "markdown",
   "metadata": {},
   "source": [
    "The eagle-eyed amongst you may notice the quotes around each number - but we'll address that in a bit."
   ]
  },
  {
   "cell_type": "markdown",
   "metadata": {
    "collapsed": true
   },
   "source": [
    "## Methods and Attributes"
   ]
  },
  {
   "cell_type": "code",
   "execution_count": null,
   "metadata": {
    "collapsed": false
   },
   "outputs": [],
   "source": [
    "len(scores) "
   ]
  },
  {
   "cell_type": "markdown",
   "metadata": {},
   "source": [
    "Our txt file missed a student! Let's say she got an 89 on the test. How can we add her score to our list?"
   ]
  },
  {
   "cell_type": "code",
   "execution_count": null,
   "metadata": {
    "collapsed": true
   },
   "outputs": [],
   "source": [
    "# should we do this?\n",
    "\n",
    "scoresfixed = scores + [89]  \n",
    "\n",
    "# or should we open the file in Notepad/TextEdit and manually put the 89 in?"
   ]
  },
  {
   "cell_type": "code",
   "execution_count": null,
   "metadata": {
    "collapsed": false,
    "scrolled": true
   },
   "outputs": [],
   "source": [
    "# Python contains built-in methods and attributes for each object type\n",
    "dir(scores) "
   ]
  },
  {
   "cell_type": "code",
   "execution_count": null,
   "metadata": {
    "collapsed": false,
    "scrolled": true
   },
   "outputs": [],
   "source": [
    "help(scores.append) "
   ]
  },
  {
   "cell_type": "markdown",
   "metadata": {},
   "source": [
    "Looks like what we want, but let's check on `insert` and `extend` just to be sure -"
   ]
  },
  {
   "cell_type": "code",
   "execution_count": null,
   "metadata": {
    "collapsed": false
   },
   "outputs": [],
   "source": [
    "help(scores.insert) "
   ]
  },
  {
   "cell_type": "code",
   "execution_count": null,
   "metadata": {
    "collapsed": false
   },
   "outputs": [],
   "source": [
    "help(scores.extend) "
   ]
  },
  {
   "cell_type": "code",
   "execution_count": null,
   "metadata": {
    "collapsed": false
   },
   "outputs": [],
   "source": [
    "# append it is!\n",
    "\n",
    "scores.append(89)\n",
    "\n",
    "print(scores) "
   ]
  },
  {
   "cell_type": "markdown",
   "metadata": {},
   "source": [
    "It's possible to define a custom set of methods and attributes in order to create new **classes** of objects. We won't go into much depth about these here, though. (See: Lina's lesson on classes in Python)"
   ]
  },
  {
   "cell_type": "markdown",
   "metadata": {},
   "source": [
    "## List Comprehensions\n",
    "\n",
    "Let's say we want to get the original scores, out of 40. Is there a built-in method we could use in order to do the same thing to every item in a list?"
   ]
  },
  {
   "cell_type": "code",
   "execution_count": null,
   "metadata": {
    "collapsed": false,
    "scrolled": true
   },
   "outputs": [],
   "source": [
    "dir(mylist)"
   ]
  },
  {
   "cell_type": "markdown",
   "metadata": {},
   "source": [
    "Apparently not. Perhaps a for loop is the way to go? Let's test that out."
   ]
  },
  {
   "cell_type": "code",
   "execution_count": null,
   "metadata": {
    "collapsed": false,
    "scrolled": true
   },
   "outputs": [],
   "source": [
    "for i in range(len(scores)):\n",
    "    scores[i] = scores[i] * 0.4\n",
    "    \n",
    "print(scores)     "
   ]
  },
  {
   "cell_type": "markdown",
   "metadata": {},
   "source": [
    "Whoa, that's not right!"
   ]
  },
  {
   "cell_type": "code",
   "execution_count": null,
   "metadata": {
    "collapsed": false
   },
   "outputs": [],
   "source": [
    "print(scores) "
   ]
  },
  {
   "cell_type": "markdown",
   "metadata": {},
   "source": [
    "Looks like Python imported the data as a list of strings, save for that one 89% we appended.\n",
    "\n",
    "We need to find a way to change those strings to integers instead, and then multiply them by 0.4."
   ]
  },
  {
   "cell_type": "code",
   "execution_count": null,
   "metadata": {
    "collapsed": false
   },
   "outputs": [],
   "source": [
    "# this is one way?\n",
    "for num in scores:\n",
    "    if isinstance(num, str):\n",
    "        num = int(num)\n",
    "        num = num * 0.4\n",
    "    else:\n",
    "        pass"
   ]
  },
  {
   "cell_type": "code",
   "execution_count": null,
   "metadata": {
    "collapsed": true
   },
   "outputs": [],
   "source": [
    "# or - we could use a list comprehension!\n",
    "\n",
    "scores = [int(num)*0.4 for num in scores] \n",
    "\n",
    "# conditionals can also be included in list comprehensions - this is valid syntax\n",
    "\n",
    "scores = [int(num)*0.4 for num in scores if isinstance(num, str)] "
   ]
  },
  {
   "cell_type": "code",
   "execution_count": null,
   "metadata": {
    "collapsed": true
   },
   "outputs": [],
   "source": [
    "# else clauses in list comprehensions\n",
    "\n",
    "scores = [int(num)*0.4 if isinstance(num, str) else num*0.4 for num in scores] "
   ]
  },
  {
   "cell_type": "markdown",
   "metadata": {},
   "source": [
    "For large operations, list comprehensions are also faster than using `list.append`. When the latter is a part of a loop, Python looks up the list in memory at every single iteration, which can really slow things down for large lists. List comprehensions, on the other hand, do not require the look up operation. They're also far more visually compact while conveying the same amount of information."
   ]
  },
  {
   "cell_type": "code",
   "execution_count": null,
   "metadata": {
    "collapsed": false
   },
   "outputs": [],
   "source": [
    "print(scores)"
   ]
  },
  {
   "cell_type": "code",
   "execution_count": null,
   "metadata": {
    "collapsed": false
   },
   "outputs": [],
   "source": [
    "len(scores) "
   ]
  },
  {
   "cell_type": "markdown",
   "metadata": {},
   "source": [
    "Notice how the value we appended is gone. This is because we reassigned the list comprehension to `scores` above. Unlike `append`, list comprehensions do not alter an object in place - they are an object in their own right. It can sometimes be useful to print out a list comprehension to stdout before assigning it.\n",
    "\n",
    "For future reference, we could use an assertion to make sure we did things right. We'll talk about that further down."
   ]
  },
  {
   "cell_type": "code",
   "execution_count": null,
   "metadata": {
    "collapsed": true
   },
   "outputs": [],
   "source": [
    "# putting it all together - the right way, all along!\n",
    "\n",
    "with open('scores.txt','r') as f:\n",
    "     scores = [int(num) for num in f.read().split(',')] "
   ]
  },
  {
   "cell_type": "code",
   "execution_count": null,
   "metadata": {
    "collapsed": true
   },
   "outputs": [],
   "source": [
    "print(scores) "
   ]
  },
  {
   "cell_type": "markdown",
   "metadata": {},
   "source": [
    "## Control Flow Tools - Pass, Continue, Break"
   ]
  },
  {
   "cell_type": "markdown",
   "metadata": {},
   "source": [
    "So you'll notice that in that sample loop before the list comprehension, we used a 'pass' statement. Here it is again:"
   ]
  },
  {
   "cell_type": "code",
   "execution_count": null,
   "metadata": {
    "collapsed": true
   },
   "outputs": [],
   "source": [
    "for num in scores:\n",
    "    if isinstance(num, str):\n",
    "        num = int(num)\n",
    "        num = num * 0.4\n",
    "    else:\n",
    "        pass"
   ]
  },
  {
   "cell_type": "markdown",
   "metadata": {},
   "source": [
    "`pass` is part of a family of useful operators within Python that allow for more precise control flow operations."
   ]
  },
  {
   "cell_type": "code",
   "execution_count": null,
   "metadata": {
    "collapsed": true
   },
   "outputs": [],
   "source": [
    "mylist = [1,2,3,4,5,6,7] "
   ]
  },
  {
   "cell_type": "code",
   "execution_count": null,
   "metadata": {
    "collapsed": false
   },
   "outputs": [],
   "source": [
    "# pass is a placeholder\n",
    "for num in mylist:\n",
    "    if num%2 == 0:\n",
    "        pass\n",
    "    print(num)  "
   ]
  },
  {
   "cell_type": "code",
   "execution_count": null,
   "metadata": {
    "collapsed": false
   },
   "outputs": [],
   "source": [
    "# break will exit the loop\n",
    "for num in mylist:\n",
    "    if num%2 == 0:\n",
    "        break\n",
    "    print(num)  "
   ]
  },
  {
   "cell_type": "code",
   "execution_count": null,
   "metadata": {
    "collapsed": false
   },
   "outputs": [],
   "source": [
    "# continue will immediately jump to the next iteration\n",
    "for num in mylist:\n",
    "    if num%2 == 0:\n",
    "        continue\n",
    "    print(num)  "
   ]
  },
  {
   "cell_type": "code",
   "execution_count": null,
   "metadata": {
    "collapsed": false
   },
   "outputs": [],
   "source": [
    "mylist.append('hello')\n",
    "print(mylist) "
   ]
  },
  {
   "cell_type": "code",
   "execution_count": null,
   "metadata": {
    "collapsed": false
   },
   "outputs": [],
   "source": [
    "# pass is useful to make certain conditions explicit and take care of outside cases\n",
    "# while it's not 'necessary' here for the loop to function, it makes the operation clearer\n",
    "\n",
    "for i in range(len(mylist)):\n",
    "    if isinstance(mylist[i], int):\n",
    "        mylist[i] = mylist[i] * 0.5\n",
    "    elif isinstance(mylist[i], str):\n",
    "        pass\n",
    "    \n",
    "print(mylist)      "
   ]
  },
  {
   "cell_type": "markdown",
   "metadata": {},
   "source": [
    "## Assertions ('Sanity Checks')"
   ]
  },
  {
   "cell_type": "markdown",
   "metadata": {},
   "source": [
    "Let's say the following function was in the middle of a long script that runs input data through a series of operations."
   ]
  },
  {
   "cell_type": "code",
   "execution_count": null,
   "metadata": {
    "collapsed": true
   },
   "outputs": [],
   "source": [
    "def sumdoubles(x,y):\n",
    "    '''Multiplies inputs by 2, and returns their sum.'''\n",
    "    out = x*2 + y*2\n",
    "    return out"
   ]
  },
  {
   "cell_type": "code",
   "execution_count": null,
   "metadata": {
    "collapsed": false
   },
   "outputs": [],
   "source": [
    "sumdoubles(2,3) "
   ]
  },
  {
   "cell_type": "markdown",
   "metadata": {},
   "source": [
    "What happens if something goes wrong, and a pair of strings are somehow given as input?"
   ]
  },
  {
   "cell_type": "code",
   "execution_count": null,
   "metadata": {
    "collapsed": false
   },
   "outputs": [],
   "source": [
    "sumdoubles('hello', 'how goes?') "
   ]
  },
  {
   "cell_type": "markdown",
   "metadata": {},
   "source": [
    "That output could be really bad for the downstream parts of our script if they're expecting numerical input!"
   ]
  },
  {
   "cell_type": "code",
   "execution_count": null,
   "metadata": {
    "collapsed": true
   },
   "outputs": [],
   "source": [
    "# assertions are handy to avoid the propagation of errors\n",
    "\n",
    "def sumdoubles(x,y):\n",
    "    assert(not isinstance(x, str) and not isinstance(y, str))\n",
    "    out = x*2 + y*2\n",
    "    return out"
   ]
  },
  {
   "cell_type": "code",
   "execution_count": null,
   "metadata": {
    "collapsed": false
   },
   "outputs": [],
   "source": [
    "sumdoubles(2,3)"
   ]
  },
  {
   "cell_type": "code",
   "execution_count": null,
   "metadata": {
    "collapsed": false
   },
   "outputs": [],
   "source": [
    "sumdoubles(4,6.5)"
   ]
  },
  {
   "cell_type": "code",
   "execution_count": null,
   "metadata": {
    "collapsed": false
   },
   "outputs": [],
   "source": [
    "sumdoubles('hey', 'strings are cool') "
   ]
  },
  {
   "cell_type": "markdown",
   "metadata": {},
   "source": [
    "Assertions do stop a script in its tracks though. What if we want Python to ignore an error and move forward?"
   ]
  },
  {
   "cell_type": "markdown",
   "metadata": {},
   "source": [
    "## `try`/`except`"
   ]
  },
  {
   "cell_type": "code",
   "execution_count": null,
   "metadata": {
    "collapsed": true
   },
   "outputs": [],
   "source": [
    "newlist = [1,2,3,'a',4,5] "
   ]
  },
  {
   "cell_type": "code",
   "execution_count": null,
   "metadata": {
    "collapsed": false
   },
   "outputs": [],
   "source": [
    "for item in newlist:\n",
    "    print(item * 0.5) "
   ]
  },
  {
   "cell_type": "code",
   "execution_count": null,
   "metadata": {
    "collapsed": false
   },
   "outputs": [],
   "source": [
    "# but let's say we just want to ignore the string, instead of ceasing the operation\n",
    "\n",
    "for item in newlist:\n",
    "    try:\n",
    "        print(item * 0.5)\n",
    "    except TypeError:\n",
    "        print('ignored', item)  "
   ]
  }
 ],
 "metadata": {
  "anaconda-cloud": {},
  "kernelspec": {
   "display_name": "Python [default]",
   "language": "python",
   "name": "python3"
  },
  "language_info": {
   "codemirror_mode": {
    "name": "ipython",
    "version": 3
   },
   "file_extension": ".py",
   "mimetype": "text/x-python",
   "name": "python",
   "nbconvert_exporter": "python",
   "pygments_lexer": "ipython3",
   "version": "3.5.2"
  }
 },
 "nbformat": 4,
 "nbformat_minor": 2
}
