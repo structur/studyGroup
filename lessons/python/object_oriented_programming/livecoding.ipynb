{
 "cells": [
  {
   "cell_type": "code",
   "execution_count": null,
   "metadata": {},
   "outputs": [],
   "source": [
    "# create a class\n",
    "class Subject: \n",
    "    pass"
   ]
  },
  {
   "cell_type": "code",
   "execution_count": null,
   "metadata": {},
   "outputs": [],
   "source": [
    "S1 = Subject()\n",
    "S1.fname = \"Jane\"\n",
    "S1.lname = \"Doe\"\n",
    "S1.ID = 111\n",
    "S1.date_of_admission =\"2019_01_01\"\n",
    "\n",
    "S2 = Subject()\n",
    "S2.fname = \"John\"\n",
    "S2.lname = \"Smith\"\n",
    "S2.ID = 112\n",
    "S2.date_of_admission = \"2019_01_09\""
   ]
  },
  {
   "cell_type": "code",
   "execution_count": null,
   "metadata": {},
   "outputs": [],
   "source": [
    "print(S1.fname,S1.lname)"
   ]
  },
  {
   "cell_type": "code",
   "execution_count": null,
   "metadata": {},
   "outputs": [],
   "source": [
    "class Subject: \n",
    "    def fullname(self):\n",
    "        print(self.fname,self.lname)\n"
   ]
  },
  {
   "cell_type": "code",
   "execution_count": null,
   "metadata": {},
   "outputs": [],
   "source": [
    "S2.fullname()"
   ]
  },
  {
   "cell_type": "code",
   "execution_count": null,
   "metadata": {},
   "outputs": [],
   "source": [
    "class Subject: \n",
    "    def __init__(self, fname, lname, ID, date_of_admission):\n",
    "        self.fname = fname\n",
    "        self.lname = lname \n",
    "        self.ID = ID\n",
    "        self.date_of_admission = date_of_admission\n",
    "    \n",
    "    def fullname(self):\n",
    "        print(self.fname,self.lname)"
   ]
  },
  {
   "cell_type": "code",
   "execution_count": null,
   "metadata": {},
   "outputs": [],
   "source": [
    "S1 = Subject(\"Jane\", \"Doe\", 111, \"2019_01_01\")\n",
    "S2 = Subject(\"John\", \"Smith\", 112, \"2019_01_09\")"
   ]
  },
  {
   "cell_type": "code",
   "execution_count": null,
   "metadata": {},
   "outputs": [],
   "source": [
    "S1.fullname()"
   ]
  },
  {
   "cell_type": "code",
   "execution_count": null,
   "metadata": {},
   "outputs": [],
   "source": [
    "S1.reletives = S2"
   ]
  },
  {
   "cell_type": "code",
   "execution_count": null,
   "metadata": {},
   "outputs": [],
   "source": [
    "S1.reletives.fullname()"
   ]
  },
  {
   "cell_type": "code",
   "execution_count": null,
   "metadata": {},
   "outputs": [],
   "source": [
    "# example of a bank client database\n",
    "# create the Client class\n",
    "class Client(object):\n",
    "    def __init__(self, name, balance):\n",
    "        self.name = name\n",
    "        self.balance = balance + 100\n",
    "        \n",
    "        # define account level \n",
    "        if self.balance < 5000: \n",
    "            self.level = \"Basic\"\n",
    "        elif self.balance < 15000:\n",
    "            self.level = \"Intermediate\"\n",
    "        else: \n",
    "            self.level = \"Advanced\"\n",
    "            "
   ]
  },
  {
   "cell_type": "code",
   "execution_count": null,
   "metadata": {},
   "outputs": [],
   "source": [
    "# create two instances of this class (i.e. objects)\n",
    "C1 = Client(\"John Doe\", 500)\n",
    "C2 = Client(\"Jane Defoe\", 150000)"
   ]
  },
  {
   "cell_type": "code",
   "execution_count": null,
   "metadata": {},
   "outputs": [],
   "source": [
    "C2.level"
   ]
  },
  {
   "cell_type": "code",
   "execution_count": null,
   "metadata": {},
   "outputs": [],
   "source": [
    "C1.email = \"Jdoe@gmail.com\"\n",
    "C2.email = \"JaneDd@gmail.com\""
   ]
  },
  {
   "cell_type": "code",
   "execution_count": null,
   "metadata": {},
   "outputs": [],
   "source": [
    "del C1.email"
   ]
  },
  {
   "cell_type": "code",
   "execution_count": null,
   "metadata": {},
   "outputs": [],
   "source": [
    "Client.bank = \"TD\"\n",
    "Client.location = \"Toronto, ON\""
   ]
  },
  {
   "cell_type": "code",
   "execution_count": 15,
   "metadata": {},
   "outputs": [],
   "source": [
    "# create some methods for this class: update the object upon withdraw or deposit  of money\n",
    "class Client():\n",
    "    def __init__(self, name, balance):\n",
    "        self.name = name\n",
    "        self.balance = balance + 100\n",
    "        \n",
    "        # define account level \n",
    "        if self.balance < 5000: \n",
    "            self.level = \"Basic\"\n",
    "        elif self.balance < 15000:\n",
    "            self.level = \"Intermediate\"\n",
    "        else: \n",
    "            self.level = \"Advanced\"\n",
    "        \n",
    "    \n",
    "    def deposit(self, amount):\n",
    "            self.balance += amount         \n",
    "            # define account level \n",
    "            if self.balance < 5000: \n",
    "                self.level = \"Basic\"\n",
    "            elif self.balance < 15000:\n",
    "                self.level = \"Intermediate\"\n",
    "            else: \n",
    "                self.level = \"Advanced\"\n",
    "            return self.balance\n",
    "        \n",
    "            \n",
    "        \n",
    "    def withdraw(self, amount):\n",
    "            if amount > self.balance: \n",
    "                raise RuntimeError(\"Insufficient for withdrawal\")\n",
    "            else: \n",
    "                self.balance -= amount\n",
    "            return self.balance"
   ]
  },
  {
   "cell_type": "code",
   "execution_count": 21,
   "metadata": {},
   "outputs": [],
   "source": [
    "C1 = Client(\"John Doe\", 500)\n",
    "C2 = Client(\"Jane Defoe\", 150000)"
   ]
  },
  {
   "cell_type": "code",
   "execution_count": 17,
   "metadata": {},
   "outputs": [
    {
     "data": {
      "text/plain": [
       "150600"
      ]
     },
     "execution_count": 17,
     "metadata": {},
     "output_type": "execute_result"
    }
   ],
   "source": [
    "C1.deposit(150000)"
   ]
  },
  {
   "cell_type": "code",
   "execution_count": 18,
   "metadata": {},
   "outputs": [
    {
     "data": {
      "text/plain": [
       "'Advanced'"
      ]
     },
     "execution_count": 18,
     "metadata": {},
     "output_type": "execute_result"
    }
   ],
   "source": [
    "C1.level"
   ]
  },
  {
   "cell_type": "code",
   "execution_count": 19,
   "metadata": {},
   "outputs": [],
   "source": [
    "# define static method for Client \n",
    "\n",
    "class Client():\n",
    "    def __init__(self, name, balance):\n",
    "        self.name = name\n",
    "        self.balance = balance + 100\n",
    "        \n",
    "        # define account level \n",
    "        if self.balance < 5000: \n",
    "            self.level = \"Basic\"\n",
    "        elif self.balance < 15000:\n",
    "            self.level = \"Intermediate\"\n",
    "        else: \n",
    "            self.level = \"Advanced\"\n",
    "        \n",
    "    \n",
    "    def deposit(self, amount):\n",
    "            self.balance += amount         \n",
    "            # define account level \n",
    "            if self.balance < 5000: \n",
    "                self.level = \"Basic\"\n",
    "            elif self.balance < 15000:\n",
    "                self.level = \"Intermediate\"\n",
    "            else: \n",
    "                self.level = \"Advanced\"\n",
    "            return self.balance\n",
    "        \n",
    "            \n",
    "        \n",
    "    def withdraw(self, amount):\n",
    "            if amount > self.balance: \n",
    "                raise RuntimeError(\"Insufficient for withdrawal\")\n",
    "            else: \n",
    "                self.balance -= amount\n",
    "            return self.balance\n",
    "    \n",
    "    @staticmethod\n",
    "    def make_money_sound():\n",
    "        print(\"Cha_Ching!\")\n",
    "    \n",
    "    "
   ]
  },
  {
   "cell_type": "code",
   "execution_count": 20,
   "metadata": {},
   "outputs": [
    {
     "name": "stdout",
     "output_type": "stream",
     "text": [
      "Cha_Ching!\n"
     ]
    }
   ],
   "source": [
    "Client.make_money_sound()"
   ]
  },
  {
   "cell_type": "code",
   "execution_count": 22,
   "metadata": {},
   "outputs": [],
   "source": [
    "C1 = Client(\"John Doe\", 500)\n",
    "C2 = Client(\"Jane Defoe\", 150000)"
   ]
  },
  {
   "cell_type": "code",
   "execution_count": 27,
   "metadata": {},
   "outputs": [],
   "source": [
    "class Client(object):\n",
    "    bank = \"TD\"\n",
    "    location = \"Toronto, ON\"\n",
    "    \n",
    "    def __init__(self, name, balance):\n",
    "        self.name = name\n",
    "        self.balance = balance + 100\n",
    "        \n",
    "        # define account level \n",
    "        if self.balance < 5000: \n",
    "            self.level = \"Basic\"\n",
    "        elif self.balance < 15000:\n",
    "            self.level = \"Intermediate\"\n",
    "        else: \n",
    "            self.level = \"Advanced\"\n",
    "        \n",
    "    \n",
    "    def deposit(self, amount):\n",
    "            self.balance += amount         \n",
    "            # define account level \n",
    "            if self.balance < 5000: \n",
    "                self.level = \"Basic\"\n",
    "            elif self.balance < 15000:\n",
    "                self.level = \"Intermediate\"\n",
    "            else: \n",
    "                self.level = \"Advanced\"\n",
    "            return self.balance\n",
    "        \n",
    "            \n",
    "        \n",
    "    def withdraw(self, amount):\n",
    "            if amount > self.balance: \n",
    "                raise RuntimeError(\"Insufficient for withdrawal\")\n",
    "            else: \n",
    "                self.balance -= amount\n",
    "            return self.balance\n",
    "    \n",
    "    @classmethod \n",
    "    def bank_location(cls):\n",
    "        return str(cls.bank + \" \" + cls.location)"
   ]
  },
  {
   "cell_type": "code",
   "execution_count": 28,
   "metadata": {},
   "outputs": [
    {
     "data": {
      "text/plain": [
       "'TD Toronto, ON'"
      ]
     },
     "execution_count": 28,
     "metadata": {},
     "output_type": "execute_result"
    }
   ],
   "source": [
    "Client.bank_location()"
   ]
  },
  {
   "cell_type": "code",
   "execution_count": 31,
   "metadata": {},
   "outputs": [],
   "source": [
    "# create 'child' for Client class\n",
    "class Savings(Client):\n",
    "    interest_rate = 0.005\n",
    "    \n",
    "    def update_balance(self):\n",
    "        self.balance += self.balance*self.interest_rate\n",
    "        return self.balance "
   ]
  },
  {
   "cell_type": "code",
   "execution_count": 32,
   "metadata": {},
   "outputs": [],
   "source": [
    "C3 = Savings(\"Tom Smith\", 50)"
   ]
  },
  {
   "cell_type": "code",
   "execution_count": 35,
   "metadata": {},
   "outputs": [
    {
     "data": {
      "text/plain": [
       "'Basic'"
      ]
     },
     "execution_count": 35,
     "metadata": {},
     "output_type": "execute_result"
    }
   ],
   "source": [
    "C3.level"
   ]
  },
  {
   "cell_type": "code",
   "execution_count": 36,
   "metadata": {},
   "outputs": [],
   "source": [
    "def check_balance(self):\n",
    "    return self.balance"
   ]
  },
  {
   "cell_type": "code",
   "execution_count": 37,
   "metadata": {},
   "outputs": [],
   "source": [
    "Client.check_balance = check_balance"
   ]
  },
  {
   "cell_type": "code",
   "execution_count": 38,
   "metadata": {},
   "outputs": [
    {
     "data": {
      "text/plain": [
       "150"
      ]
     },
     "execution_count": 38,
     "metadata": {},
     "output_type": "execute_result"
    }
   ],
   "source": [
    "C3.check_balance()"
   ]
  },
  {
   "cell_type": "code",
   "execution_count": 1,
   "metadata": {},
   "outputs": [
    {
     "ename": "NameError",
     "evalue": "name 'Savings' is not defined",
     "output_type": "error",
     "traceback": [
      "\u001b[1;31m---------------------------------------------------------------------------\u001b[0m",
      "\u001b[1;31mNameError\u001b[0m                                 Traceback (most recent call last)",
      "\u001b[1;32m<ipython-input-1-2117205206e7>\u001b[0m in \u001b[0;36m<module>\u001b[1;34m\u001b[0m\n\u001b[1;32m----> 1\u001b[1;33m \u001b[1;32mclass\u001b[0m \u001b[0mblah\u001b[0m\u001b[1;33m(\u001b[0m\u001b[0mSavings\u001b[0m\u001b[1;33m)\u001b[0m\u001b[1;33m:\u001b[0m\u001b[1;33m\u001b[0m\u001b[0m\n\u001b[0m\u001b[0;32m      2\u001b[0m     \u001b[1;32mdef\u001b[0m \u001b[0mupdate_blah\u001b[0m\u001b[1;33m(\u001b[0m\u001b[0mself\u001b[0m\u001b[1;33m)\u001b[0m\u001b[1;33m:\u001b[0m\u001b[1;33m\u001b[0m\u001b[0m\n\u001b[0;32m      3\u001b[0m         \u001b[0mself\u001b[0m\u001b[1;33m.\u001b[0m\u001b[0mbalance\u001b[0m \u001b[1;33m+=\u001b[0m \u001b[0mself\u001b[0m\u001b[1;33m.\u001b[0m\u001b[0mbalance\u001b[0m \u001b[1;33m+\u001b[0m \u001b[1;36m2\u001b[0m\u001b[1;33m\u001b[0m\u001b[0m\n\u001b[0;32m      4\u001b[0m         \u001b[1;32mreturn\u001b[0m \u001b[0mself\u001b[0m\u001b[1;33m.\u001b[0m\u001b[0mbalance\u001b[0m\u001b[1;33m\u001b[0m\u001b[0m\n",
      "\u001b[1;31mNameError\u001b[0m: name 'Savings' is not defined"
     ]
    }
   ],
   "source": [
    "class blah(Savings):\n",
    "    def update_blah(self):\n",
    "        self.balance += self.balance + 2\n",
    "        return self.balance"
   ]
  },
  {
   "cell_type": "code",
   "execution_count": 40,
   "metadata": {},
   "outputs": [],
   "source": [
    "C4 = blah(\"TT\", 100)"
   ]
  },
  {
   "cell_type": "code",
   "execution_count": null,
   "metadata": {},
   "outputs": [],
   "source": [
    "C1."
   ]
  }
 ],
 "metadata": {
  "kernelspec": {
   "display_name": "Python 3",
   "language": "python",
   "name": "python3"
  },
  "language_info": {
   "codemirror_mode": {
    "name": "ipython",
    "version": 3
   },
   "file_extension": ".py",
   "mimetype": "text/x-python",
   "name": "python",
   "nbconvert_exporter": "python",
   "pygments_lexer": "ipython3",
   "version": "3.6.5"
  }
 },
 "nbformat": 4,
 "nbformat_minor": 4
}
