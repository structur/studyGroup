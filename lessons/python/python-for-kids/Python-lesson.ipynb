{
 "cells": [
  {
   "cell_type": "markdown",
   "metadata": {},
   "source": [
    "# Python for Youth \n",
    "- refer to last week's robotic session\n",
    "- Under the hood, languages like Python program translate human language to something the machine can understand (instructions)\n",
    "- Python is an open source general purpose language, used for many things from data science, to web development to app development, etc. \n",
    "- Python emphasizes readability, compared to older langauges many default functions and commands are read like plain English.\n",
    "- ask who has done programming, who has done Python \n",
    "- Introduce repl.it, not the only way, easy for first introduction without installation of anything. FORK the repl.it \n",
    "    and the online python interpreter that we useis here: https://repl.it/@UofTCoders/saturdayprogram\n",
    "    - explain stickies -> sometimes things go wrong, not a problem! part of the learning experience.\n",
    "    - we're all human!\n",
    "- Lesson outline:\n",
    "    - We learn python through a game, taken from [Code Club Projects](https://codeclubprojects.org/en-GB/python/)\n",
    "    - A brief intro to general python commands, syntax = the rules/grammar used that Python can always know what you're trying to say.\n",
    "        - going more in depth with what we did in the game and explaining\n",
    "     - you'll have an idea of python commands and syntax, and enough for you to go home and find tutorials for what you want to do, (almost anything!)\n",
    "     \n",
    "\n",
    "\n"
   ]
  },
  {
   "cell_type": "code",
   "execution_count": 3,
   "metadata": {},
   "outputs": [
    {
     "name": "stdout",
     "output_type": "stream",
     "text": [
      "s vs p\n",
      "Player wins!\n",
      ">8 vs p\n"
     ]
    }
   ],
   "source": [
    "# First, let the player choose Rock, Paper or Scissors by typing the letter ‘r’, ‘p’ or ‘s’\n",
    "# first create a prompt and explain\n",
    "input('what is your name?')\n",
    "      \n",
    "# for python to do anything with the result we need to save it in a variable which we can name anything but this is informative\n",
    "player = input('rock (r), paper (p) or scissors (s)?')\n",
    "\n",
    "# what did we just do? we used a built-in function in Python to prompt the user to input a letter in the console\n",
    "# and we assigned the input to a variable called 'player'. the = symbol indicates that what is on the right is assigned to the variable name on the left\n",
    "\n",
    "# what is a function like input or print? They let us do things with objects that we've made, like the player variable\n",
    "\n",
    "# Now print out what the player chose:\n",
    "#print(player)\n",
    "#print('you chose', player)\n",
    "# mention object type as string or integer\n",
    "#print(player, 'vs')\n",
    "print(player, 'vs', end=' ')\n",
    "\n",
    "\n",
    "# Second: Computer's Turn\n",
    "# Use 'randint' function to generate a random number to decide whether the computer has chosen rock, paper or scissors.\n",
    "# we need to import it from 'random' library\n",
    "from random import randint\n",
    "chosen = randint(1,3) # search google for how to use via documentation\n",
    "#print(chosen)\n",
    "#print('computer chose',chosen)\n",
    "\n",
    "# we like to print the letters not numbers. let's say 1 = rock, 2 = paper, 3=scissors\n",
    "# we can use if statement to assign letters to whatever number that is selected\n",
    "if chosen == 1: \n",
    "  computer = 'r' # 'O'\n",
    "elif chosen == 2: \n",
    "  computer = 'p' #'__'\n",
    "else: \n",
    "  computer = 's' #'>8'\n",
    "\n",
    "print(computer)\n",
    "# run a few times to show the random nature of the function\n",
    "# notice that we are not inside the if statement because we don't use indentation\n",
    "# a nicer output: \n",
    "#print(player, 'vs', computer)\n",
    "\n",
    "# let's add a code for determining the winner \n",
    "# we need to compare the 'player' and 'computer' variables\n",
    "# explain briefly booleans to compare\n",
    "if player == computer:\n",
    "  print('Draw!')\n",
    "elif player == 'r' and computer == 's':\n",
    "  print('player wins!')\n",
    "elif player == 'r' and computer =='p':\n",
    "  print('Computer wins!')\n",
    "elif player == 'p' and computer == 'r':\n",
    "  print('Player wins!')\n",
    "elif player == 'p' and computer == 's':\n",
    "  print('Computer wins!')\n",
    "elif player == 's' and computer == 'p':\n",
    "  print('Player wins!')\n",
    "elif player == 's' and computer == 'r':\n",
    "  print('Computer wins!')\n",
    "  \n",
    "# Challenge: Instead of using the letters r, p and s to represent rock, paper and scissors, can you use ASCII art?\n",
    "# O for rock, __ for paper, and >8 for scissors\n",
    "# so now change the lines you print the choices of the player and the computer in ASCII art \n",
    "\n",
    "#if player == 'r':\n",
    "#  print('O', 'vs', end=' ')\n",
    "#elif player == 'p':\n",
    "#  print('__', 'vs', end=' ')\n",
    "#else: \n",
    "#  print('>8', 'vs', end =' ')\n",
    "  \n",
    "if player == 'r':\n",
    "  print('O', 'vs', computer)\n",
    "elif player == 'p':\n",
    "  print('__', 'vs', computer )\n",
    "else: \n",
    "  print('>8', 'vs', computer)"
   ]
  },
  {
   "cell_type": "markdown",
   "metadata": {},
   "source": [
    "## summary\n",
    "What we learned today: \n",
    "- built-in functions like input prompt and print \n",
    "- variables\n",
    "- numbers and strings \n",
    "- libraries and functions like randint \n",
    "- if statements"
   ]
  },
  {
   "cell_type": "markdown",
   "metadata": {},
   "source": [
    "# review: \n",
    "## Variables "
   ]
  },
  {
   "cell_type": "code",
   "execution_count": null,
   "metadata": {},
   "outputs": [],
   "source": [
    "name = 'Sara'\n",
    "year = 2017\n",
    "# we can check the type of our variable using the type(variable_name) function\n",
    "print(type(name))\n",
    "#str is a string: a sequence of characters."
   ]
  },
  {
   "cell_type": "markdown",
   "metadata": {},
   "source": [
    "## Numbers\n",
    "You can use Python as a calculator: "
   ]
  },
  {
   "cell_type": "code",
   "execution_count": 4,
   "metadata": {},
   "outputs": [
    {
     "data": {
      "text/plain": [
       "15"
      ]
     },
     "execution_count": 4,
     "metadata": {},
     "output_type": "execute_result"
    }
   ],
   "source": [
    "7 + 8 "
   ]
  },
  {
   "cell_type": "code",
   "execution_count": 2,
   "metadata": {},
   "outputs": [
    {
     "data": {
      "text/plain": [
       "56"
      ]
     },
     "execution_count": 2,
     "metadata": {},
     "output_type": "execute_result"
    }
   ],
   "source": [
    "7*8"
   ]
  },
  {
   "cell_type": "code",
   "execution_count": 3,
   "metadata": {},
   "outputs": [
    {
     "data": {
      "text/plain": [
       "1"
      ]
     },
     "execution_count": 3,
     "metadata": {},
     "output_type": "execute_result"
    }
   ],
   "source": [
    "8%7"
   ]
  },
  {
   "cell_type": "code",
   "execution_count": 4,
   "metadata": {},
   "outputs": [
    {
     "data": {
      "text/plain": [
       "16"
      ]
     },
     "execution_count": 4,
     "metadata": {},
     "output_type": "execute_result"
    }
   ],
   "source": [
    "2**4"
   ]
  },
  {
   "cell_type": "markdown",
   "metadata": {},
   "source": [
    "Python's order of operations works just like math's:\n",
    "\n",
    "- Parentheses\n",
    "- Exponents\n",
    "- Multiplication and division\n",
    "- Addition and subtraction"
   ]
  },
  {
   "cell_type": "code",
   "execution_count": null,
   "metadata": {},
   "outputs": [],
   "source": [
    "16 ** 0.5\n",
    "16 ** (1/2)\n",
    "16 ** 1/2"
   ]
  },
  {
   "cell_type": "markdown",
   "metadata": {},
   "source": [
    "# Logic\n",
    "We've talked about how Python handles numbers already. Let's now turn to how it handles inequalities – things that are either true or false."
   ]
  },
  {
   "cell_type": "code",
   "execution_count": 5,
   "metadata": {},
   "outputs": [
    {
     "data": {
      "text/plain": [
       "True"
      ]
     },
     "execution_count": 5,
     "metadata": {},
     "output_type": "execute_result"
    }
   ],
   "source": [
    "6 > 0"
   ]
  },
  {
   "cell_type": "code",
   "execution_count": 6,
   "metadata": {},
   "outputs": [
    {
     "data": {
      "text/plain": [
       "False"
      ]
     },
     "execution_count": 6,
     "metadata": {},
     "output_type": "execute_result"
    }
   ],
   "source": [
    "4 == 6"
   ]
  },
  {
   "cell_type": "code",
   "execution_count": 7,
   "metadata": {},
   "outputs": [
    {
     "data": {
      "text/plain": [
       "True"
      ]
     },
     "execution_count": 7,
     "metadata": {},
     "output_type": "execute_result"
    }
   ],
   "source": [
    "4 <= 6"
   ]
  },
  {
   "cell_type": "code",
   "execution_count": 8,
   "metadata": {},
   "outputs": [
    {
     "data": {
      "text/plain": [
       "True"
      ]
     },
     "execution_count": 8,
     "metadata": {},
     "output_type": "execute_result"
    }
   ],
   "source": [
    "4 != 6"
   ]
  },
  {
   "cell_type": "markdown",
   "metadata": {},
   "source": [
    "you can continue here \n",
    "https://docs.trinket.io/getting-started-with-python#/logic/combining-boolean-expressions"
   ]
  },
  {
   "cell_type": "markdown",
   "metadata": {},
   "source": [
    "## Lists\n",
    "Python has two array-like things. The first is called a \"list\", which can hold any data types.\n",
    "After the .append() method, explain OOP briefly and why it's useful."
   ]
  },
  {
   "cell_type": "code",
   "execution_count": 9,
   "metadata": {},
   "outputs": [
    {
     "name": "stdout",
     "output_type": "stream",
     "text": [
      "['apple', 'banana', 'mango', 'lychee']\n"
     ]
    }
   ],
   "source": [
    "fruits = ['apple', 'banana', 'mango', 'lychee']\n",
    "print(fruits)\n"
   ]
  },
  {
   "cell_type": "code",
   "execution_count": 11,
   "metadata": {},
   "outputs": [
    {
     "name": "stdout",
     "output_type": "stream",
     "text": [
      "['apple', 'banana', 'mango', 'lychee', 'orange', 'orange']\n"
     ]
    }
   ],
   "source": [
    "fruits.append('orange')\n",
    "print(fruits)"
   ]
  },
  {
   "cell_type": "code",
   "execution_count": 12,
   "metadata": {},
   "outputs": [],
   "source": [
    "# lists don't need to comprise of all the same type \n",
    "misc = [29, 'dog', fruits]"
   ]
  },
  {
   "cell_type": "code",
   "execution_count": 13,
   "metadata": {},
   "outputs": [
    {
     "name": "stdout",
     "output_type": "stream",
     "text": [
      "[29, 'dog', ['apple', 'banana', 'mango', 'lychee', 'orange', 'orange']]\n"
     ]
    }
   ],
   "source": [
    "print(misc)\n"
   ]
  },
  {
   "cell_type": "code",
   "execution_count": 14,
   "metadata": {},
   "outputs": [
    {
     "name": "stdout",
     "output_type": "stream",
     "text": [
      "['apple', 'banana', 'mango', 'lychee', 'orange', 'orange', 'apple', 'banana', 'mango', 'lychee', 'orange', 'orange']\n"
     ]
    }
   ],
   "source": [
    "print(fruits + fruits)\n"
   ]
  },
  {
   "cell_type": "markdown",
   "metadata": {},
   "source": [
    "The second is called a \"tuple\", which is an immutable list (nothing can be added or subtracted) whose elements also can't be reassigned."
   ]
  },
  {
   "cell_type": "code",
   "execution_count": 15,
   "metadata": {},
   "outputs": [
    {
     "name": "stdout",
     "output_type": "stream",
     "text": [
      "(1, 2)\n"
     ]
    }
   ],
   "source": [
    "tup1 = (1,2)\n",
    "print(tup1)"
   ]
  },
  {
   "cell_type": "markdown",
   "metadata": {},
   "source": [
    "## Indexing and Slicing\n"
   ]
  },
  {
   "cell_type": "code",
   "execution_count": null,
   "metadata": {},
   "outputs": [],
   "source": [
    "#indexing in Python starts at 0, not 1 (like in Matlab or Oracle)\n",
    "print(fruits[0])"
   ]
  },
  {
   "cell_type": "code",
   "execution_count": null,
   "metadata": {},
   "outputs": [],
   "source": [
    "print(fruits[1])\n"
   ]
  },
  {
   "cell_type": "code",
   "execution_count": null,
   "metadata": {},
   "outputs": [],
   "source": [
    "\n",
    "# strings are just a particular kind of list\n",
    "s = 'This is a string.'"
   ]
  },
  {
   "cell_type": "code",
   "execution_count": null,
   "metadata": {},
   "outputs": [],
   "source": [
    "print(s[0])\n"
   ]
  },
  {
   "cell_type": "code",
   "execution_count": null,
   "metadata": {},
   "outputs": [],
   "source": [
    "# use -1 to get the last element\n",
    "print(fruits[-1])"
   ]
  },
  {
   "cell_type": "code",
   "execution_count": null,
   "metadata": {},
   "outputs": [],
   "source": [
    "print(fruits[-2])\n"
   ]
  },
  {
   "cell_type": "code",
   "execution_count": null,
   "metadata": {},
   "outputs": [],
   "source": [
    "# to get a slice of the string use the : symbol\n",
    "print(s[0:4])"
   ]
  },
  {
   "cell_type": "code",
   "execution_count": null,
   "metadata": {},
   "outputs": [],
   "source": [
    "print(s[:4])\n"
   ]
  },
  {
   "cell_type": "code",
   "execution_count": null,
   "metadata": {},
   "outputs": [],
   "source": [
    "print(s[4:7])\n"
   ]
  },
  {
   "cell_type": "code",
   "execution_count": 16,
   "metadata": {},
   "outputs": [
    {
     "ename": "NameError",
     "evalue": "name 's' is not defined",
     "output_type": "error",
     "traceback": [
      "\u001b[1;31m---------------------------------------------------------------------------\u001b[0m",
      "\u001b[1;31mNameError\u001b[0m                                 Traceback (most recent call last)",
      "\u001b[1;32m<ipython-input-16-ca10691ae8a9>\u001b[0m in \u001b[0;36m<module>\u001b[1;34m()\u001b[0m\n\u001b[1;32m----> 1\u001b[1;33m \u001b[0mprint\u001b[0m\u001b[1;33m(\u001b[0m\u001b[0ms\u001b[0m\u001b[1;33m[\u001b[0m\u001b[1;36m7\u001b[0m\u001b[1;33m:\u001b[0m\u001b[1;33m]\u001b[0m\u001b[1;33m)\u001b[0m\u001b[1;33m\u001b[0m\u001b[0m\n\u001b[0m\u001b[0;32m      2\u001b[0m \u001b[0mprint\u001b[0m\u001b[1;33m(\u001b[0m\u001b[0ms\u001b[0m\u001b[1;33m[\u001b[0m\u001b[1;36m7\u001b[0m\u001b[1;33m:\u001b[0m\u001b[0mlen\u001b[0m\u001b[1;33m(\u001b[0m\u001b[0ms\u001b[0m\u001b[1;33m)\u001b[0m\u001b[1;33m]\u001b[0m\u001b[1;33m)\u001b[0m\u001b[1;33m\u001b[0m\u001b[0m\n",
      "\u001b[1;31mNameError\u001b[0m: name 's' is not defined"
     ]
    }
   ],
   "source": [
    "print(s[7:])\n",
    "print(s[7:len(s)])"
   ]
  },
  {
   "cell_type": "markdown",
   "metadata": {},
   "source": [
    "## For Loops\n"
   ]
  },
  {
   "cell_type": "code",
   "execution_count": 17,
   "metadata": {},
   "outputs": [],
   "source": [
    "nums = [23, 56, 1, 10, 15, 0]"
   ]
  },
  {
   "cell_type": "code",
   "execution_count": null,
   "metadata": {},
   "outputs": [],
   "source": [
    "# in this case, 'n' is a dummy variable that will be used by the for loop\n",
    "# you do not need to assign it ahead of time\n",
    "\n",
    "for n in nums:\n",
    "    if n%2 == 0:\n",
    "        print('even')\n",
    "    else:\n",
    "        print('odd')"
   ]
  },
  {
   "cell_type": "code",
   "execution_count": null,
   "metadata": {},
   "outputs": [],
   "source": [
    "# for loops can iterate over strings as well\n",
    "vowels = 'aeiou'\n",
    "for vowel in vowels:\n",
    "    print(vowel)"
   ]
  },
  {
   "cell_type": "markdown",
   "metadata": {},
   "source": [
    "## Functions"
   ]
  },
  {
   "cell_type": "code",
   "execution_count": 18,
   "metadata": {},
   "outputs": [],
   "source": [
    "# always use descriptive naming for functions, variables, arguments etc.\n",
    "def sum_of_squares(num1, num2):\n",
    "    \"\"\"\n",
    "    Input: two numbers\n",
    "    Output: the sum of the squares of the two numbers\n",
    "    \"\"\"\n",
    "    ss = num1**2 + num2**2\n",
    "    return(ss)\n",
    "\n",
    "# The stuff inside \"\"\" \"\"\" is called the \"docstring\". It can be accessed by typing help(sum_of_squares)"
   ]
  },
  {
   "cell_type": "code",
   "execution_count": null,
   "metadata": {},
   "outputs": [],
   "source": [
    "print(sum_of_squares(4,2))"
   ]
  },
  {
   "cell_type": "code",
   "execution_count": 19,
   "metadata": {},
   "outputs": [
    {
     "name": "stdout",
     "output_type": "stream",
     "text": [
      "50\n"
     ]
    }
   ],
   "source": [
    "# the return statement in a function allows us to store the output of a function call in a variable for later use\n",
    "ss1 = sum_of_squares(5,5)\n",
    "print(ss1)"
   ]
  },
  {
   "cell_type": "markdown",
   "metadata": {},
   "source": [
    "## Useful Packages"
   ]
  },
  {
   "cell_type": "code",
   "execution_count": null,
   "metadata": {},
   "outputs": [],
   "source": [
    "# use a package by importing it, you can also give it a shorter alias, in this case 'np'\n",
    "import numpy as np\n",
    "array = np.arange(15)\n",
    "lst = list(range(15))\n",
    "print(array)\n",
    "print(lst)"
   ]
  },
  {
   "cell_type": "code",
   "execution_count": null,
   "metadata": {},
   "outputs": [],
   "source": [
    "print(type(array))\n",
    "print(type(lst))"
   ]
  },
  {
   "cell_type": "code",
   "execution_count": null,
   "metadata": {},
   "outputs": [],
   "source": [
    "# numpy arrays allow for vectorized calculations\n",
    "print(array*2)\n",
    "print(lst*2)"
   ]
  },
  {
   "cell_type": "code",
   "execution_count": null,
   "metadata": {},
   "outputs": [],
   "source": [
    "array = array.reshape([5,3])\n",
    "print(array)"
   ]
  },
  {
   "cell_type": "code",
   "execution_count": null,
   "metadata": {},
   "outputs": [],
   "source": [
    "# we can get the mean over all rows (using axis=1)\n",
    "array.mean(axis=1)"
   ]
  },
  {
   "cell_type": "code",
   "execution_count": null,
   "metadata": {},
   "outputs": [],
   "source": [
    "# max value in each column\n",
    "array.max(axis=0)"
   ]
  },
  {
   "cell_type": "code",
   "execution_count": 23,
   "metadata": {},
   "outputs": [],
   "source": [
    "import pandas as pd"
   ]
  },
  {
   "cell_type": "code",
   "execution_count": 24,
   "metadata": {},
   "outputs": [],
   "source": [
    "\n",
    "# this will read in a csv file into a pandas DataFrame\n",
    "# this csv has data of country spending on healthcare\n",
    "data = pd.read_csv('health.csv', header=0, index_col=0, encoding=\"ISO-8859-1\")"
   ]
  },
  {
   "cell_type": "code",
   "execution_count": 25,
   "metadata": {},
   "outputs": [
    {
     "data": {
      "text/html": [
       "<div>\n",
       "<style scoped>\n",
       "    .dataframe tbody tr th:only-of-type {\n",
       "        vertical-align: middle;\n",
       "    }\n",
       "\n",
       "    .dataframe tbody tr th {\n",
       "        vertical-align: top;\n",
       "    }\n",
       "\n",
       "    .dataframe thead th {\n",
       "        text-align: right;\n",
       "    }\n",
       "</style>\n",
       "<table border=\"1\" class=\"dataframe\">\n",
       "  <thead>\n",
       "    <tr style=\"text-align: right;\">\n",
       "      <th></th>\n",
       "      <th>1995</th>\n",
       "      <th>1996</th>\n",
       "      <th>1997</th>\n",
       "      <th>1998</th>\n",
       "      <th>1999</th>\n",
       "      <th>2000</th>\n",
       "      <th>2001</th>\n",
       "      <th>2002</th>\n",
       "      <th>2003</th>\n",
       "      <th>2004</th>\n",
       "      <th>2005</th>\n",
       "      <th>2006</th>\n",
       "      <th>2007</th>\n",
       "      <th>2008</th>\n",
       "      <th>2009</th>\n",
       "      <th>2010</th>\n",
       "    </tr>\n",
       "    <tr>\n",
       "      <th>Total expenditure on health as percentage of GDP (gross domestic product)</th>\n",
       "      <th></th>\n",
       "      <th></th>\n",
       "      <th></th>\n",
       "      <th></th>\n",
       "      <th></th>\n",
       "      <th></th>\n",
       "      <th></th>\n",
       "      <th></th>\n",
       "      <th></th>\n",
       "      <th></th>\n",
       "      <th></th>\n",
       "      <th></th>\n",
       "      <th></th>\n",
       "      <th></th>\n",
       "      <th></th>\n",
       "      <th></th>\n",
       "    </tr>\n",
       "  </thead>\n",
       "  <tbody>\n",
       "    <tr>\n",
       "      <th>Abkhazia</th>\n",
       "      <td>NaN</td>\n",
       "      <td>NaN</td>\n",
       "      <td>NaN</td>\n",
       "      <td>NaN</td>\n",
       "      <td>NaN</td>\n",
       "      <td>NaN</td>\n",
       "      <td>NaN</td>\n",
       "      <td>NaN</td>\n",
       "      <td>NaN</td>\n",
       "      <td>NaN</td>\n",
       "      <td>NaN</td>\n",
       "      <td>NaN</td>\n",
       "      <td>NaN</td>\n",
       "      <td>NaN</td>\n",
       "      <td>NaN</td>\n",
       "      <td>NaN</td>\n",
       "    </tr>\n",
       "    <tr>\n",
       "      <th>Afghanistan</th>\n",
       "      <td>NaN</td>\n",
       "      <td>NaN</td>\n",
       "      <td>NaN</td>\n",
       "      <td>NaN</td>\n",
       "      <td>NaN</td>\n",
       "      <td>NaN</td>\n",
       "      <td>NaN</td>\n",
       "      <td>5.7</td>\n",
       "      <td>6.8</td>\n",
       "      <td>6.4</td>\n",
       "      <td>6.6</td>\n",
       "      <td>6.8</td>\n",
       "      <td>7.3</td>\n",
       "      <td>7.0</td>\n",
       "      <td>7.6</td>\n",
       "      <td>7.6</td>\n",
       "    </tr>\n",
       "    <tr>\n",
       "      <th>Akrotiri and Dhekelia</th>\n",
       "      <td>NaN</td>\n",
       "      <td>NaN</td>\n",
       "      <td>NaN</td>\n",
       "      <td>NaN</td>\n",
       "      <td>NaN</td>\n",
       "      <td>NaN</td>\n",
       "      <td>NaN</td>\n",
       "      <td>NaN</td>\n",
       "      <td>NaN</td>\n",
       "      <td>NaN</td>\n",
       "      <td>NaN</td>\n",
       "      <td>NaN</td>\n",
       "      <td>NaN</td>\n",
       "      <td>NaN</td>\n",
       "      <td>NaN</td>\n",
       "      <td>NaN</td>\n",
       "    </tr>\n",
       "    <tr>\n",
       "      <th>Albania</th>\n",
       "      <td>2.6</td>\n",
       "      <td>4.0</td>\n",
       "      <td>4.8</td>\n",
       "      <td>5.3</td>\n",
       "      <td>5.8</td>\n",
       "      <td>6.4</td>\n",
       "      <td>6.0</td>\n",
       "      <td>6.3</td>\n",
       "      <td>6.2</td>\n",
       "      <td>6.9</td>\n",
       "      <td>6.8</td>\n",
       "      <td>6.7</td>\n",
       "      <td>6.9</td>\n",
       "      <td>6.7</td>\n",
       "      <td>6.9</td>\n",
       "      <td>6.5</td>\n",
       "    </tr>\n",
       "    <tr>\n",
       "      <th>Algeria</th>\n",
       "      <td>4.2</td>\n",
       "      <td>3.8</td>\n",
       "      <td>4.1</td>\n",
       "      <td>4.1</td>\n",
       "      <td>3.9</td>\n",
       "      <td>3.5</td>\n",
       "      <td>3.8</td>\n",
       "      <td>3.9</td>\n",
       "      <td>3.7</td>\n",
       "      <td>3.4</td>\n",
       "      <td>3.1</td>\n",
       "      <td>3.1</td>\n",
       "      <td>3.5</td>\n",
       "      <td>3.7</td>\n",
       "      <td>4.6</td>\n",
       "      <td>4.2</td>\n",
       "    </tr>\n",
       "  </tbody>\n",
       "</table>\n",
       "</div>"
      ],
      "text/plain": [
       "                                                    1995  1996  1997  1998  \\\n",
       "Total expenditure on health as percentage of GD...                           \n",
       "Abkhazia                                             NaN   NaN   NaN   NaN   \n",
       "Afghanistan                                          NaN   NaN   NaN   NaN   \n",
       "Akrotiri and Dhekelia                                NaN   NaN   NaN   NaN   \n",
       "Albania                                              2.6   4.0   4.8   5.3   \n",
       "Algeria                                              4.2   3.8   4.1   4.1   \n",
       "\n",
       "                                                    1999  2000  2001  2002  \\\n",
       "Total expenditure on health as percentage of GD...                           \n",
       "Abkhazia                                             NaN   NaN   NaN   NaN   \n",
       "Afghanistan                                          NaN   NaN   NaN   5.7   \n",
       "Akrotiri and Dhekelia                                NaN   NaN   NaN   NaN   \n",
       "Albania                                              5.8   6.4   6.0   6.3   \n",
       "Algeria                                              3.9   3.5   3.8   3.9   \n",
       "\n",
       "                                                    2003  2004  2005  2006  \\\n",
       "Total expenditure on health as percentage of GD...                           \n",
       "Abkhazia                                             NaN   NaN   NaN   NaN   \n",
       "Afghanistan                                          6.8   6.4   6.6   6.8   \n",
       "Akrotiri and Dhekelia                                NaN   NaN   NaN   NaN   \n",
       "Albania                                              6.2   6.9   6.8   6.7   \n",
       "Algeria                                              3.7   3.4   3.1   3.1   \n",
       "\n",
       "                                                    2007  2008  2009  2010  \n",
       "Total expenditure on health as percentage of GD...                          \n",
       "Abkhazia                                             NaN   NaN   NaN   NaN  \n",
       "Afghanistan                                          7.3   7.0   7.6   7.6  \n",
       "Akrotiri and Dhekelia                                NaN   NaN   NaN   NaN  \n",
       "Albania                                              6.9   6.7   6.9   6.5  \n",
       "Algeria                                              3.5   3.7   4.6   4.2  "
      ]
     },
     "execution_count": 25,
     "metadata": {},
     "output_type": "execute_result"
    }
   ],
   "source": [
    "# the .head() function will allow us to look at first few lines of the dataframe\n",
    "data.head()"
   ]
  },
  {
   "cell_type": "code",
   "execution_count": 26,
   "metadata": {},
   "outputs": [
    {
     "data": {
      "text/plain": [
       "10.300000000000001"
      ]
     },
     "execution_count": 26,
     "metadata": {},
     "output_type": "execute_result"
    }
   ],
   "source": [
    "# by default, rows are indicated first, followed by the column: [row, column]\n",
    "data.loc['Canada', '2008']"
   ]
  },
  {
   "cell_type": "code",
   "execution_count": 27,
   "metadata": {},
   "outputs": [
    {
     "data": {
      "text/html": [
       "<div>\n",
       "<style scoped>\n",
       "    .dataframe tbody tr th:only-of-type {\n",
       "        vertical-align: middle;\n",
       "    }\n",
       "\n",
       "    .dataframe tbody tr th {\n",
       "        vertical-align: top;\n",
       "    }\n",
       "\n",
       "    .dataframe thead th {\n",
       "        text-align: right;\n",
       "    }\n",
       "</style>\n",
       "<table border=\"1\" class=\"dataframe\">\n",
       "  <thead>\n",
       "    <tr style=\"text-align: right;\">\n",
       "      <th></th>\n",
       "      <th>1999</th>\n",
       "      <th>2000</th>\n",
       "      <th>2001</th>\n",
       "    </tr>\n",
       "    <tr>\n",
       "      <th>Total expenditure on health as percentage of GDP (gross domestic product)</th>\n",
       "      <th></th>\n",
       "      <th></th>\n",
       "      <th></th>\n",
       "    </tr>\n",
       "  </thead>\n",
       "  <tbody>\n",
       "    <tr>\n",
       "      <th>Canada</th>\n",
       "      <td>8.9</td>\n",
       "      <td>8.8</td>\n",
       "      <td>9.3</td>\n",
       "    </tr>\n",
       "    <tr>\n",
       "      <th>Cape Verde</th>\n",
       "      <td>4.5</td>\n",
       "      <td>4.6</td>\n",
       "      <td>5.0</td>\n",
       "    </tr>\n",
       "    <tr>\n",
       "      <th>Cayman Islands</th>\n",
       "      <td>NaN</td>\n",
       "      <td>NaN</td>\n",
       "      <td>NaN</td>\n",
       "    </tr>\n",
       "    <tr>\n",
       "      <th>Central African Republic</th>\n",
       "      <td>3.5</td>\n",
       "      <td>3.8</td>\n",
       "      <td>3.8</td>\n",
       "    </tr>\n",
       "    <tr>\n",
       "      <th>Chad</th>\n",
       "      <td>5.9</td>\n",
       "      <td>6.3</td>\n",
       "      <td>6.0</td>\n",
       "    </tr>\n",
       "    <tr>\n",
       "      <th>Channel Islands</th>\n",
       "      <td>NaN</td>\n",
       "      <td>NaN</td>\n",
       "      <td>NaN</td>\n",
       "    </tr>\n",
       "    <tr>\n",
       "      <th>Chile</th>\n",
       "      <td>8.2</td>\n",
       "      <td>8.3</td>\n",
       "      <td>8.4</td>\n",
       "    </tr>\n",
       "    <tr>\n",
       "      <th>China</th>\n",
       "      <td>4.5</td>\n",
       "      <td>4.6</td>\n",
       "      <td>4.6</td>\n",
       "    </tr>\n",
       "    <tr>\n",
       "      <th>Christmas Island</th>\n",
       "      <td>NaN</td>\n",
       "      <td>NaN</td>\n",
       "      <td>NaN</td>\n",
       "    </tr>\n",
       "    <tr>\n",
       "      <th>Cocos Island</th>\n",
       "      <td>NaN</td>\n",
       "      <td>NaN</td>\n",
       "      <td>NaN</td>\n",
       "    </tr>\n",
       "    <tr>\n",
       "      <th>Colombia</th>\n",
       "      <td>9.3</td>\n",
       "      <td>7.3</td>\n",
       "      <td>7.3</td>\n",
       "    </tr>\n",
       "    <tr>\n",
       "      <th>Comoros</th>\n",
       "      <td>3.2</td>\n",
       "      <td>2.9</td>\n",
       "      <td>2.3</td>\n",
       "    </tr>\n",
       "    <tr>\n",
       "      <th>Congo, Dem. Rep.</th>\n",
       "      <td>4.3</td>\n",
       "      <td>4.9</td>\n",
       "      <td>4.4</td>\n",
       "    </tr>\n",
       "    <tr>\n",
       "      <th>Congo, Rep.</th>\n",
       "      <td>3.1</td>\n",
       "      <td>2.1</td>\n",
       "      <td>2.4</td>\n",
       "    </tr>\n",
       "    <tr>\n",
       "      <th>Cook Is</th>\n",
       "      <td>3.5</td>\n",
       "      <td>3.4</td>\n",
       "      <td>4.6</td>\n",
       "    </tr>\n",
       "    <tr>\n",
       "      <th>Costa Rica</th>\n",
       "      <td>6.2</td>\n",
       "      <td>6.5</td>\n",
       "      <td>7.1</td>\n",
       "    </tr>\n",
       "    <tr>\n",
       "      <th>Cote d'Ivoire</th>\n",
       "      <td>5.6</td>\n",
       "      <td>5.1</td>\n",
       "      <td>4.0</td>\n",
       "    </tr>\n",
       "    <tr>\n",
       "      <th>Croatia</th>\n",
       "      <td>7.3</td>\n",
       "      <td>7.8</td>\n",
       "      <td>7.2</td>\n",
       "    </tr>\n",
       "    <tr>\n",
       "      <th>Cuba</th>\n",
       "      <td>6.0</td>\n",
       "      <td>6.1</td>\n",
       "      <td>6.3</td>\n",
       "    </tr>\n",
       "    <tr>\n",
       "      <th>Cyprus</th>\n",
       "      <td>5.6</td>\n",
       "      <td>5.8</td>\n",
       "      <td>5.8</td>\n",
       "    </tr>\n",
       "    <tr>\n",
       "      <th>Czech Republic</th>\n",
       "      <td>6.3</td>\n",
       "      <td>6.3</td>\n",
       "      <td>6.4</td>\n",
       "    </tr>\n",
       "    <tr>\n",
       "      <th>Czechoslovakia</th>\n",
       "      <td>NaN</td>\n",
       "      <td>NaN</td>\n",
       "      <td>NaN</td>\n",
       "    </tr>\n",
       "    <tr>\n",
       "      <th>Denmark</th>\n",
       "      <td>9.0</td>\n",
       "      <td>8.7</td>\n",
       "      <td>9.1</td>\n",
       "    </tr>\n",
       "  </tbody>\n",
       "</table>\n",
       "</div>"
      ],
      "text/plain": [
       "                                                    1999  2000  2001\n",
       "Total expenditure on health as percentage of GD...                  \n",
       "Canada                                               8.9   8.8   9.3\n",
       "Cape Verde                                           4.5   4.6   5.0\n",
       "Cayman Islands                                       NaN   NaN   NaN\n",
       "Central African Republic                             3.5   3.8   3.8\n",
       "Chad                                                 5.9   6.3   6.0\n",
       "Channel Islands                                      NaN   NaN   NaN\n",
       "Chile                                                8.2   8.3   8.4\n",
       "China                                                4.5   4.6   4.6\n",
       "Christmas Island                                     NaN   NaN   NaN\n",
       "Cocos Island                                         NaN   NaN   NaN\n",
       "Colombia                                             9.3   7.3   7.3\n",
       "Comoros                                              3.2   2.9   2.3\n",
       "Congo, Dem. Rep.                                     4.3   4.9   4.4\n",
       "Congo, Rep.                                          3.1   2.1   2.4\n",
       "Cook Is                                              3.5   3.4   4.6\n",
       "Costa Rica                                           6.2   6.5   7.1\n",
       "Cote d'Ivoire                                        5.6   5.1   4.0\n",
       "Croatia                                              7.3   7.8   7.2\n",
       "Cuba                                                 6.0   6.1   6.3\n",
       "Cyprus                                               5.6   5.8   5.8\n",
       "Czech Republic                                       6.3   6.3   6.4\n",
       "Czechoslovakia                                       NaN   NaN   NaN\n",
       "Denmark                                              9.0   8.7   9.1"
      ]
     },
     "execution_count": 27,
     "metadata": {},
     "output_type": "execute_result"
    }
   ],
   "source": [
    "# you can also slice a dataframe\n",
    "data.loc['Canada':'Denmark', '1999':'2001']"
   ]
  },
  {
   "cell_type": "code",
   "execution_count": 28,
   "metadata": {},
   "outputs": [],
   "source": [
    "%matplotlib inline\n",
    "import matplotlib.pyplot as plt"
   ]
  },
  {
   "cell_type": "code",
   "execution_count": 29,
   "metadata": {},
   "outputs": [
    {
     "data": {
      "text/plain": [
       "<matplotlib.legend.Legend at 0x1bdd8cb7160>"
      ]
     },
     "execution_count": 29,
     "metadata": {},
     "output_type": "execute_result"
    },
    {
     "data": {
      "image/png": "[encoded data removed]",
      "text/plain": [
       "<matplotlib.figure.Figure at 0x1bdd8b17f98>"
      ]
     },
     "metadata": {},
     "output_type": "display_data"
    }
   ],
   "source": [
    "# the .plot() function will create a simple graph for you to quickly visualize your data\n",
    "data.loc['Denmark'].plot()\n",
    "data.loc['Canada'].plot()\n",
    "data.loc['India'].plot()\n",
    "plt.legend(loc='best')\n",
    "plt.savefig(\"countries_healthexpenditure.png\")"
   ]
  },
  {
   "cell_type": "markdown",
   "metadata": {},
   "source": [
    "# Guessing game\n",
    "if we have extra time, we can play another game: "
   ]
  },
  {
   "cell_type": "code",
   "execution_count": null,
   "metadata": {},
   "outputs": [],
   "source": []
  },
  {
   "cell_type": "code",
   "execution_count": 1,
   "metadata": {},
   "outputs": [
    {
     "name": "stdout",
     "output_type": "stream",
     "text": [
      "Hello Sara.\n",
      "I'm thinking of a number between 1 & 10\n",
      "Guess Higher\n",
      "Guess Higher\n",
      "Guess Higher\n",
      "Guess Higher\n",
      "Guess Higher\n",
      "Congrats, you guessed correctly. The number was indeed 10\n",
      "it had taken you 6 tries\n"
     ]
    }
   ],
   "source": [
    "import random\n",
    "\n",
    "number = random.randint(1, 10)\n",
    "tries = 0\n",
    "win = False # setting a win flag to false\n",
    "\n",
    "\n",
    "name = input(\"Hello, What is your username?\")\n",
    "print(\"Hello \" + name + \".\" )\n",
    "\n",
    "question = input(\"Would you like to play a game? [Y/N] \")\n",
    "if question.lower() == \"n\": #in case of capital letters is entered\n",
    "    print(\"oh..okay\")\n",
    "    exit()\n",
    "elif question.lower() == \"y\":\n",
    "    print(\"I'm thinking of a number between 1 & 10\")\n",
    "\n",
    "while not win:       # while the win is not true, run the while loop. We set win to false at the start therefore this will always run\n",
    "    guess = int(input(\"Have a guess: \"))\n",
    "    tries = tries + 1\n",
    "    if guess == number:\n",
    "        win = True    # set win to true when the user guesses correctly.\n",
    "    elif guess < number:\n",
    "        print(\"Guess Higher\")\n",
    "    elif guess > number:\n",
    "        print(\"Guess Lower\")\n",
    "# if win is true then output message\n",
    "print(\"Congrats, you guessed correctly. The number was indeed {}\".format(number))\n",
    "print(\"it had taken you {} tries\".format(tries))"
   ]
  },
  {
   "cell_type": "code",
   "execution_count": null,
   "metadata": {},
   "outputs": [],
   "source": []
  }
 ],
 "metadata": {
  "kernelspec": {
   "display_name": "Python 3",
   "language": "python",
   "name": "python3"
  },
  "language_info": {
   "codemirror_mode": {
    "name": "ipython",
    "version": 3
   },
   "file_extension": ".py",
   "mimetype": "text/x-python",
   "name": "python",
   "nbconvert_exporter": "python",
   "pygments_lexer": "ipython3",
   "version": "3.6.5"
  }
 },
 "nbformat": 4,
 "nbformat_minor": 2
}
