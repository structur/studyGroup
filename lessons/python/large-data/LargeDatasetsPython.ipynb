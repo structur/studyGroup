{
 "cells": [
  {
   "cell_type": "code",
   "execution_count": null,
   "metadata": {
    "collapsed": true
   },
   "outputs": [],
   "source": [
    "\"\"\"This lesson used some personal genome sequencing data as well as packages I wrote myself.\n",
    "The code in custom packages MotifMatcher and MotifFinder is found \n",
    "in the Coursera class Biology Meets Progamming, with modifications.\n",
    "\"\"\""
   ]
  },
  {
   "cell_type": "code",
   "execution_count": 165,
   "metadata": {
    "collapsed": true
   },
   "outputs": [],
   "source": [
    "#Use pandas.DataFrame to store DNA chip results\n",
    "\n",
    "import pandas as pd"
   ]
  },
  {
   "cell_type": "code",
   "execution_count": 190,
   "metadata": {
    "collapsed": false
   },
   "outputs": [
    {
     "name": "stdout",
     "output_type": "stream",
     "text": [
      "         rsid  chromosome   position genotype\n",
      "0   rs4988235           2  136608646       GG\n",
      "1     rs53576           3    8804371       GG\n",
      "2  rs12248560          10   96521657       CC\n",
      "3  rs28399504          10   96522463       AA\n",
      "4  rs41291556          10   96535173       TT\n",
      "5   rs4986893          10   96540410       GG\n",
      "6   rs4244285          10   96541616       AG\n",
      "7   rs1815739          11   66328095       CT\n"
     ]
    }
   ],
   "source": [
    "#Personal genome sequencing using DNA chip\n",
    "#Load raw data and print as a table\n",
    "#Note that a small example of generic gDNA is used for demonstration purpose. \n",
    "#The usual DNA chip sequencing result is between 300K to 4M rows long.\n",
    "\n",
    "generic_gdna = pd.read_table(\"generic_gdna.txt\")\n",
    "print(generic_gdna)\n",
    "\n",
    "#rsid: an ID number for a genetic mutation."
   ]
  },
  {
   "cell_type": "code",
   "execution_count": 194,
   "metadata": {
    "collapsed": false
   },
   "outputs": [
    {
     "data": {
      "text/html": [
       "<div>\n",
       "<table border=\"1\" class=\"dataframe\">\n",
       "  <thead>\n",
       "    <tr style=\"text-align: right;\">\n",
       "      <th></th>\n",
       "      <th>rsid</th>\n",
       "      <th>chromosome</th>\n",
       "      <th>position</th>\n",
       "      <th>genotype</th>\n",
       "    </tr>\n",
       "  </thead>\n",
       "  <tbody>\n",
       "    <tr>\n",
       "      <th>1</th>\n",
       "      <td>rs53576</td>\n",
       "      <td>3</td>\n",
       "      <td>8804371</td>\n",
       "      <td>GG</td>\n",
       "    </tr>\n",
       "  </tbody>\n",
       "</table>\n",
       "</div>"
      ],
      "text/plain": [
       "      rsid  chromosome  position genotype\n",
       "1  rs53576           3   8804371       GG"
      ]
     },
     "execution_count": 194,
     "metadata": {},
     "output_type": "execute_result"
    }
   ],
   "source": [
    "#Is Generic a compassionate person?\n",
    "#Find rs53576 in SNPedia\n",
    "\n",
    "generic_gdna[generic_gdna[\"rsid\"] == 'rs53576']"
   ]
  },
  {
   "cell_type": "code",
   "execution_count": 195,
   "metadata": {
    "collapsed": false
   },
   "outputs": [
    {
     "data": {
      "text/html": [
       "<div>\n",
       "<table border=\"1\" class=\"dataframe\">\n",
       "  <thead>\n",
       "    <tr style=\"text-align: right;\">\n",
       "      <th></th>\n",
       "      <th>rsid</th>\n",
       "      <th>chromosome</th>\n",
       "      <th>position</th>\n",
       "      <th>genotype</th>\n",
       "    </tr>\n",
       "  </thead>\n",
       "  <tbody>\n",
       "    <tr>\n",
       "      <th>7</th>\n",
       "      <td>rs1815739</td>\n",
       "      <td>11</td>\n",
       "      <td>66328095</td>\n",
       "      <td>CT</td>\n",
       "    </tr>\n",
       "  </tbody>\n",
       "</table>\n",
       "</div>"
      ],
      "text/plain": [
       "        rsid  chromosome  position genotype\n",
       "7  rs1815739          11  66328095       CT"
      ]
     },
     "execution_count": 195,
     "metadata": {},
     "output_type": "execute_result"
    }
   ],
   "source": [
    "#Should Generic become an athlete?\n",
    "\n",
    "generic_gdna[generic_gdna[\"rsid\"] == 'rs1815739']"
   ]
  },
  {
   "cell_type": "code",
   "execution_count": 196,
   "metadata": {
    "collapsed": false
   },
   "outputs": [
    {
     "data": {
      "text/html": [
       "<div>\n",
       "<table border=\"1\" class=\"dataframe\">\n",
       "  <thead>\n",
       "    <tr style=\"text-align: right;\">\n",
       "      <th></th>\n",
       "      <th>rsid</th>\n",
       "      <th>chromosome</th>\n",
       "      <th>position</th>\n",
       "      <th>genotype</th>\n",
       "    </tr>\n",
       "  </thead>\n",
       "  <tbody>\n",
       "    <tr>\n",
       "      <th>0</th>\n",
       "      <td>rs4988235</td>\n",
       "      <td>2</td>\n",
       "      <td>136608646</td>\n",
       "      <td>GG</td>\n",
       "    </tr>\n",
       "  </tbody>\n",
       "</table>\n",
       "</div>"
      ],
      "text/plain": [
       "        rsid  chromosome   position genotype\n",
       "0  rs4988235           2  136608646       GG"
      ]
     },
     "execution_count": 196,
     "metadata": {},
     "output_type": "execute_result"
    }
   ],
   "source": [
    "#Does Generic have lactose intolerance?\n",
    "\n",
    "generic_gdna[generic_gdna[\"rsid\"] == \"rs4988235\"]\n",
    "\n",
    "#Genotype not present in SNPedia but it probably means the chip detected the opposite strand"
   ]
  },
  {
   "cell_type": "code",
   "execution_count": 198,
   "metadata": {
    "collapsed": false
   },
   "outputs": [
    {
     "name": "stdout",
     "output_type": "stream",
     "text": [
      "         rsid identifier consensus mutation      pmid\n",
      "0   rs4244285         *2        GG        A  23698643\n",
      "1   rs4986893         *3        GG        A  20979470\n",
      "2  rs28399504         *4        AA        G  20978260\n",
      "3  rs41291556         *8        TT        C  19106083\n",
      "4  rs12248560        *17        CC        T  21716271\n"
     ]
    }
   ],
   "source": [
    "#Plavis: an drug to present heart attacks and strokes. Patient response depends on genotype.\n",
    "#plavix.txt includes a list of mutations that could diminish the efficacy of plavix.\n",
    "\n",
    "plavix = pd.read_table(\"plavix.txt\")\n",
    "print(plavix)"
   ]
  },
  {
   "cell_type": "code",
   "execution_count": 199,
   "metadata": {
    "collapsed": false
   },
   "outputs": [
    {
     "name": "stdout",
     "output_type": "stream",
     "text": [
      "['rs4244285', 'rs4986893', 'rs28399504', 'rs41291556', 'rs12248560']\n",
      "        rsid  chromosome  position genotype\n",
      "6  rs4244285          10  96541616       AG\n",
      "        rsid  chromosome  position genotype\n",
      "5  rs4986893          10  96540410       GG\n",
      "         rsid  chromosome  position genotype\n",
      "3  rs28399504          10  96522463       AA\n",
      "         rsid  chromosome  position genotype\n",
      "4  rs41291556          10  96535173       TT\n",
      "         rsid  chromosome  position genotype\n",
      "2  rs12248560          10  96521657       CC\n"
     ]
    }
   ],
   "source": [
    "#Store rsids associated with plavix response in a list\n",
    "plavix_list = plavix[\"rsid\"].tolist()\n",
    "print(plavix_list)\n",
    "\n",
    "#Loop through the list to find in Generic the genotypes associated with plavix response\n",
    "for i in plavix_list:\n",
    "    print(generic_gdna[generic_gdna[\"rsid\"] == i])"
   ]
  },
  {
   "cell_type": "code",
   "execution_count": 203,
   "metadata": {
    "collapsed": false
   },
   "outputs": [
    {
     "data": {
      "text/html": [
       "<div>\n",
       "<table border=\"1\" class=\"dataframe\">\n",
       "  <thead>\n",
       "    <tr style=\"text-align: right;\">\n",
       "      <th></th>\n",
       "      <th>rsid</th>\n",
       "      <th>chromosome</th>\n",
       "      <th>position</th>\n",
       "      <th>genotype</th>\n",
       "    </tr>\n",
       "  </thead>\n",
       "  <tbody>\n",
       "    <tr>\n",
       "      <th>2</th>\n",
       "      <td>rs12248560</td>\n",
       "      <td>10</td>\n",
       "      <td>96521657</td>\n",
       "      <td>CC</td>\n",
       "    </tr>\n",
       "    <tr>\n",
       "      <th>3</th>\n",
       "      <td>rs28399504</td>\n",
       "      <td>10</td>\n",
       "      <td>96522463</td>\n",
       "      <td>AA</td>\n",
       "    </tr>\n",
       "    <tr>\n",
       "      <th>4</th>\n",
       "      <td>rs41291556</td>\n",
       "      <td>10</td>\n",
       "      <td>96535173</td>\n",
       "      <td>TT</td>\n",
       "    </tr>\n",
       "    <tr>\n",
       "      <th>5</th>\n",
       "      <td>rs4986893</td>\n",
       "      <td>10</td>\n",
       "      <td>96540410</td>\n",
       "      <td>GG</td>\n",
       "    </tr>\n",
       "    <tr>\n",
       "      <th>6</th>\n",
       "      <td>rs4244285</td>\n",
       "      <td>10</td>\n",
       "      <td>96541616</td>\n",
       "      <td>AG</td>\n",
       "    </tr>\n",
       "  </tbody>\n",
       "</table>\n",
       "</div>"
      ],
      "text/plain": [
       "         rsid  chromosome  position genotype\n",
       "2  rs12248560          10  96521657       CC\n",
       "3  rs28399504          10  96522463       AA\n",
       "4  rs41291556          10  96535173       TT\n",
       "5   rs4986893          10  96540410       GG\n",
       "6   rs4244285          10  96541616       AG"
      ]
     },
     "execution_count": 203,
     "metadata": {},
     "output_type": "execute_result"
    }
   ],
   "source": [
    "#Assemble into a new DataFrame\n",
    "generic_plavix = generic_gdna.loc[generic_gdna['rsid'].isin(plavix_list)]\n",
    "generic_plavix"
   ]
  },
  {
   "cell_type": "code",
   "execution_count": 204,
   "metadata": {
    "collapsed": false
   },
   "outputs": [],
   "source": [
    "#Write the output to a new file. \n",
    "generic_plavix.to_csv(\"generic_plavix.txt\", index=None, sep='\\t')"
   ]
  },
  {
   "cell_type": "code",
   "execution_count": 205,
   "metadata": {
    "collapsed": false
   },
   "outputs": [
    {
     "data": {
      "text/html": [
       "<div>\n",
       "<table border=\"1\" class=\"dataframe\">\n",
       "  <thead>\n",
       "    <tr style=\"text-align: right;\">\n",
       "      <th></th>\n",
       "      <th>Name</th>\n",
       "      <th>Position</th>\n",
       "      <th>Chromosome</th>\n",
       "      <th>Year</th>\n",
       "      <th>First author</th>\n",
       "      <th>Title</th>\n",
       "      <th>DOI</th>\n",
       "      <th>Open Access status</th>\n",
       "      <th>Link</th>\n",
       "    </tr>\n",
       "  </thead>\n",
       "  <tbody>\n",
       "    <tr>\n",
       "      <th>0</th>\n",
       "      <td>rs12662670</td>\n",
       "      <td>151918856</td>\n",
       "      <td>6</td>\n",
       "      <td>2011.0</td>\n",
       "      <td>Kristen N Stevens</td>\n",
       "      <td>Common breast cancer susceptibility loci are a...</td>\n",
       "      <td>10.1158/0008-5472.CAN-11-1266</td>\n",
       "      <td>True</td>\n",
       "      <td>http://www.mendeley.com/research/common-breast...</td>\n",
       "    </tr>\n",
       "    <tr>\n",
       "      <th>1</th>\n",
       "      <td>rs2046210</td>\n",
       "      <td>151948366</td>\n",
       "      <td>6</td>\n",
       "      <td>2011.0</td>\n",
       "      <td>Qiuyin Cai</td>\n",
       "      <td>Replication and functional genomic analyses of...</td>\n",
       "      <td>10.1158/0008-5472.CAN-10-2733</td>\n",
       "      <td>True</td>\n",
       "      <td>http://www.mendeley.com/research/replication-f...</td>\n",
       "    </tr>\n",
       "    <tr>\n",
       "      <th>2</th>\n",
       "      <td>rs2046210</td>\n",
       "      <td>151948366</td>\n",
       "      <td>6</td>\n",
       "      <td>2011.0</td>\n",
       "      <td>Wonshik Han</td>\n",
       "      <td>Common genetic variants associated with breast...</td>\n",
       "      <td>10.1158/1055-9965.EPI-10-1282</td>\n",
       "      <td>False</td>\n",
       "      <td>http://www.mendeley.com/research/common-geneti...</td>\n",
       "    </tr>\n",
       "    <tr>\n",
       "      <th>3</th>\n",
       "      <td>rs2046210</td>\n",
       "      <td>151948366</td>\n",
       "      <td>6</td>\n",
       "      <td>2009.0</td>\n",
       "      <td>Wei Zheng</td>\n",
       "      <td>Genome-wide association study identifies a new...</td>\n",
       "      <td>NaN</td>\n",
       "      <td>True</td>\n",
       "      <td>http://www.mendeley.com/research/genomewide-as...</td>\n",
       "    </tr>\n",
       "    <tr>\n",
       "      <th>4</th>\n",
       "      <td>rs2046210</td>\n",
       "      <td>151948366</td>\n",
       "      <td>6</td>\n",
       "      <td>2010.0</td>\n",
       "      <td>Simon N Stacey</td>\n",
       "      <td>Ancestry-Shift Refinement Mapping of the C6orf...</td>\n",
       "      <td>10.1371/journal.pgen.1001029</td>\n",
       "      <td>True</td>\n",
       "      <td>http://www.mendeley.com/research/ancestryshift...</td>\n",
       "    </tr>\n",
       "  </tbody>\n",
       "</table>\n",
       "</div>"
      ],
      "text/plain": [
       "         Name   Position Chromosome    Year       First author  \\\n",
       "0  rs12662670  151918856          6  2011.0  Kristen N Stevens   \n",
       "1   rs2046210  151948366          6  2011.0         Qiuyin Cai   \n",
       "2   rs2046210  151948366          6  2011.0        Wonshik Han   \n",
       "3   rs2046210  151948366          6  2009.0          Wei Zheng   \n",
       "4   rs2046210  151948366          6  2010.0     Simon N Stacey   \n",
       "\n",
       "                                               Title  \\\n",
       "0  Common breast cancer susceptibility loci are a...   \n",
       "1  Replication and functional genomic analyses of...   \n",
       "2  Common genetic variants associated with breast...   \n",
       "3  Genome-wide association study identifies a new...   \n",
       "4  Ancestry-Shift Refinement Mapping of the C6orf...   \n",
       "\n",
       "                             DOI Open Access status  \\\n",
       "0  10.1158/0008-5472.CAN-11-1266               True   \n",
       "1  10.1158/0008-5472.CAN-10-2733               True   \n",
       "2  10.1158/1055-9965.EPI-10-1282              False   \n",
       "3                            NaN               True   \n",
       "4   10.1371/journal.pgen.1001029               True   \n",
       "\n",
       "                                                Link  \n",
       "0  http://www.mendeley.com/research/common-breast...  \n",
       "1  http://www.mendeley.com/research/replication-f...  \n",
       "2  http://www.mendeley.com/research/common-geneti...  \n",
       "3  http://www.mendeley.com/research/genomewide-as...  \n",
       "4  http://www.mendeley.com/research/ancestryshift...  "
      ]
     },
     "execution_count": 205,
     "metadata": {},
     "output_type": "execute_result"
    }
   ],
   "source": [
    "#Many reference lists available online\n",
    "\n",
    "mendeley = pd.read_table(\"./annotation/mendeley.csv\", delimiter = \",\")\n",
    "mendeley.head()"
   ]
  },
  {
   "cell_type": "code",
   "execution_count": null,
   "metadata": {
    "collapsed": false,
    "scrolled": true
   },
   "outputs": [],
   "source": [
    "\"\"\"Below, two packages I wrote (MotifMatcher and MotifFinder) are used.\n",
    "MotifMatcher is to find in a list of DNA sequences the strings that matches a given motif.\n",
    "MotifFinder is to find in a list of DNA sequences the unkown motif.\n",
    "These packages are easy to write if you go over the Coursera class Biology Meets Progamming.\n",
    "\"\"\""
   ]
  },
  {
   "cell_type": "code",
   "execution_count": 209,
   "metadata": {
    "collapsed": false
   },
   "outputs": [],
   "source": [
    "#Look for common DNA/protein sequences\n",
    "#The code is for DNA, but for translated protein sequences, the idea is the same.\n",
    "#This used a list of 10 generic chopped TCR sequences. The goal is to find the shared motif.\n",
    "\n",
    "import MotifMatcher as mm\n",
    "import MotifFinder as mf"
   ]
  },
  {
   "cell_type": "code",
   "execution_count": 210,
   "metadata": {
    "collapsed": false
   },
   "outputs": [
    {
     "name": "stdout",
     "output_type": "stream",
     "text": [
      "['AATAGTTTAGATATAAAAGATTTCTCCCGATTCGCTCCGTTCCCCGTTTACCCGATCCCCGTGTTTCGCTTTTAGCCGAGCCGCAGGCCCAAATCGATTCCGTACCAGCTAGCAGAGGGATAGACTGT', 'AAGATGATAGGGATCGCTCCGATAGCTCGCTAAGAGCTTTCGGCTTTCGCCCTAGGGCTAGTTACTAGCTGCTAGGCTCGATTCGATCGATCGGATATAATAGATTTCTCCCAGAGTTCCGCTCGCTC', 'AAGATATAAAAGATTTCTCTTCTGGGCTGGCTGGCTTTAGGACGCGCCCAGGCGCGCGGGAACGGCAACACAGAGATCGGACCGCGACAGAAAGCTGAGGACGGCGAGAGAGCTGTAGGGAACGGATT', 'TTCTCTATCTCCCTACCTCTTTTCTTTCTCTCTACCACGATATAAAAGATTTGACCCGAGTCGCTCGCCTCCGCTAACTAGTCTACCTAGCTAGCTATGCTAGCTCGAGGATCGATCGATCGGGCTAT', 'TTGCTGGCTGCTACAGCTAGCACCCGGAGGATCGGGATCAAACTGATCGGATATAATCGACTTCTCCCGTTTCTCTTAAATCGTTGGCTTGACCCATAGCCCTAACCCTCGCTAGCTGGCTGGCTCAA', 'TTTCGTTGTCCCCGGCTAAACCATAACGCGCGCAAACAACCCAGGGATATAAAAGATTTCTCCCGGGCCTCGTTTTAAACAACAAAGAAAATGCCCCAAGATGCTAGCTTTAGCTAGCTTAGATCGAA', 'TTCCGCTCGTTGATATCATATACCAAATCATCATTCATCTTTTACAAACATGGGACGGAGGCAGGGGCCCAGTTTCATGATATAAACCATTTCTCCCGGGCTGAACTCGGGACCAGGCAGCGGGACTT', 'CCTCCCGATAGCTCGGCTCGCTTGCTCGTGATATAAAAGATTTCTCCCGTTCTCTCTTCTCCTCTCTCAATACTCTAAATTAACTTAAACTGGCGGGGATGATAGGGGCTGATCGGGCTGGTTTTGCT', 'GATATAAAAGATTTCTCCCGTGGCTCGCTACGATCGATTCGTACTCTAGCTTTAGCTCTATGCTCTCATGCTATACGTCTTCCAATGCTATCGTATCGGTACTAATACAAGCTTACGTCGGCTACTCC', 'TCCATCCCTACAACCCACCAGGGCCGGGATAGCTGGCTTGGGCGGGATCGGGCTTCTTTTCGGGATCTCTCTTCGGATTTCGCTCGGATTGGGCTTTTAGGCTTTCGGGATATAAAAGATTTCTCCCG']\n",
      "number of elements in tcr: 10\n"
     ]
    }
   ],
   "source": [
    "#Use an example of generic TCR sequences\n",
    "\n",
    "tcr = open(\"generic_tcr.txt\").read()\n",
    "tcr = [x for x in tcr.split('\\n')]\n",
    "print(tcr)\n",
    "print(\"number of elements in tcr:\",len(tcr))"
   ]
  },
  {
   "cell_type": "code",
   "execution_count": 213,
   "metadata": {
    "collapsed": false
   },
   "outputs": [
    {
     "name": "stdout",
     "output_type": "stream",
     "text": [
      "[1, 0, 0, 0, 0, 0, 0, 0, 0, 0]\n",
      "[2, 5, 0, 2, 1, 4, 5, 2, 1, 2]\n"
     ]
    }
   ],
   "source": [
    "#If the shared motif is known:\n",
    "#Find the number of occurrences of a known motif\n",
    "\n",
    "my_pat = \"AATAGTTTAGATATAAAAGA\"\n",
    "\n",
    "#Find the number of exact matches in each TCR sequence.\n",
    "exact_match = []\n",
    "for i in tcr:\n",
    "    exact_match.append(mm.ApproximatePatternCount(my_pat, i, 0))    \n",
    "print(exact_match)\n",
    "\n",
    "#Find in each TCR sequence the number of strings with a maximum of 10 mismatches.\n",
    "ten_mismatches = []\n",
    "for i in tcr:\n",
    "    ten_mismatches.append(mm.ApproximatePatternCount(my_pat, i, 10))    \n",
    "print(ten_mismatches)"
   ]
  },
  {
   "cell_type": "code",
   "execution_count": 217,
   "metadata": {
    "collapsed": false
   },
   "outputs": [
    {
     "name": "stdout",
     "output_type": "stream",
     "text": [
      "['AAAAGATTTCTCCCGATTCG', 'AATAGATTTCTCCCAGAGTT', 'AAAAGATTTCTCTTCTGGGC', 'AAAAGATTTGACCCGAGTCG', 'AATCGACTTCTCCCGTTTCT', 'AAAAGATTTCTCCCGGGCCT', 'AAACCATTTCTCCCGGGCTG', 'AAAAGATTTCTCCCGTTCTC', 'AAAAGATTTCTCCCGTGGCT', 'TTCGGATTTCGCTCGGATTG']\n",
      "the consensus is: AAAAGATTTCTCCCGGGTCG\n",
      "the number of differences is: 46\n"
     ]
    }
   ],
   "source": [
    "#If the shared motif is unknown:\n",
    "#Find the shared motif first\n",
    "#This is an extremely time-consuming process. The most common approach is to use randomization.\n",
    "\n",
    "#The idea of randomization is, if a motif is shared, \n",
    "#then it will occur more times in a set of sequences, \n",
    "#thus picked up more likely by randomization.\n",
    "\n",
    "#And then check the goodness of the fit\n",
    "\n",
    "#This finds a set of shared motifs by randomization.\n",
    "best_motifs = GibbsSampler(tcr, 20, 10, 100)\n",
    "print(best_motifs)\n",
    "\n",
    "#This finds the number of differences between the approximate shared motif and the consensus,\n",
    "#assembled from the shared motif.\n",
    "print(\"the consensus is:\", Consensus(best_motifs))\n",
    "print(\"the number of differences is:\", Score(best_motifs))"
   ]
  },
  {
   "cell_type": "code",
   "execution_count": 218,
   "metadata": {
    "collapsed": false
   },
   "outputs": [
    {
     "name": "stdout",
     "output_type": "stream",
     "text": [
      "0:00:02.142653\n",
      "['GATATAAAAGATTTCTCCCG', 'GATATAATAGATTTCTCCCA', 'GATATAAAAGATTTCTCTTC', 'GATATAAAAGATTTGACCCG', 'GATATAATCGACTTCTCCCG', 'GATATAAAAGATTTCTCCCG', 'GATATAAACCATTTCTCCCG', 'GATATAAAAGATTTCTCCCG', 'GATATAAAAGATTTCTCCCG', 'GATATAAAAGATTTCTCCCG']\n"
     ]
    },
    {
     "data": {
      "text/plain": [
       "12"
      ]
     },
     "execution_count": 218,
     "metadata": {},
     "output_type": "execute_result"
    }
   ],
   "source": [
    "#Use the time module to get the runtime of your code\n",
    "import time\n",
    "from datetime import timedelta\n",
    "start_time = time.monotonic()\n",
    "\n",
    "#By repeatedly run the randomization, better and better best_motifs is found, with lower scores.\n",
    "for i in range(30):\n",
    "    better_motifs = GibbsSampler(tcr, 20, 10, 100)\n",
    "    if Score(better_motifs) < Score(best_motifs):\n",
    "        best_motifs = better_motifs\n",
    "        \n",
    "end_time = time.monotonic()\n",
    "print(timedelta(seconds=end_time - start_time))\n",
    "\n",
    "print(best_motifs)\n",
    "\n",
    "print(\"the consensus is:\", Consensus(best_motifs))\n",
    "print(\"the number of differences is:\", Score(best_motifs))"
   ]
  }
 ],
 "metadata": {
  "kernelspec": {
   "display_name": "Python 3",
   "language": "python",
   "name": "python3"
  },
  "language_info": {
   "codemirror_mode": {
    "name": "ipython",
    "version": 3
   },
   "file_extension": ".py",
   "mimetype": "text/x-python",
   "name": "python",
   "nbconvert_exporter": "python",
   "pygments_lexer": "ipython3",
   "version": "3.5.1"
  }
 },
 "nbformat": 4,
 "nbformat_minor": 0
}
