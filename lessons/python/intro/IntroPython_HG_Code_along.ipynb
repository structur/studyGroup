{
  "nbformat": 4,
  "nbformat_minor": 0,
  "metadata": {
    "kernelspec": {
      "display_name": "Python [conda root]",
      "language": "python",
      "name": "conda-root-py"
    },
    "language_info": {
      "codemirror_mode": {
        "name": "ipython",
        "version": 3
      },
      "file_extension": ".py",
      "mimetype": "text/x-python",
      "name": "python",
      "nbconvert_exporter": "python",
      "pygments_lexer": "ipython3",
      "version": "3.5.2"
    },
    "colab": {
      "name": "IntroPython-HG_Code_along.ipynb",
      "provenance": []
    }
  },
  "cells": [
    {
      "cell_type": "markdown",
      "metadata": {
        "id": "9UBQouQox6f-",
        "colab_type": "text"
      },
      "source": [
        "# Intro to Python\n",
        "\n",
        "## UofT Coders, Sep 26 2019\n",
        "\n",
        "**Instructor:** Haidy Giratallah \n",
        "\n",
        "**Lesson repeat from:** UofT coder lessons (https://github.com/UofTCoders/studyGroup/blob/gh-pages/lessons/python/intro/IntroPython-AH.ipynb)\n",
        "\n",
        "---\n",
        "\n",
        "## Before getting started: What is Python? \n",
        "Python is a general-purpose language with a readable syntax. In summary: \n",
        "\"Python is powerful... and fast;\n",
        "plays well with others;\n",
        "runs everywhere;\n",
        "is friendly & easy to learn;\n",
        "is Open.\"\n",
        "https://www.python.org/\n",
        "\n",
        "**Common question: Python vs R?**\n",
        "\n",
        "R is mainly used for statistical analysis while Python provides a more general approach to data science. R and Python are state of the art in terms of programming language oriented towards data science. Learning both of them is, of course, the ideal solution. ... (https://www.guru99.com/r-vs-python.html)\n",
        "\n",
        "\n",
        "## Okay let's get started \n",
        "## The interpreter\n",
        "\n",
        "### Math with _integers_"
      ]
    },
    {
      "cell_type": "code",
      "metadata": {
        "id": "Kghnx6clx6gA",
        "colab_type": "code",
        "colab": {}
      },
      "source": [
        ""
      ],
      "execution_count": 0,
      "outputs": []
    },
    {
      "cell_type": "code",
      "metadata": {
        "id": "QTv7kCA_x6gC",
        "colab_type": "code",
        "colab": {}
      },
      "source": [
        ""
      ],
      "execution_count": 0,
      "outputs": []
    },
    {
      "cell_type": "code",
      "metadata": {
        "id": "WnMnw5gGx6gD",
        "colab_type": "code",
        "colab": {}
      },
      "source": [
        ""
      ],
      "execution_count": 0,
      "outputs": []
    },
    {
      "cell_type": "code",
      "metadata": {
        "id": "IIaFGj17x6gF",
        "colab_type": "code",
        "colab": {}
      },
      "source": [
        "# % is the modulus operator\n",
        "# x % y -> return the remainder of x / y\n"
      ],
      "execution_count": 0,
      "outputs": []
    },
    {
      "cell_type": "markdown",
      "metadata": {
        "id": "Y1PoeL9Yx6gK",
        "colab_type": "text"
      },
      "source": [
        "### Math with _floats_\n",
        "\n",
        "Floats = floating point numbers"
      ]
    },
    {
      "cell_type": "code",
      "metadata": {
        "id": "yWPtJ9iSx6gK",
        "colab_type": "code",
        "colab": {}
      },
      "source": [
        ""
      ],
      "execution_count": 0,
      "outputs": []
    },
    {
      "cell_type": "code",
      "metadata": {
        "id": "14VKsSKWx6gM",
        "colab_type": "code",
        "colab": {}
      },
      "source": [
        ""
      ],
      "execution_count": 0,
      "outputs": []
    },
    {
      "cell_type": "code",
      "metadata": {
        "id": "tAWVdB0mx6gO",
        "colab_type": "code",
        "colab": {}
      },
      "source": [
        ""
      ],
      "execution_count": 0,
      "outputs": []
    },
    {
      "cell_type": "markdown",
      "metadata": {
        "id": "evXY5Bzyx6gP",
        "colab_type": "text"
      },
      "source": [
        "## Variables"
      ]
    },
    {
      "cell_type": "code",
      "metadata": {
        "id": "eANG8ZSgx6gP",
        "colab_type": "code",
        "colab": {}
      },
      "source": [
        ""
      ],
      "execution_count": 0,
      "outputs": []
    },
    {
      "cell_type": "code",
      "metadata": {
        "id": "sReeEHNix6gS",
        "colab_type": "code",
        "colab": {}
      },
      "source": [
        ""
      ],
      "execution_count": 0,
      "outputs": []
    },
    {
      "cell_type": "code",
      "metadata": {
        "id": "UKbON_2qx6gV",
        "colab_type": "code",
        "colab": {}
      },
      "source": [
        ""
      ],
      "execution_count": 0,
      "outputs": []
    },
    {
      "cell_type": "code",
      "metadata": {
        "id": "wfMktdXox6gX",
        "colab_type": "code",
        "colab": {}
      },
      "source": [
        ""
      ],
      "execution_count": 0,
      "outputs": []
    },
    {
      "cell_type": "code",
      "metadata": {
        "id": "UQR0tenEx6gZ",
        "colab_type": "code",
        "colab": {}
      },
      "source": [
        ""
      ],
      "execution_count": 0,
      "outputs": []
    },
    {
      "cell_type": "code",
      "metadata": {
        "id": "LQ4z18oax6ga",
        "colab_type": "code",
        "colab": {}
      },
      "source": [
        ""
      ],
      "execution_count": 0,
      "outputs": []
    },
    {
      "cell_type": "markdown",
      "metadata": {
        "id": "cQDNx0tgx6gb",
        "colab_type": "text"
      },
      "source": [
        "## Lists"
      ]
    },
    {
      "cell_type": "code",
      "metadata": {
        "id": "uHz3jBXmx6gb",
        "colab_type": "code",
        "colab": {}
      },
      "source": [
        ""
      ],
      "execution_count": 0,
      "outputs": []
    },
    {
      "cell_type": "code",
      "metadata": {
        "id": "Kkg-DZ7Px6gd",
        "colab_type": "code",
        "colab": {}
      },
      "source": [
        ""
      ],
      "execution_count": 0,
      "outputs": []
    },
    {
      "cell_type": "code",
      "metadata": {
        "id": "cozwu8Nvx6ge",
        "colab_type": "code",
        "colab": {}
      },
      "source": [
        ""
      ],
      "execution_count": 0,
      "outputs": []
    },
    {
      "cell_type": "code",
      "metadata": {
        "id": "VKlX-CSax6gg",
        "colab_type": "code",
        "colab": {}
      },
      "source": [
        ""
      ],
      "execution_count": 0,
      "outputs": []
    },
    {
      "cell_type": "markdown",
      "metadata": {
        "id": "ppiEJhfUx6gh",
        "colab_type": "text"
      },
      "source": [
        "## Indexing lists and strings"
      ]
    },
    {
      "cell_type": "code",
      "metadata": {
        "id": "H2Q6ytyTx6gh",
        "colab_type": "code",
        "colab": {}
      },
      "source": [
        "# indexing in python begins at 0! \n"
      ],
      "execution_count": 0,
      "outputs": []
    },
    {
      "cell_type": "code",
      "metadata": {
        "id": "ABr9Z2Rex6gi",
        "colab_type": "code",
        "colab": {}
      },
      "source": [
        "# slicing multiple things\n",
        "# start : end (exclusive!)\n",
        "\n",
        "# recall that fruits = ['apple', 'orange', 'mango']\n",
        "\n"
      ],
      "execution_count": 0,
      "outputs": []
    },
    {
      "cell_type": "code",
      "metadata": {
        "id": "j1zrqRbkx6gl",
        "colab_type": "code",
        "colab": {}
      },
      "source": [
        "# reassigning item in list\n"
      ],
      "execution_count": 0,
      "outputs": []
    },
    {
      "cell_type": "code",
      "metadata": {
        "id": "LwyBZwvSx6go",
        "colab_type": "code",
        "colab": {}
      },
      "source": [
        "# slicing and indexing strings\n",
        "\n"
      ],
      "execution_count": 0,
      "outputs": []
    },
    {
      "cell_type": "code",
      "metadata": {
        "id": "02RPQuIxx6gq",
        "colab_type": "code",
        "colab": {}
      },
      "source": [
        "# strings do not support reassignment\n",
        "# try running this: my_string[0] = 't'"
      ],
      "execution_count": 0,
      "outputs": []
    },
    {
      "cell_type": "markdown",
      "metadata": {
        "id": "0wtHTz64x6gr",
        "colab_type": "text"
      },
      "source": [
        "## Dictionaries"
      ]
    },
    {
      "cell_type": "code",
      "metadata": {
        "id": "7f-W8tB1x6gs",
        "colab_type": "code",
        "colab": {}
      },
      "source": [
        "# dictionaries allow us to store key value pairs\n"
      ],
      "execution_count": 0,
      "outputs": []
    },
    {
      "cell_type": "code",
      "metadata": {
        "id": "SoazPImHx6gt",
        "colab_type": "code",
        "colab": {}
      },
      "source": [
        "# keys are 'looked up' using square brackets\n",
        "\n"
      ],
      "execution_count": 0,
      "outputs": []
    },
    {
      "cell_type": "code",
      "metadata": {
        "id": "8FRLx1pex6gu",
        "colab_type": "code",
        "colab": {}
      },
      "source": [
        "# additional keys can be added after the fact\n"
      ],
      "execution_count": 0,
      "outputs": []
    },
    {
      "cell_type": "markdown",
      "metadata": {
        "id": "TzBRwu5Wx6gw",
        "colab_type": "text"
      },
      "source": [
        "## If statements"
      ]
    },
    {
      "cell_type": "code",
      "metadata": {
        "id": "nb127DO-x6gw",
        "colab_type": "code",
        "colab": {}
      },
      "source": [
        "# python can check whether certain statements are true or false\n",
        "\n"
      ],
      "execution_count": 0,
      "outputs": []
    },
    {
      "cell_type": "code",
      "metadata": {
        "id": "NnQ4n2q5x6gx",
        "colab_type": "code",
        "colab": {}
      },
      "source": [
        "# use == to test for equality\n"
      ],
      "execution_count": 0,
      "outputs": []
    },
    {
      "cell_type": "code",
      "metadata": {
        "id": "Ssy5628Cx6gy",
        "colab_type": "code",
        "colab": {}
      },
      "source": [
        ""
      ],
      "execution_count": 0,
      "outputs": []
    },
    {
      "cell_type": "code",
      "metadata": {
        "id": "SGJKG1IZx6g0",
        "colab_type": "code",
        "colab": {}
      },
      "source": [
        "# with these expressions, we can construct if statements\n",
        "# if statements allow our scripts to encode more complex instructions\n",
        "\n",
        "\n"
      ],
      "execution_count": 0,
      "outputs": []
    },
    {
      "cell_type": "code",
      "metadata": {
        "id": "azkCJ4fPx6g1",
        "colab_type": "code",
        "colab": {}
      },
      "source": [
        "# if-else\n"
      ],
      "execution_count": 0,
      "outputs": []
    },
    {
      "cell_type": "code",
      "metadata": {
        "id": "7vZOsniqx6g8",
        "colab_type": "code",
        "colab": {}
      },
      "source": [
        "# if-elif-else\n",
        "# useful if we have multiple conditions to test\n"
      ],
      "execution_count": 0,
      "outputs": []
    },
    {
      "cell_type": "markdown",
      "metadata": {
        "id": "S9Rx9ib9x6g-",
        "colab_type": "text"
      },
      "source": [
        "## For loops"
      ]
    },
    {
      "cell_type": "code",
      "metadata": {
        "id": "7_71JnOrx6g_",
        "colab_type": "code",
        "colab": {}
      },
      "source": [
        "# for loops allow us to automate repetitive operations\n",
        "\n",
        "# how do we check which values in this list are even?\n",
        "\n",
        "\n",
        "# could check them individually?\n"
      ],
      "execution_count": 0,
      "outputs": []
    },
    {
      "cell_type": "code",
      "metadata": {
        "id": "p-PWh6vNx6hA",
        "colab_type": "code",
        "colab": {}
      },
      "source": [
        "# for loops simplify this\n",
        "# here, 'number' is a placeholder variable for each of the items in the list\n"
      ],
      "execution_count": 0,
      "outputs": []
    },
    {
      "cell_type": "code",
      "metadata": {
        "id": "MrOLrmQQx6hC",
        "colab_type": "code",
        "colab": {}
      },
      "source": [
        "# we can also loop over the contents of a string\n",
        "vowels = 'aeiou'\n"
      ],
      "execution_count": 0,
      "outputs": []
    },
    {
      "cell_type": "markdown",
      "metadata": {
        "id": "CO_LgnLLx6hD",
        "colab_type": "text"
      },
      "source": [
        "## Functions"
      ]
    },
    {
      "cell_type": "code",
      "metadata": {
        "id": "WZ2UvBUOx6hE",
        "colab_type": "code",
        "colab": {}
      },
      "source": [
        "# functions allow us to generalize operations\n",
        "# what is the sum of squares of two numbers?\n",
        "\n"
      ],
      "execution_count": 0,
      "outputs": []
    },
    {
      "cell_type": "code",
      "metadata": {
        "id": "A2_1mSppx6hF",
        "colab_type": "code",
        "colab": {}
      },
      "source": [
        "\n",
        "# def is the keyword to define functions\n",
        "# each function typically ends with a return statement"
      ],
      "execution_count": 0,
      "outputs": []
    },
    {
      "cell_type": "code",
      "metadata": {
        "id": "mibTeEX-x6hH",
        "colab_type": "code",
        "colab": {}
      },
      "source": [
        " # our operation from above\n",
        " # works with any values we want!"
      ],
      "execution_count": 0,
      "outputs": []
    },
    {
      "cell_type": "code",
      "metadata": {
        "id": "_Qy5jNFax6hJ",
        "colab_type": "code",
        "colab": {}
      },
      "source": [
        "# checking on our docstring\n"
      ],
      "execution_count": 0,
      "outputs": []
    },
    {
      "cell_type": "markdown",
      "metadata": {
        "id": "7f0RDhjqx6hK",
        "colab_type": "text"
      },
      "source": [
        "## Some useful packages"
      ]
    },
    {
      "cell_type": "code",
      "metadata": {
        "id": "VoWc-XJSx6hL",
        "colab_type": "code",
        "colab": {}
      },
      "source": [
        "# use a package by importing it\n",
        "# these can be given a shorter alias\n",
        "\n",
        "import numpy as np"
      ],
      "execution_count": 0,
      "outputs": []
    },
    {
      "cell_type": "code",
      "metadata": {
        "id": "bsuohLb6x6hL",
        "colab_type": "code",
        "colab": {}
      },
      "source": [
        "# packages provide all sorts of useful functionality\n",
        "# numpy allows for efficient numerical calculations in python\n",
        "\n",
        "np_array = np.arange(15)\n",
        "list_array = list(range(15))\n",
        "\n",
        "print(np_array)\n",
        "print(type(np_array))\n",
        "print(list_array)\n",
        "print(type(list_array))"
      ],
      "execution_count": 0,
      "outputs": []
    },
    {
      "cell_type": "code",
      "metadata": {
        "id": "vF1Vw8Hwx6hN",
        "colab_type": "code",
        "colab": {}
      },
      "source": [
        "# numpy arrays also allow for vectorized operations\n",
        "\n",
        "print(np_array * 2)\n",
        "print(list_array * 2)"
      ],
      "execution_count": 0,
      "outputs": []
    },
    {
      "cell_type": "code",
      "metadata": {
        "id": "aF3oevTax6hO",
        "colab_type": "code",
        "colab": {}
      },
      "source": [
        "# numpy arrays also have helpful 'methods'\n",
        "# a method is a special function 'attached' to an object, to be used on the object itself\n",
        "\n",
        "# what's the mean of our array?\n",
        "print(np_array.mean())"
      ],
      "execution_count": 0,
      "outputs": []
    },
    {
      "cell_type": "code",
      "metadata": {
        "id": "XuAmdGqgx6hS",
        "colab_type": "code",
        "colab": {}
      },
      "source": [
        "# the max value in our array?\n",
        "print(np_array.max())"
      ],
      "execution_count": 0,
      "outputs": []
    },
    {
      "cell_type": "code",
      "metadata": {
        "id": "xoASM6XIx6hT",
        "colab_type": "code",
        "colab": {}
      },
      "source": [
        "import pandas as pd\n",
        "import seaborn as sns # we will use this for plotting\n",
        "%matplotlib inline\n",
        "iris = sns.load_dataset('iris')"
      ],
      "execution_count": 0,
      "outputs": []
    },
    {
      "cell_type": "code",
      "metadata": {
        "id": "zy2OHAJpx6hU",
        "colab_type": "code",
        "colab": {}
      },
      "source": [
        "iris.head()"
      ],
      "execution_count": 0,
      "outputs": []
    },
    {
      "cell_type": "code",
      "metadata": {
        "id": "srAdNgi4x6hV",
        "colab_type": "code",
        "colab": {}
      },
      "source": [
        "iris.columns"
      ],
      "execution_count": 0,
      "outputs": []
    },
    {
      "cell_type": "code",
      "metadata": {
        "id": "1X8E-AoJx6hW",
        "colab_type": "code",
        "colab": {}
      },
      "source": [
        "# pull out specific rows with the .loc method\n",
        "iris.loc[0:2]"
      ],
      "execution_count": 0,
      "outputs": []
    },
    {
      "cell_type": "code",
      "metadata": {
        "id": "cjQbSaFLx6hY",
        "colab_type": "code",
        "colab": {}
      },
      "source": [
        "# or rows AND columns\n",
        "# use a list for multiple columns!\n",
        "\n",
        "iris.loc[0:2, 'petal_length']"
      ],
      "execution_count": 0,
      "outputs": []
    },
    {
      "cell_type": "code",
      "metadata": {
        "id": "BAYPDjgzx6hY",
        "colab_type": "code",
        "colab": {}
      },
      "source": [
        "iris.loc[0:2, ['petal_length', 'species']]"
      ],
      "execution_count": 0,
      "outputs": []
    },
    {
      "cell_type": "code",
      "metadata": {
        "id": "bs-Blj5xx6hZ",
        "colab_type": "code",
        "colab": {}
      },
      "source": [
        "sns.relplot(x='petal_length', y='petal_width', data=iris)"
      ],
      "execution_count": 0,
      "outputs": []
    },
    {
      "cell_type": "code",
      "metadata": {
        "id": "qHN6VxnSx6ha",
        "colab_type": "code",
        "colab": {}
      },
      "source": [
        "sns.relplot(x='petal_length', y='petal_width', hue='species', data=iris)"
      ],
      "execution_count": 0,
      "outputs": []
    }
  ]
}