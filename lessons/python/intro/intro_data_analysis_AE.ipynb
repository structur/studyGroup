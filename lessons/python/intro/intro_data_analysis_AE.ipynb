{
 "cells": [
  {
   "cell_type": "markdown",
   "metadata": {},
   "source": [
    "# Data analysis in Python\n",
    "\n",
    "\n",
    "#### Contributors: \n",
    "\n",
    "This notebook combines two notebooks (with minor modifications by Amanda Easson) from previous UofT Coders sessions: \n",
    "\n",
    "Intro Python (authors: Madeleine Bonsma-Fisher, heavily borrowing from Lina Tran and Charles Zhu): https://github.com/UofTCoders/studyGroup/blob/gh-pages/lessons/python/intro/IntroPython-MB.ipynb\n",
    "\n",
    "Pandas (authors: Joel Ostblom and Luke Johnston): \n",
    "https://github.com/UofTCoders/studyGroup/blob/gh-pages/lessons/python/intro-data-analysis/from-spreadsheets-to-pandas-extended.ipynb\n",
    "\n",
    "Additional numpy content was added by Amanda Easson, primarily based off of the Python Data Science Handbook by Jake VanderPlas: https://jakevdp.github.io/PythonDataScienceHandbook/"
   ]
  },
  {
   "cell_type": "markdown",
   "metadata": {},
   "source": [
    "## Table of Contents\n",
    "\n",
    "- [Preamble](#preamble)\n",
    "    - [Motivation](#motivation)\n",
    "    - [Conceptual understanding](#conceptual-understanding)\n",
    "    \n",
    "    \n",
    "- [Programming basics](#programming-basics)\n",
    "    - [Variable assignment](#variable-assignment)\n",
    "    - [Assigning multiple values to variables](#assigning-multiple-values-to-variables)\n",
    "        - [Lists](#lists)\n",
    "        - [Dictionaries](#dictionaries)\n",
    "    - [Comparisons](#comparisons)\n",
    "    - [Indexing and slicing](#index_slice)\n",
    "    - [If statements](#if_statements)\n",
    "    - [For loops](#for_loops)\n",
    "    - [List comprehensions](#list_comprehensions)\n",
    "    - [Functions](#functions)\n",
    "        \n",
    "        \n",
    "- [Using functions](#using-functions)\n",
    "    - [Packages](#packages)\n",
    "    - [How to get help](#how-to-get-help)\n",
    "    - [Data analysis with pandas](#data-analysis-with-pandas)\n",
    "    - [Subsetting data](#subsetting-data)\n",
    "    \n",
    "    \n",
    "- [numpy: numerical python](#numpy)\n",
    "    \n",
    "    \n",
    "- [Data visualization](#data-visualization)\n",
    "    - [Plotting with pandas](#plotting-with-pandas)\n",
    "    - [Plotting with seaborn](#plotting-with-seaborn)\n",
    "    \n",
    "    \n",
    "- [Resources to learn more](#resources-to-learn-more)\n",
    "    \n",
    "    \n",
    "# Preamble <a class=\"anchor\" id=\"preamble\"></a>\n",
    "\n",
    "This is a brief tutorial for anyone who is interested in how Python can facilitate their data analyses. The tutorial is aimed at people who currently use a spreadsheet program as their primary data analyses tool, and that have no previous programming experience. If you want to code along, a simple way to install Python [is to follow these instructions](https://github.com/UofTCoders/studyGroup/blob/gh-pages/lessons/install-python-r.md), but I encourage you to just read through this tutorial on a conceptual level at first.\n",
    "\n",
    "\n",
    "## Motivation <a class=\"anchor\" id=\"motivation\"></a>\n",
    "\n",
    "Spreadsheet software is great for viewing and entering small data sets and creating simple visualizations fast. However, it can be tricky to create publication-ready figures, automate reproducible analysis workflows, perform advanced calculations, and clean data sets robustly. Even when using a spreadsheet program to record data, it is often beneficial to pick up some basic programming skills to facilitate the analyses of that data.\n",
    "\n",
    "\n",
    "## Conceptual understanding <a class=\"anchor\" id=\"conceptual-understanding\"></a>\n",
    "\n",
    "Spreadsheet programs, such as MS Excel and Libre/OpenOffice, have their functionality sectioned into menus. In programming languages, all the functionality is accessed by typing the name of functions directly instead of finding the functions in the menu hierarchy. Initially this might seem intimidating and non-intuitive for people who are used to the menu-driven approach.\n",
    "\n",
    "However, think of it as learning a new natural language. Initially, you will slowly string together sentences by looking up individual words in the dictionary. As you improve, you will only reference the dictionary occasionally since you already know most of the words. Practicing the language whenever you can, and receiving immediate feedback, is often the fastest way to learn. Sitting at home trying to learn every word in the dictionary before engaging in conversation, is destined to kill the joy of learning any language, natural or formal.\n",
    "\n",
    "In my experience, learning programming is similar to learning a foreign language, and you will often learn the most from just trying to do something and receiving feedback from the computer! When there is something you can't wrap you head around, or if you are actively trying to find a new way of expressing a thought, then look it up, just as you would with a natural language.\n",
    "\n",
    "\n",
    "# Programming basics <a class=\"anchor\" id=\"programming-basics\"></a>\n",
    "\n",
    "Just like in spreadsheet software, the basic installation of Python includes fundamental math operations, e.g. adding numbers together:"
   ]
  },
  {
   "cell_type": "code",
   "execution_count": null,
   "metadata": {},
   "outputs": [],
   "source": [
    "4 + 4"
   ]
  },
  {
   "cell_type": "code",
   "execution_count": null,
   "metadata": {},
   "outputs": [],
   "source": [
    "4**2 # 4 to the power of 2"
   ]
  },
  {
   "cell_type": "code",
   "execution_count": null,
   "metadata": {},
   "outputs": [],
   "source": [
    "3*5; # semi-colon suppresses output"
   ]
  },
  {
   "cell_type": "markdown",
   "metadata": {},
   "source": [
    "## Variable assignment <a class=\"anchor\" id=\"variable-assignment\"></a>\n",
    "\n",
    "It is possible to assign values to variables:"
   ]
  },
  {
   "cell_type": "code",
   "execution_count": null,
   "metadata": {},
   "outputs": [],
   "source": [
    "a = 5\n",
    "a * 2"
   ]
  },
  {
   "cell_type": "code",
   "execution_count": null,
   "metadata": {},
   "outputs": [],
   "source": [
    "my_variable_name = 4\n",
    "a - my_variable_name"
   ]
  },
  {
   "cell_type": "markdown",
   "metadata": {},
   "source": [
    "Variables can also hold more data types than just numbers, for example a sequence of characters surrounded by single or double quotation marks (called a *string*). In Python, it is intuitive to append string by adding them together:"
   ]
  },
  {
   "cell_type": "code",
   "execution_count": null,
   "metadata": {},
   "outputs": [],
   "source": [
    "b = 'Hello'\n",
    "c = 'universe'\n",
    "b + c"
   ]
  },
  {
   "cell_type": "markdown",
   "metadata": {},
   "source": [
    "A space can be added to separate the words:"
   ]
  },
  {
   "cell_type": "code",
   "execution_count": null,
   "metadata": {},
   "outputs": [],
   "source": [
    "b + ' ' + c"
   ]
  },
  {
   "cell_type": "code",
   "execution_count": null,
   "metadata": {},
   "outputs": [],
   "source": [
    "print(b)\n",
    "print(type(b))"
   ]
  },
  {
   "cell_type": "markdown",
   "metadata": {},
   "source": [
    "## Assigning multiple values to variables <a class=\"anchor\" id=\"assigning-multiple-values-to-variables\"></a>\n",
    "\n",
    "### Lists <a class=\"anchor\" id=\"lists\"></a>\n",
    "\n",
    "Variables can also store more than one value, for example in a list of values:"
   ]
  },
  {
   "cell_type": "code",
   "execution_count": null,
   "metadata": {},
   "outputs": [],
   "source": [
    "list_of_things = [1, 55, 'Hi', ['apple', 'orange', 'banana']]\n",
    "list_of_things"
   ]
  },
  {
   "cell_type": "code",
   "execution_count": null,
   "metadata": {},
   "outputs": [],
   "source": [
    "list_of_things.append('Toronto')\n",
    "list_of_things"
   ]
  },
  {
   "cell_type": "code",
   "execution_count": null,
   "metadata": {},
   "outputs": [],
   "source": [
    "list_of_things.remove(55)\n",
    "list_of_things"
   ]
  },
  {
   "cell_type": "code",
   "execution_count": null,
   "metadata": {},
   "outputs": [],
   "source": [
    "print(list_of_things + list_of_things)"
   ]
  },
  {
   "cell_type": "markdown",
   "metadata": {},
   "source": [
    "A \"tuple\" is an immutable list (nothing can be added or subtracted) whose elements also can't be reassigned."
   ]
  },
  {
   "cell_type": "code",
   "execution_count": null,
   "metadata": {},
   "outputs": [],
   "source": [
    "tup1 = (1,5,2,1)\n",
    "print(tup1)\n",
    "tup1[0] = 3"
   ]
  },
  {
   "cell_type": "markdown",
   "metadata": {},
   "source": [
    "### Dictionaries <a class=\"anchor\" id=\"dictionaries\"></a>\n",
    "\n",
    "In a dictionary, *values* are paired with names, called *keys*. These are not stored in any specific order, and are therefore accessed by the key name rather than a number."
   ]
  },
  {
   "cell_type": "code",
   "execution_count": null,
   "metadata": {},
   "outputs": [],
   "source": [
    "fruit_colors = {'tangerine':'orange', 'banana':'yellow', 'apple':['green', 'red']}\n",
    "fruit_colors['banana']"
   ]
  },
  {
   "cell_type": "code",
   "execution_count": null,
   "metadata": {},
   "outputs": [],
   "source": [
    "fruit_colors['apple']\n",
    "list(fruit_colors.keys())"
   ]
  },
  {
   "cell_type": "code",
   "execution_count": null,
   "metadata": {},
   "outputs": [],
   "source": [
    "participant_info = {'ID': 50964, 'age': 15.25, 'sex': 'F', 'IQ': 105, 'medications': None, 'questionnaires': ['Vineland', 'CBCL', 'SRS']}"
   ]
  },
  {
   "cell_type": "code",
   "execution_count": null,
   "metadata": {},
   "outputs": [],
   "source": [
    "print(participant_info['ID']) \n",
    "print(participant_info['questionnaires'])\n"
   ]
  },
  {
   "cell_type": "markdown",
   "metadata": {},
   "source": [
    "## Comparisons <a class=\"anchor\" id=\"comparisons\"></a>\n",
    "\n",
    "Python can compare values and assess whether the expression is true or false. "
   ]
  },
  {
   "cell_type": "code",
   "execution_count": null,
   "metadata": {},
   "outputs": [],
   "source": [
    "1 == 1"
   ]
  },
  {
   "cell_type": "code",
   "execution_count": null,
   "metadata": {},
   "outputs": [],
   "source": [
    "1 == 0"
   ]
  },
  {
   "cell_type": "code",
   "execution_count": null,
   "metadata": {},
   "outputs": [],
   "source": [
    "1 > 0"
   ]
  },
  {
   "cell_type": "code",
   "execution_count": null,
   "metadata": {},
   "outputs": [],
   "source": [
    "'hey' == 'Hey'"
   ]
  },
  {
   "cell_type": "code",
   "execution_count": null,
   "metadata": {},
   "outputs": [],
   "source": [
    "'hey' == 'hey'"
   ]
  },
  {
   "cell_type": "code",
   "execution_count": null,
   "metadata": {},
   "outputs": [],
   "source": [
    "a >= 2 * 2 # we defined a = 5 above"
   ]
  },
  {
   "cell_type": "markdown",
   "metadata": {},
   "source": [
    "## Indexing and Slicing <a class=\"anchor\" id=\"index_slice\"></a>"
   ]
  },
  {
   "cell_type": "code",
   "execution_count": null,
   "metadata": {},
   "outputs": [],
   "source": [
    "#indexing in Python starts at 0, not 1 (like in Matlab or Oracle)\n",
    "fruits = ['apples', 'oranges', 'bananas']\n",
    "print(fruits[0])"
   ]
  },
  {
   "cell_type": "code",
   "execution_count": null,
   "metadata": {},
   "outputs": [],
   "source": [
    "print(fruits[1])"
   ]
  },
  {
   "cell_type": "code",
   "execution_count": null,
   "metadata": {},
   "outputs": [],
   "source": [
    "# strings are just a particular kind of list\n",
    "s = 'This_is_a_string.'"
   ]
  },
  {
   "cell_type": "code",
   "execution_count": null,
   "metadata": {},
   "outputs": [],
   "source": [
    "print(s[0])"
   ]
  },
  {
   "cell_type": "code",
   "execution_count": null,
   "metadata": {},
   "outputs": [],
   "source": [
    "# use -1 to get the last element\n",
    "print(fruits[-1])"
   ]
  },
  {
   "cell_type": "code",
   "execution_count": null,
   "metadata": {},
   "outputs": [],
   "source": [
    "print(fruits[-2])"
   ]
  },
  {
   "cell_type": "code",
   "execution_count": null,
   "metadata": {},
   "outputs": [],
   "source": [
    "# to get a slice of the string use the : symbol\n",
    "# s[0:x] will print up to the xth element, or the element with index x-1\n",
    "print(s[0:4]) "
   ]
  },
  {
   "cell_type": "code",
   "execution_count": null,
   "metadata": {},
   "outputs": [],
   "source": [
    "print(s[:4])"
   ]
  },
  {
   "cell_type": "code",
   "execution_count": null,
   "metadata": {},
   "outputs": [],
   "source": [
    "s = 'This_is_a_string.'\n",
    "print(s[5:7])"
   ]
  },
  {
   "cell_type": "code",
   "execution_count": null,
   "metadata": {},
   "outputs": [],
   "source": [
    "print(s[7:])\n",
    "print(s[7:len(s)])"
   ]
  },
  {
   "cell_type": "markdown",
   "metadata": {},
   "source": [
    "## If Statements <a class=\"anchor\" id=\"if_statements\"></a>"
   ]
  },
  {
   "cell_type": "code",
   "execution_count": null,
   "metadata": {},
   "outputs": [],
   "source": [
    "s2 = [19034, 23]\n",
    "\n",
    "# You will always need to start with an 'if' line\n",
    "# You do not need the elif or else statements\n",
    "# You can have as many elif statements as needed\n",
    "\n",
    "if type(s2) == str:\n",
    "    print('s2 is a string')\n",
    "elif type(s2) == int:\n",
    "    print('s2 is an integer')\n",
    "elif type(s2) == float:\n",
    "    print('s2 is a float')\n",
    "else:\n",
    "    print('s2 is not a string, integer or float')"
   ]
  },
  {
   "cell_type": "markdown",
   "metadata": {},
   "source": [
    "## For Loops <a class=\"anchor\" id=\"for_loops\"></a>"
   ]
  },
  {
   "cell_type": "code",
   "execution_count": null,
   "metadata": {},
   "outputs": [],
   "source": [
    "nums = [23, 56, 1, 10, 15, 0]"
   ]
  },
  {
   "cell_type": "code",
   "execution_count": null,
   "metadata": {},
   "outputs": [],
   "source": [
    "# in this case, 'n' is a dummy variable that will be used by the for loop\n",
    "# you do not need to assign it ahead of time\n",
    "\n",
    "for n in nums:\n",
    "    if n%2 == 0:\n",
    "        print('even')\n",
    "    else:\n",
    "        print('odd')"
   ]
  },
  {
   "cell_type": "code",
   "execution_count": null,
   "metadata": {},
   "outputs": [],
   "source": [
    "# for loops can iterate over strings as well\n",
    "vowels = 'aeiou'\n",
    "for vowel in vowels:\n",
    "    print(vowel)"
   ]
  },
  {
   "cell_type": "markdown",
   "metadata": {},
   "source": [
    "## List comprehensions <a class=\"anchor\" id=\"list_comprehensions\"></a>\n",
    "\n",
    "Format: \n",
    "    \n",
    "`mylist = [altered_thing for thing in list_of_things]`"
   ]
  },
  {
   "cell_type": "code",
   "execution_count": null,
   "metadata": {},
   "outputs": [],
   "source": [
    "my_colours = ['pink', 'purple', 'blue', 'green', 'orange']\n",
    "\n",
    "my_light_colours = ['light ' + colour for colour in my_colours]\n",
    "\n",
    "print(my_light_colours)\n",
    "\n"
   ]
  },
  {
   "cell_type": "markdown",
   "metadata": {},
   "source": [
    "## Functions <a class=\"anchor\" id=\"functions\"></a>"
   ]
  },
  {
   "cell_type": "code",
   "execution_count": null,
   "metadata": {},
   "outputs": [],
   "source": [
    "# always use descriptive naming for functions, variables, arguments etc.\n",
    "def sum_of_squares(num1, num2):\n",
    "    \"\"\"\n",
    "    Input: two numbers\n",
    "    Output: the sum of the squares of the two numbers\n",
    "    \"\"\"\n",
    "    ss = num1**2 + num2**2\n",
    "    return(ss)\n",
    "\n",
    "# The stuff inside \"\"\" \"\"\" is called the \"docstring\". It can be accessed by typing help(sum_of_squares)"
   ]
  },
  {
   "cell_type": "code",
   "execution_count": null,
   "metadata": {},
   "outputs": [],
   "source": [
    "help(sum_of_squares)"
   ]
  },
  {
   "cell_type": "code",
   "execution_count": null,
   "metadata": {},
   "outputs": [],
   "source": [
    "print(sum_of_squares(4,2))"
   ]
  },
  {
   "cell_type": "code",
   "execution_count": null,
   "metadata": {},
   "outputs": [],
   "source": [
    "# the return statement in a function allows us to store the output of a function call in a variable for later use\n",
    "ss1 = sum_of_squares(5,5)"
   ]
  },
  {
   "cell_type": "code",
   "execution_count": null,
   "metadata": {
    "scrolled": true
   },
   "outputs": [],
   "source": [
    "print(ss1)"
   ]
  },
  {
   "cell_type": "markdown",
   "metadata": {},
   "source": [
    "When we start working with spreadsheet-like data, we will see that these comparisons are really useful to extract subsets of data, for example observations from a certain time period."
   ]
  },
  {
   "cell_type": "markdown",
   "metadata": {},
   "source": [
    "# Using functions <a class=\"anchor\" id=\"using-functions\"></a>\n",
    "\n",
    "To access additional functionality in a spreadsheet program, you need to click the menu and select the tool you want to use. All charts are in one menu, text layout tools in another, data analyses tools in a third, and so on. Programming languages such as Python have so many tools and functions so that they would not fit in a menu. Instead of clicking `File -> Open` and chose the file, you would type something similar to `file.open('<filename>')` in a programming language. Don't worry if you forget the exact expression, it is often enough to just type the few first letters and then hit <kbd>Tab</kbd>, to show the available options, more on that later.\n",
    "\n",
    "\n",
    "## Packages <a class=\"anchor\" id=\"packages\"></a>\n",
    "\n",
    "Since there are so many esoteric tools and functions available in Python, it is unnecessary to include all of them with the basics that are loaded by default when you start the programming language (it would be as if your new phone came with every single app preinstalled). Instead, more advanced functionality is grouped into separate packages, which can be accessed by typing `import <package_name>` in Python. You can think of this as telling the program which menu items you want to use (similar to how Excel hides the `Developer menu` by default since most people rarely use it and you need activate it in the settings if you want to access its functionality). Some packages needs to be downloaded before they can be used, just like downloading an addon to a browser or mobile phone.\n",
    "\n",
    "Just like in spreadsheet software menus, there are lots of different tools within each Python package. For example, if I want to use numerical Python functions, I can import the **num**erical **py**thon module, `numpy`. I can then access any function by writing `numpy.<function_name>`.\n",
    "\n",
    "If the package name is long, it is common to import the package \"as\" another name, like a nickname. For instance, `numpy` is often imported as `np`. All you have to do is type `import numpy as np`. Thiis makes it faster to type and saves a bit of work and also makes the code a bit easier to read.\n"
   ]
  },
  {
   "cell_type": "code",
   "execution_count": null,
   "metadata": {},
   "outputs": [],
   "source": [
    "import numpy as np"
   ]
  },
  {
   "cell_type": "markdown",
   "metadata": {},
   "source": [
    "## How to get help <a class=\"anchor\" id=\"how-to-get-help\"></a>\n",
    "\n",
    "Once you start out using Python, you don't know what functions are availble within each package. Luckily, in the Jupyter Notebook, you can type `numpy.`<kbd>Tab</kbd> (that is numpy + period + tab-key) and a small menu will pop up that shows you all the available functions in that module. This is analogous to clicking a 'numpy-menu' and then going through the list of functions. As I mentioned earlier, there are plenty of available functions and it can be helpful to filter the menu by typing the initial letters of the function name."
   ]
  },
  {
   "cell_type": "markdown",
   "metadata": {},
   "source": [
    "To get more info on the function you want to use, you can type out the full name and then press <kbd>Shift + Tab</kbd> once to bring up a help dialogue and again to expand that dialogue."
   ]
  },
  {
   "cell_type": "markdown",
   "metadata": {},
   "source": [
    "If you need a more extensive help dialog, you can click  <kbd>Shift + Tab</kbd> four times or just type `?` after the function name."
   ]
  },
  {
   "cell_type": "markdown",
   "metadata": {},
   "source": [
    "# numpy: numerical python <a class=\"anchor\" id=\"numpy\"></a>"
   ]
  },
  {
   "cell_type": "code",
   "execution_count": null,
   "metadata": {},
   "outputs": [],
   "source": [
    "# use a package by importing it, you can also give it a \"nickname\", in this case 'np'\n",
    "import numpy as np\n",
    "np.mean?"
   ]
  },
  {
   "cell_type": "code",
   "execution_count": null,
   "metadata": {},
   "outputs": [],
   "source": [
    "array = np.arange(15)\n",
    "lst = list(range(15))"
   ]
  },
  {
   "cell_type": "code",
   "execution_count": null,
   "metadata": {},
   "outputs": [],
   "source": [
    "print(array)\n",
    "print(lst)"
   ]
  },
  {
   "cell_type": "code",
   "execution_count": null,
   "metadata": {},
   "outputs": [],
   "source": [
    "print(type(array))\n",
    "print(type(lst))"
   ]
  },
  {
   "cell_type": "code",
   "execution_count": null,
   "metadata": {},
   "outputs": [],
   "source": [
    "# numpy arrays allow for vectorized calculations\n",
    "print(array*2)\n",
    "print(lst*2)"
   ]
  },
  {
   "cell_type": "code",
   "execution_count": null,
   "metadata": {},
   "outputs": [],
   "source": [
    "array = array.reshape([5,3])\n",
    "print(array)"
   ]
  },
  {
   "cell_type": "code",
   "execution_count": null,
   "metadata": {},
   "outputs": [],
   "source": [
    "# for each row, take the mean across the 3 columns (using axis=1)\n",
    "array.mean(axis=1)"
   ]
  },
  {
   "cell_type": "code",
   "execution_count": null,
   "metadata": {},
   "outputs": [],
   "source": [
    "# max value in each column\n",
    "array.max(axis=0)"
   ]
  },
  {
   "cell_type": "code",
   "execution_count": null,
   "metadata": {},
   "outputs": [],
   "source": [
    "list2array = np.array(lst)\n",
    "type(list2array)\n",
    "list2array"
   ]
  },
  {
   "cell_type": "code",
   "execution_count": null,
   "metadata": {},
   "outputs": [],
   "source": [
    "array2d = np.array([range(i, i + 3) for i in [2, 4, 6]])\n",
    "array2d"
   ]
  },
  {
   "cell_type": "code",
   "execution_count": null,
   "metadata": {},
   "outputs": [],
   "source": [
    "my_zeros = np.zeros((10,1), dtype=int)\n",
    "my_zeros"
   ]
  },
  {
   "cell_type": "code",
   "execution_count": null,
   "metadata": {},
   "outputs": [],
   "source": [
    "np.ones((5,2), dtype=float)"
   ]
  },
  {
   "cell_type": "code",
   "execution_count": null,
   "metadata": {},
   "outputs": [],
   "source": [
    "np.full((3,3), np.pi)"
   ]
  },
  {
   "cell_type": "code",
   "execution_count": null,
   "metadata": {},
   "outputs": [],
   "source": [
    "# Create an array filled with a linear sequence: start, stop, step\n",
    "# up to stop value - 1\n",
    "# similar to \"range\"\n",
    "print(np.arange(0, 20, 2))\n",
    "print(list(range(0, 20, 2)))"
   ]
  },
  {
   "cell_type": "code",
   "execution_count": null,
   "metadata": {},
   "outputs": [],
   "source": [
    "# linspace: evenly spaced values: start, stop, number of values\n",
    "# up to stop value\n",
    "print(np.linspace(0, 20.2, 11))"
   ]
  },
  {
   "cell_type": "code",
   "execution_count": null,
   "metadata": {},
   "outputs": [],
   "source": [
    "# uniformly distributed random numbers between 0-1\n",
    "np.random.random((3,3)) "
   ]
  },
  {
   "cell_type": "code",
   "execution_count": null,
   "metadata": {},
   "outputs": [],
   "source": [
    "# normal distribution\n",
    "# mean, standard deviation, array size\n",
    "np.random.seed(0)\n",
    "my_array = np.random.normal(0, 1, (10000,1))\n",
    "print(my_array.mean())\n",
    "print(my_array.std())"
   ]
  },
  {
   "cell_type": "code",
   "execution_count": null,
   "metadata": {},
   "outputs": [],
   "source": [
    "iq = np.random.normal(100, 15, (30,1))\n",
    "print(np.mean(iq))\n",
    "print(np.median(iq))\n",
    "print(np.max(iq))\n",
    "print(np.min(iq))\n",
    "\n",
    "print('\\n')\n",
    "\n",
    "print(iq.mean())\n",
    "print(iq.max())\n",
    "print(iq.median())\n"
   ]
  },
  {
   "cell_type": "code",
   "execution_count": null,
   "metadata": {},
   "outputs": [],
   "source": [
    "x = np.random.normal(100,15,(3,4,5))\n",
    "\n",
    "print(\"# dimensions:\", x.ndim)\n",
    "print(\"Shape:\", x.shape)\n",
    "print(\"Size:\", x.size)"
   ]
  },
  {
   "cell_type": "code",
   "execution_count": null,
   "metadata": {},
   "outputs": [],
   "source": [
    "# indexing\n",
    "x[0,0,:]"
   ]
  },
  {
   "cell_type": "code",
   "execution_count": null,
   "metadata": {},
   "outputs": [],
   "source": [
    "# change elements\n",
    "x[0,0,2] = 108\n",
    "x[0,0,2]"
   ]
  },
  {
   "cell_type": "code",
   "execution_count": null,
   "metadata": {},
   "outputs": [],
   "source": [
    "x = np.arange(10)\n",
    "print(x)\n",
    "print(\"First five elements:\", x[:5]) # first five elements\n",
    "print(\"elements after index 5:\", x[5:]) # elements after index 5\n",
    "print(\"every other element:\", x[::4]) # every other element\n",
    "print(\"every other element, starting at index 3:\", x[3::2]) # every other element, starting at index 3\n",
    "print(\"all elements, reversed:\",x[::-1]) # all elements, reversed "
   ]
  },
  {
   "cell_type": "code",
   "execution_count": null,
   "metadata": {},
   "outputs": [],
   "source": [
    "# copying arrays\n",
    "print(x)\n",
    "x2 = x\n",
    "x2[0] = 100\n",
    "print(x2)\n",
    "print(x)\n"
   ]
  },
  {
   "cell_type": "code",
   "execution_count": null,
   "metadata": {},
   "outputs": [],
   "source": [
    "x3 = np.arange(10)\n",
    "x4 = x3.copy()\n",
    "x4[0] = 100\n",
    "print(x4)\n",
    "print(x3)"
   ]
  },
  {
   "cell_type": "code",
   "execution_count": null,
   "metadata": {},
   "outputs": [],
   "source": [
    "# concatenate arrays\n",
    "\n",
    "x1 = np.array([1,2,3])\n",
    "x2 = np.array([4,5,6])\n",
    "x3 = np.concatenate([x1,x2])\n",
    "print(x3)\n"
   ]
  },
  {
   "cell_type": "code",
   "execution_count": null,
   "metadata": {},
   "outputs": [],
   "source": [
    "# or stack vertically or horizontally\n",
    "# make sure dimensions agree\n",
    "x4 = np.vstack([x1,x2])\n",
    "print(x4)\n",
    "\n",
    "x5 = np.hstack([x1,x2])\n",
    "print(x5)"
   ]
  },
  {
   "cell_type": "code",
   "execution_count": null,
   "metadata": {},
   "outputs": [],
   "source": [
    "# numpy arithmetic\n",
    "x = np.arange(5)\n",
    "print(x)\n",
    "print(x+5)\n",
    "print(x*2)\n",
    "print(x/2)\n",
    "print(x//2)      # \"floor\" division, i.e. round down to nearest integer\n",
    "\n",
    "# alternatively:\n",
    "print('\\n')\n",
    "print(np.add(x,5))\n",
    "print(np.multiply(x,2))\n",
    "print(np.divide(x,2))\n",
    "print(np.floor_divide(x,2))\n",
    "print(np.power(x,3))\n",
    "print(np.mod(x,2))"
   ]
  },
  {
   "cell_type": "code",
   "execution_count": null,
   "metadata": {},
   "outputs": [],
   "source": [
    "# add all elements of x\n",
    "print(np.add.reduce(x))\n",
    "print(np.sum(x))\n",
    "\n",
    "# add all elements of x cumulatively\n",
    "print(np.add.accumulate(x))"
   ]
  },
  {
   "cell_type": "code",
   "execution_count": null,
   "metadata": {},
   "outputs": [],
   "source": [
    "# broadcasting\n",
    "a = np.eye(5)\n",
    "b = np.ones((5,1))\n",
    "b = np.ones((5,5))\n",
    "print(a)\n",
    "print(b)"
   ]
  },
  {
   "cell_type": "code",
   "execution_count": null,
   "metadata": {},
   "outputs": [],
   "source": [
    "print(a+b)"
   ]
  },
  {
   "cell_type": "code",
   "execution_count": null,
   "metadata": {},
   "outputs": [],
   "source": [
    "# broadcasting: practical example: mean-centering data\n",
    "\n",
    "data = np.random.normal(100, 15, (30, 6))\n",
    "print(data.shape)\n",
    "data_mean = data.mean(axis=0)\n",
    "print(data_mean.shape)\n",
    "\n",
    "\n",
    "data_mean_centered = data - data_mean\n",
    "\n",
    "data_mean_centered.mean(axis=0)"
   ]
  },
  {
   "cell_type": "markdown",
   "metadata": {},
   "source": [
    "## pandas (\"panel data\"): python data analysis library <a class=\"anchor\" id=\"data-analysis-with-pandas\"></a>\n",
    "\n",
    "The Python package that is most commonly used to work with spreadsheet-like data is called `pandas`, the name is derived from \"panel data\", an econometrics term for multidimensional structured data sets. Data are easily loaded into pandas from `.csv` or other spreadsheet formats. The format pandas uses to store this data is called a <b>data frame</b>.\n",
    "\n",
    "To have a quick peak at the data, I can type `df.head(<number_of_rows>)` (where \"df\" is the name of the dataframe). Notice that I do not have to use the `pd.`-syntax for this. `iris` is now a pandas data frame, and all pandas data frames have a number of built-in functions (called <b>methods</b>) that can be appended directly to the data frame instead of by calling `pandas` separately."
   ]
  },
  {
   "cell_type": "code",
   "execution_count": null,
   "metadata": {},
   "outputs": [],
   "source": [
    "import pandas as pd"
   ]
  },
  {
   "cell_type": "code",
   "execution_count": null,
   "metadata": {},
   "outputs": [],
   "source": [
    "# this will read in a csv file into a pandas DataFrame\n",
    "# this csv has data of country spending on healthcare\n",
    "#data = pd.read_csv('health.csv', header=0, index_col=0, encoding=\"ISO-8859-1\")\n",
    "\n",
    "# load several datasets \n",
    "data = pd.read_csv('https://tinyurl.com/uoftcode-health', header=0, index_col=0, \n",
    "                   encoding=\"ISO-8859-1\")\n",
    "iris = pd.read_csv('https://raw.githubusercontent.com/mwaskom/seaborn-data/master/iris.csv')\n"
   ]
  },
  {
   "cell_type": "code",
   "execution_count": null,
   "metadata": {},
   "outputs": [],
   "source": [
    "# the .head() function will allow us to look at first few lines of the dataframe\n",
    "data.head(10) # default is 5 rows"
   ]
  },
  {
   "cell_type": "code",
   "execution_count": null,
   "metadata": {},
   "outputs": [],
   "source": [
    "# by default, rows are indicated first, followed by the column: [row, column]\n",
    "data.loc['Canada', '2008']"
   ]
  },
  {
   "cell_type": "code",
   "execution_count": null,
   "metadata": {},
   "outputs": [],
   "source": [
    "# you can also slice a dataframe\n",
    "data.loc['Canada':'Chile', '1999':'2001']"
   ]
  },
  {
   "cell_type": "code",
   "execution_count": null,
   "metadata": {},
   "outputs": [],
   "source": [
    "%matplotlib inline\n",
    "import matplotlib.pyplot as plt"
   ]
  },
  {
   "cell_type": "code",
   "execution_count": null,
   "metadata": {},
   "outputs": [],
   "source": [
    "# the .plot() function will create a simple graph for you to quickly visualize your data\n",
    "data.loc['Denmark'].plot()\n",
    "data.loc['Canada'].plot()\n",
    "data.loc['India'].plot()\n",
    "plt.legend()\n",
    "plt.show()"
   ]
  },
  {
   "cell_type": "code",
   "execution_count": null,
   "metadata": {},
   "outputs": [],
   "source": [
    "iris.head() "
   ]
  },
  {
   "cell_type": "code",
   "execution_count": null,
   "metadata": {},
   "outputs": [],
   "source": [
    "iris.shape # rows, columns"
   ]
  },
  {
   "cell_type": "code",
   "execution_count": null,
   "metadata": {},
   "outputs": [],
   "source": [
    "iris.columns # names of columns"
   ]
  },
  {
   "cell_type": "markdown",
   "metadata": {},
   "source": [
    "To select a column we can *index* the data frame with the column name."
   ]
  },
  {
   "cell_type": "code",
   "execution_count": null,
   "metadata": {},
   "outputs": [],
   "source": [
    "iris['sepal_length']"
   ]
  },
  {
   "cell_type": "markdown",
   "metadata": {},
   "source": [
    "The output is here rendered slightly differently from before, because when we are looking only at one column, it is no longer a data frame, but a <b>*series*</b>. The differences are not important for this lecture, so this is all you need to know about that for now.\n",
    "\n",
    "We could now create a new column if we wanted:"
   ]
  },
  {
   "cell_type": "code",
   "execution_count": null,
   "metadata": {},
   "outputs": [],
   "source": [
    "iris['sepal_length_x2'] = iris['sepal_length'] * 2\n",
    "iris['sepal_length_x2']"
   ]
  },
  {
   "cell_type": "markdown",
   "metadata": {},
   "source": [
    "And delete that column again:"
   ]
  },
  {
   "cell_type": "code",
   "execution_count": null,
   "metadata": {},
   "outputs": [],
   "source": [
    "iris = iris.drop('sepal_length_x2', axis=1) # axis 0 = index, axis 1 = columns"
   ]
  },
  {
   "cell_type": "markdown",
   "metadata": {},
   "source": [
    "There are some built-in methods that make it convenient to calculate common operation on data frame columns."
   ]
  },
  {
   "cell_type": "code",
   "execution_count": null,
   "metadata": {},
   "outputs": [],
   "source": [
    "iris['sepal_length'].mean()"
   ]
  },
  {
   "cell_type": "code",
   "execution_count": null,
   "metadata": {},
   "outputs": [],
   "source": [
    "iris['sepal_length'].median()"
   ]
  },
  {
   "cell_type": "markdown",
   "metadata": {},
   "source": [
    "It is also possible to use these methods on all columns at the same time without having to type the same thing over and over again."
   ]
  },
  {
   "cell_type": "code",
   "execution_count": null,
   "metadata": {},
   "outputs": [],
   "source": [
    "iris.mean()"
   ]
  },
  {
   "cell_type": "markdown",
   "metadata": {},
   "source": [
    "Similarly, you can get a statistical summary of the data frame:"
   ]
  },
  {
   "cell_type": "code",
   "execution_count": null,
   "metadata": {},
   "outputs": [],
   "source": [
    "iris.describe()"
   ]
  },
  {
   "cell_type": "markdown",
   "metadata": {},
   "source": [
    "## Subsetting data <a class=\"anchor\" id=\"subsetting-data\"></a>"
   ]
  },
  {
   "cell_type": "markdown",
   "metadata": {},
   "source": [
    "A common task is to subset the data into only those observations that match a criteria. For example, we might be interest in only studying one specific species. First let's find out how many different species there are in our data set:"
   ]
  },
  {
   "cell_type": "code",
   "execution_count": null,
   "metadata": {},
   "outputs": [],
   "source": [
    "iris['species'].unique()"
   ]
  },
  {
   "cell_type": "markdown",
   "metadata": {
    "collapsed": true
   },
   "source": [
    "Let's arbitrarily choose *setosa* as the one to study! To select only observations from this species in the original data frame, we index the data frame with a comparison:"
   ]
  },
  {
   "cell_type": "code",
   "execution_count": null,
   "metadata": {
    "scrolled": true
   },
   "outputs": [],
   "source": [
    "iris['species'] == 'setosa'"
   ]
  },
  {
   "cell_type": "code",
   "execution_count": null,
   "metadata": {
    "scrolled": false
   },
   "outputs": [],
   "source": [
    "iris[iris['species'] == 'setosa']"
   ]
  },
  {
   "cell_type": "markdown",
   "metadata": {},
   "source": [
    "Now we can easily perform computation on this subset of the data:"
   ]
  },
  {
   "cell_type": "code",
   "execution_count": null,
   "metadata": {},
   "outputs": [],
   "source": [
    "iris[iris['species'] == 'setosa'].mean(axis=0)"
   ]
  },
  {
   "cell_type": "markdown",
   "metadata": {},
   "source": [
    "We could also compare all groups within the data against each other, by using the <b>split-apply-combine</b> workflow. This splits data into groups, applies an operation on each group, and then combines the results into a table for display.\n",
    "\n",
    "In pandas, we split into groups with the `group_by` command and then we apply an operation to the grouped data frame, e.g. `.mean()`."
   ]
  },
  {
   "cell_type": "code",
   "execution_count": null,
   "metadata": {},
   "outputs": [],
   "source": [
    "iris.groupby('species').mean()"
   ]
  },
  {
   "cell_type": "markdown",
   "metadata": {},
   "source": [
    "We can also easily count the number of observations in each group:"
   ]
  },
  {
   "cell_type": "code",
   "execution_count": null,
   "metadata": {},
   "outputs": [],
   "source": [
    "iris.groupby('species').size()"
   ]
  },
  {
   "cell_type": "markdown",
   "metadata": {},
   "source": [
    "## Data visualization <a class=\"anchor\" id=\"data-visualization\"></a>\n",
    "\n",
    "We can see that there are clear differences between species, but they might be even clearer if we display them graphically in a chart.\n",
    "\n",
    "### Plotting with pandas <a class=\"anchor\" id=\"plotting-with-pandas\"></a>"
   ]
  },
  {
   "cell_type": "markdown",
   "metadata": {},
   "source": [
    "Pandas interfaces with one of Python's most powerful data visualization libraries, `matplotlib`, to enable simple visualizations at minimal effort."
   ]
  },
  {
   "cell_type": "code",
   "execution_count": null,
   "metadata": {},
   "outputs": [],
   "source": [
    "# Prevent plots from popping up in a new window\n",
    "%matplotlib inline\n",
    "\n",
    "species_comparison = iris.groupby('species').mean() # Assign to a variable\n",
    "species_comparison.plot(kind='bar')"
   ]
  },
  {
   "cell_type": "markdown",
   "metadata": {},
   "source": [
    "Depending on what you are interesting in showing, it could be useful to have the species as the different colors and the columns along the x-axis. We can easily achieve this by transposing (`.T`) our data frame."
   ]
  },
  {
   "cell_type": "code",
   "execution_count": null,
   "metadata": {},
   "outputs": [],
   "source": [
    "species_comparison.T.plot(kind='bar')"
   ]
  },
  {
   "cell_type": "markdown",
   "metadata": {},
   "source": [
    "### Plotting with seaborn <a class=\"anchor\" id=\"plotting-with-seaborn\"></a>\n",
    "\n",
    "Another plotting library is `seaborn`, which also builds upon `matplotlib`, and extends it by adding new styles, additional plot types and some commonly performed statistical measures."
   ]
  },
  {
   "cell_type": "code",
   "execution_count": null,
   "metadata": {},
   "outputs": [],
   "source": [
    "import seaborn as sns\n",
    "\n",
    "sns.swarmplot('species', 'sepal_length', data = iris)"
   ]
  },
  {
   "cell_type": "markdown",
   "metadata": {},
   "source": [
    "The labels on this plot look a bit small, so let's change the style we are using for plotting."
   ]
  },
  {
   "cell_type": "code",
   "execution_count": null,
   "metadata": {},
   "outputs": [],
   "source": [
    "sns.set(style='ticks', context='talk', rc={'figure.figsize':(8, 5),'axes.spines.right':False, 'axes.spines.top':False}) # This applies to all subseque\n",
    "# styles: darkgrid, whitegrid, dark, white, and ticks\n",
    "# contexts: paper, notebook, talk, poster\n",
    "#sns.axes_style()"
   ]
  },
  {
   "cell_type": "code",
   "execution_count": null,
   "metadata": {},
   "outputs": [],
   "source": [
    "sns.swarmplot('species', 'sepal_length', data=iris)"
   ]
  },
  {
   "cell_type": "markdown",
   "metadata": {},
   "source": [
    "We can use the same syntax to create many of the common plots in `seaborn`."
   ]
  },
  {
   "cell_type": "code",
   "execution_count": null,
   "metadata": {},
   "outputs": [],
   "source": [
    "sns.barplot('species', 'sepal_length', data=iris)"
   ]
  },
  {
   "cell_type": "markdown",
   "metadata": {},
   "source": [
    "Bar charts are a common, but not very useful way of presenting data aggregations (e.g. the mean). A better way is to use the points as we did above, or a plot that capture the distribution of the data, such as a boxplot, or a violin plot:"
   ]
  },
  {
   "cell_type": "code",
   "execution_count": null,
   "metadata": {},
   "outputs": [],
   "source": [
    "sns.violinplot('species', 'sepal_length', data = iris)"
   ]
  },
  {
   "cell_type": "markdown",
   "metadata": {},
   "source": [
    "We can also combine two plots, by simply adding the two line after each other. There is also a more advanced figure interface available in `matplotlib` to explicitly indicate which figure and axes you want the plot to appear in, but this is outside the scope of this tutorial (more info [here](https://matplotlib.org/users/recipes.html#easily-creating-subplots) and [here](https://stackoverflow.com/questions/23969619/plotting-with-seaborn-using-the-matplotlib-object-oriented-interface))."
   ]
  },
  {
   "cell_type": "code",
   "execution_count": null,
   "metadata": {},
   "outputs": [],
   "source": [
    "sns.violinplot('species', 'sepal_length', data=iris, inner=None)\n",
    "sns.swarmplot('species', 'sepal_length', data=iris, color='black', size=4)"
   ]
  },
  {
   "cell_type": "markdown",
   "metadata": {},
   "source": [
    "Instead of plotting one categorical variable vs a numerical variable, we can also plot two numerical values against each other to explore potential correlations between these two variables:"
   ]
  },
  {
   "cell_type": "code",
   "execution_count": null,
   "metadata": {},
   "outputs": [],
   "source": [
    "sns.lmplot('sepal_width', 'sepal_length', data=iris, size=6)"
   ]
  },
  {
   "cell_type": "markdown",
   "metadata": {},
   "source": [
    "There is a regression line plotted by default to indicate the trend in the data. Let's turn that off for now and look at only the data points."
   ]
  },
  {
   "cell_type": "code",
   "execution_count": null,
   "metadata": {},
   "outputs": [],
   "source": [
    "sns.lmplot('sepal_width', 'sepal_length', data=iris, fit_reg=False, size=6)"
   ]
  },
  {
   "cell_type": "markdown",
   "metadata": {},
   "source": [
    "There appears to be some structure in this data. At least two clusters of points seem to be present. Let's color according to species and see if that explains what we see."
   ]
  },
  {
   "cell_type": "code",
   "execution_count": null,
   "metadata": {},
   "outputs": [],
   "source": [
    "sns.lmplot('sepal_width', 'sepal_length', data=iris, hue='species', fit_reg=False, size=6)"
   ]
  },
  {
   "cell_type": "markdown",
   "metadata": {},
   "source": [
    "Now we can add back the regression line, but this time one for each group."
   ]
  },
  {
   "cell_type": "code",
   "execution_count": null,
   "metadata": {},
   "outputs": [],
   "source": [
    "sns.lmplot('sepal_width', 'sepal_length', data=iris, hue='species', fit_reg=True, size=6)"
   ]
  },
  {
   "cell_type": "markdown",
   "metadata": {},
   "source": [
    "Instead of creating a plot for each variable against each other, we can easily create a grid of subplots for all variables with a single command:"
   ]
  },
  {
   "cell_type": "code",
   "execution_count": null,
   "metadata": {},
   "outputs": [],
   "source": [
    "sns.pairplot(iris, hue=\"species\", size=3.5)"
   ]
  },
  {
   "cell_type": "markdown",
   "metadata": {},
   "source": [
    "### More complex visualizations <a class=\"anchor\" id=\"more-complex-visualizations\"></a>\n",
    "\n",
    "Many visualizations are easier to create if we first reshape our data frame into the [tidy format](http://vita.had.co.nz/papers/tidy-data.pdf), which is what `seaborn` prefers. This is also referred to as changing the data frame format from wide (many columns) to long (many rows), since it moves information from columns to rows:"
   ]
  },
  {
   "cell_type": "markdown",
   "metadata": {},
   "source": [
    "We can use pandas built-in `melt`-function to \"melt\" the wide data frame into the long format. The new columns will be given the names `variable` and `value` by default (see the help of `melt` if you would like to change these names)."
   ]
  },
  {
   "cell_type": "code",
   "execution_count": null,
   "metadata": {},
   "outputs": [],
   "source": [
    "iris_long = pd.melt(iris, id_vars = 'species')\n",
    "iris_long"
   ]
  },
  {
   "cell_type": "markdown",
   "metadata": {},
   "source": [
    "We do not need to call `groupby` or `mean` on the long `iris` data frame when plotting with `seaborn`. Instead we control these options from `seaborn` with the plot type we chose (barplot = mean automatically) and the `hue`-parameter, which is analogous to `groupby`."
   ]
  },
  {
   "cell_type": "code",
   "execution_count": null,
   "metadata": {},
   "outputs": [],
   "source": [
    "sns.set(context='poster', style='white', rc={'figure.figsize':(10, 6), 'axes.spines.right':False, 'axes.spines.top':False})\n",
    "\n",
    "sns.swarmplot(x='variable', y='value', hue = 'species', data=iris_long, dodge=True, palette='Set2', size=4)"
   ]
  },
  {
   "cell_type": "code",
   "execution_count": null,
   "metadata": {},
   "outputs": [],
   "source": [
    "sns.set(context='poster', style='darkgrid', rc={'figure.figsize':(12, 6)})\n",
    "# stripplot: scatterplot where one variable is categorical \n",
    "\n",
    "sns.boxplot(y='variable', x='value', hue='species', data=iris_long, color='c', )\n",
    "sns.stripplot(y='variable', x='value', hue='species', data=iris_long, size=2.5, palette=['k']*3, jitter=True, dodge=True)\n",
    "plt.xlim([0, 10])"
   ]
  },
  {
   "cell_type": "markdown",
   "metadata": {},
   "source": [
    "It is also possible to get too fancy and accidentally hide important messages in the data. However, the fact that you now have access to several ways to plot your data forces you to consider what is actually important and how you can best communicate that message, rather than always making the same plot without considering its strengths and weaknesses."
   ]
  },
  {
   "cell_type": "markdown",
   "metadata": {},
   "source": [
    "# Resources to learn more <a class=\"anchor\" id=\"resources-to-learn-more\"></a>\n",
    "\n",
    "The documentation for these packages are great resources to learn more.\n",
    "\n",
    "- [Introduction to `pandas`](https://pandas.pydata.org/pandas-docs/stable/10min.html)\n",
    "- [Lessons for new `pandas` users](https://pandas.pydata.org/pandas-docs/stable/tutorials.html#lessons-for-new-pandas-users)\n",
    "- [The `seaborn` gallery](https://seaborn.pydata.org/examples/index.html)\n",
    "- [The `seaborn` tutorials](https://seaborn.pydata.org/tutorial.html)\n",
    "- [The `matplotlib` gallery](https://matplotlib.org/gallery.html) is another great resource. We did not practice using `matplotlib` explicitly in this notebook, but the plotting techniques from `pandas` and `seaborn` are layers on top of the `matplotlib` library, so we have been using it indirectly."
   ]
  }
 ],
 "metadata": {
  "hide_input": false,
  "kernelspec": {
   "display_name": "Python 3",
   "language": "python",
   "name": "python3"
  },
  "language_info": {
   "codemirror_mode": {
    "name": "ipython",
    "version": 3
   },
   "file_extension": ".py",
   "mimetype": "text/x-python",
   "name": "python",
   "nbconvert_exporter": "python",
   "pygments_lexer": "ipython3",
   "version": "3.6.2"
  },
  "toc": {
   "colors": {
    "hover_highlight": "#DAA520",
    "running_highlight": "#FF0000",
    "selected_highlight": "#FFD700"
   },
   "moveMenuLeft": false,
   "nav_menu": {
    "height": "226px",
    "width": "285px"
   },
   "navigate_menu": true,
   "number_sections": true,
   "sideBar": true,
   "threshold": 4,
   "toc_cell": false,
   "toc_section_display": "block",
   "toc_window_display": false,
   "widenNotebook": false
  }
 },
 "nbformat": 4,
 "nbformat_minor": 1
}
