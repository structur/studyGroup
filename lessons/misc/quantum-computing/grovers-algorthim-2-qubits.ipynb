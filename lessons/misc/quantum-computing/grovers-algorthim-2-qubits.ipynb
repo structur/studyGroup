{
 "cells": [
  {
   "cell_type": "markdown",
   "metadata": {},
   "source": [
    "# Simulating Grover's Search Algorithm with 2 Qubits"
   ]
  },
  {
   "cell_type": "code",
   "execution_count": 2,
   "metadata": {
    "collapsed": true
   },
   "outputs": [],
   "source": [
    "import numpy as np\n",
    "from matplotlib import pyplot as plt\n",
    "%matplotlib inline"
   ]
  },
  {
   "cell_type": "markdown",
   "metadata": {},
   "source": [
    "Define the zero and one vectors\n",
    "Define the initial state $\\psi$"
   ]
  },
  {
   "cell_type": "code",
   "execution_count": 22,
   "metadata": {},
   "outputs": [
    {
     "name": "stdout",
     "output_type": "stream",
     "text": [
      "[[1]\n",
      " [0]\n",
      " [0]\n",
      " [0]]\n"
     ]
    }
   ],
   "source": [
    "zero = np.matrix([[1],[0]]);\n",
    "one = np.matrix([[0],[1]]);\n",
    "\n",
    "psi = np.kron(zero,zero);\n",
    "print(psi)"
   ]
  },
  {
   "cell_type": "markdown",
   "metadata": {},
   "source": [
    "Define the gates we will use:\n",
    "\n",
    "$\n",
    "\\text{Id} = \\begin{pmatrix} \n",
    "1 & 0  \\\\\n",
    "0 & 1  \n",
    "\\end{pmatrix},\n",
    "\\quad\n",
    "X = \\begin{pmatrix} \n",
    "0 & 1   \\\\\n",
    "1 & 0  \n",
    "\\end{pmatrix},\n",
    "\\quad\n",
    "Z = \\begin{pmatrix} \n",
    "1 &  0 \\\\\n",
    "0 & -1 \n",
    "\\end{pmatrix},\n",
    "\\quad\n",
    "H = \\frac{1}{\\sqrt{2}}\\begin{pmatrix} \n",
    "1 & 1   \\\\\n",
    "1 & -1  \n",
    "\\end{pmatrix},\n",
    "\\quad\n",
    "\\text{CNOT} = \\begin{pmatrix} \n",
    "1 & 0 & 0 & 0 \\\\\n",
    "0 & 1 & 0 & 0 \\\\  \n",
    "0 & 0 & 0 & 1 \\\\\n",
    "0 & 0 & 1 & 0\n",
    "\\end{pmatrix},\n",
    "\\quad\n",
    "CZ = (\\text{Id} \\otimes H) \\text{ CNOT } (\\text{Id} \\otimes H) \n",
    "$"
   ]
  },
  {
   "cell_type": "code",
   "execution_count": 23,
   "metadata": {},
   "outputs": [
    {
     "name": "stdout",
     "output_type": "stream",
     "text": [
      "[[ 1.  0.  0.  0.]\n",
      " [ 0.  1.  0.  0.]\n",
      " [ 0.  0.  1.  0.]\n",
      " [ 0.  0.  0. -1.]]\n"
     ]
    }
   ],
   "source": [
    "Id = np.matrix([[1,0],[0,1]]);\n",
    "X = np.matrix([[0,1],[1,0]]);\n",
    "Z = np.matrix([[1,0],[0,-1]]);\n",
    "H = np.sqrt(0.5) * np.matrix([[1,1],[1,-1]]);\n",
    "\n",
    "CNOT = np.matrix([[1,0,0,0],[0,1,0,0],[0,0,0,1],[0,0,1,0]]);\n",
    "CZ = np.kron(Id,H).dot(CNOT).dot(np.kron(Id,H));\n",
    "print(CZ)"
   ]
  },
  {
   "cell_type": "markdown",
   "metadata": {},
   "source": [
    "Define the oracle for Grover's algorithm  (take search answer to be \"10\")\n",
    "\n",
    "$\n",
    "\\text{oracle} = \\begin{pmatrix} \n",
    "1 & 0 & 0 & 0  \\\\\n",
    "0 & 1 & 0 & 0 \\\\\n",
    "0 & 0 & -1 & 0 \\\\\n",
    "0 & 0 & 0 & 1\n",
    "\\end{pmatrix}\n",
    "= (Z \\otimes \\text{Id})  CZ\n",
    "$\n",
    "\n",
    "Use different combinations of $Z \\otimes \\text{Id}$ to change where search answer is. "
   ]
  },
  {
   "cell_type": "code",
   "execution_count": 24,
   "metadata": {},
   "outputs": [
    {
     "name": "stdout",
     "output_type": "stream",
     "text": [
      "[[ 1.  0.  0.  0.]\n",
      " [ 0.  1.  0.  0.]\n",
      " [ 0.  0. -1.  0.]\n",
      " [ 0.  0.  0.  1.]]\n"
     ]
    }
   ],
   "source": [
    "oracle = np.kron(Z,Id).dot(CZ);\n",
    "print(oracle)"
   ]
  },
  {
   "cell_type": "markdown",
   "metadata": {},
   "source": [
    "Act the H gates on the input vector and apply the oracle "
   ]
  },
  {
   "cell_type": "code",
   "execution_count": 26,
   "metadata": {},
   "outputs": [
    {
     "name": "stdout",
     "output_type": "stream",
     "text": [
      "[[ 0.5]\n",
      " [ 0.5]\n",
      " [-0.5]\n",
      " [ 0.5]]\n"
     ]
    }
   ],
   "source": [
    "psi0 = np.kron(H,H).dot(psi);\n",
    "psi1 = oracle.dot(psi0);\n",
    "print(psi1)"
   ]
  },
  {
   "cell_type": "markdown",
   "metadata": {},
   "source": [
    "Remember that when we measure the result (\"00\", \"01\", \"10\", \"11\") is chosen randomly with probabilities given by the vector elements squared."
   ]
  },
  {
   "cell_type": "code",
   "execution_count": 27,
   "metadata": {},
   "outputs": [
    {
     "name": "stdout",
     "output_type": "stream",
     "text": [
      "[[ 0.25]\n",
      " [ 0.25]\n",
      " [ 0.25]\n",
      " [ 0.25]]\n"
     ]
    }
   ],
   "source": [
    "print(np.multiply(psi1,psi1))"
   ]
  },
  {
   "cell_type": "markdown",
   "metadata": {},
   "source": [
    "There is no difference between any of the probabilities. It's still just a 25% chance of getting the right answer. \n",
    "\n",
    "We need some of gates after the oracle before measuring to converge on the right answer.  \n",
    "\n",
    "These gates do the operation $W = \\frac{1}{2}\\begin{pmatrix} \n",
    "-1 & 1 & 1 & 1  \\\\\n",
    "1 & -1 & 1 & 1 \\\\\n",
    "1 & 1 & -1 & 1 \\\\\n",
    "1 & 1 & 1 & -1\n",
    "\\end{pmatrix}\n",
    "=\n",
    "(H \\otimes H)(Z \\otimes Z) CZ (H \\otimes H)\n",
    "$\n",
    "\n",
    "Notice that if the matrix W is multiplied by the vector after the oracle, W $\\frac{1}{2}\\begin{pmatrix} \n",
    "1 \\\\\n",
    "1 \\\\\n",
    "-1 \\\\\n",
    "1\n",
    "\\end{pmatrix} \n",
    "= \\begin{pmatrix} \n",
    "0 \\\\\n",
    "0 \\\\\n",
    "1 \\\\\n",
    "0\n",
    "\\end{pmatrix}  $,\n",
    "every vector element decreases, except the correct answer element which increases. This would be true if if we chose a different place for the search result originally."
   ]
  },
  {
   "cell_type": "code",
   "execution_count": 29,
   "metadata": {},
   "outputs": [
    {
     "name": "stdout",
     "output_type": "stream",
     "text": [
      "[[-0.5  0.5  0.5  0.5]\n",
      " [ 0.5 -0.5  0.5  0.5]\n",
      " [ 0.5  0.5 -0.5  0.5]\n",
      " [ 0.5  0.5  0.5 -0.5]]\n"
     ]
    }
   ],
   "source": [
    "W = np.kron(H,H).dot(np.kron(Z,Z)).dot(CZ).dot(np.kron(H,H));\n",
    "print(W)"
   ]
  },
  {
   "cell_type": "code",
   "execution_count": 31,
   "metadata": {},
   "outputs": [
    {
     "name": "stdout",
     "output_type": "stream",
     "text": [
      "[[  1.23259516e-32]\n",
      " [  3.08148791e-33]\n",
      " [  1.00000000e+00]\n",
      " [  3.08148791e-33]]\n"
     ]
    }
   ],
   "source": [
    "psif = W.dot(psi1);\n",
    "print(np.multiply(psif,psif))"
   ]
  },
  {
   "cell_type": "code",
   "execution_count": 44,
   "metadata": {},
   "outputs": [
    {
     "data": {
      "image/png": "[encoded data removed]",
      "text/plain": [
       "<matplotlib.figure.Figure at 0x10ecb0ba8>"
      ]
     },
     "metadata": {},
     "output_type": "display_data"
    }
   ],
   "source": [
    "x = [0,1,2,3];\n",
    "xb = [0.25,1.25,2.25,3.25];\n",
    "labels=['00', '01', '10', '11'];\n",
    "plt.axis([-0.5,3.5,-1.25,1.25]);\n",
    "plt.xticks(x,labels);\n",
    "plt.bar(x, np.ravel(psi0), 1/1.5, color=\"red\");\n",
    "plt.bar(xb, np.ravel(np.multiply(psi0,psi0)), 1/2., color=\"blue\");"
   ]
  },
  {
   "cell_type": "code",
   "execution_count": 45,
   "metadata": {},
   "outputs": [
    {
     "data": {
      "image/png": "[encoded data removed]",
      "text/plain": [
       "<matplotlib.figure.Figure at 0x10ec82b00>"
      ]
     },
     "metadata": {},
     "output_type": "display_data"
    }
   ],
   "source": [
    "labels=['00', '01', '10', '11'];\n",
    "plt.axis([-0.5,3.5,-1.25,1.25]);\n",
    "plt.xticks(x,labels);\n",
    "plt.bar(x, np.ravel(psi1), 1/1.5, color=\"red\");\n",
    "plt.bar(xb, np.ravel(np.multiply(psi1,psi1)), 1/2., color=\"blue\");"
   ]
  },
  {
   "cell_type": "code",
   "execution_count": 46,
   "metadata": {},
   "outputs": [
    {
     "data": {
      "image/png": "[encoded data removed]",
      "text/plain": [
       "<matplotlib.figure.Figure at 0x10ea345f8>"
      ]
     },
     "metadata": {},
     "output_type": "display_data"
    }
   ],
   "source": [
    "labels=['00', '01', '10', '11'];\n",
    "plt.axis([-0.5,3.5,-1.25,1.25]);\n",
    "plt.xticks(x,labels);\n",
    "plt.bar(x, np.ravel(psif), 1/1.5, color=\"red\");\n",
    "plt.bar(xb, np.ravel(np.multiply(psif,psif)), 1/2., color=\"blue\");"
   ]
  },
  {
   "cell_type": "code",
   "execution_count": null,
   "metadata": {
    "collapsed": true
   },
   "outputs": [],
   "source": []
  }
 ],
 "metadata": {
  "kernelspec": {
   "display_name": "Python 3",
   "language": "python",
   "name": "python3"
  },
  "language_info": {
   "codemirror_mode": {
    "name": "ipython",
    "version": 3
   },
   "file_extension": ".py",
   "mimetype": "text/x-python",
   "name": "python",
   "nbconvert_exporter": "python",
   "pygments_lexer": "ipython3",
   "version": "3.6.2"
  }
 },
 "nbformat": 4,
 "nbformat_minor": 2
}
