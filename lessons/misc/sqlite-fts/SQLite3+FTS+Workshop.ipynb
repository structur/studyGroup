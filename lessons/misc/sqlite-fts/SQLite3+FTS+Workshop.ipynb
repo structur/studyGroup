{
 "cells": [
  {
   "cell_type": "markdown",
   "metadata": {},
   "source": [
    "### Import sqlite3 library"
   ]
  },
  {
   "cell_type": "code",
   "execution_count": null,
   "metadata": {},
   "outputs": [],
   "source": [
    "import sqlite3\n",
    "import sys\n",
    "from glob import glob"
   ]
  },
  {
   "cell_type": "markdown",
   "metadata": {},
   "source": [
    "### Connect to a database file or create an in-memory database"
   ]
  },
  {
   "cell_type": "code",
   "execution_count": null,
   "metadata": {},
   "outputs": [],
   "source": [
    "conn = sqlite3.connect('/users/mikespears/Desktop/mydb.db') #file-based db\n",
    "#conn = sqlite3.connect(':memory:') # in-memory db\n",
    "c = conn.cursor()\n"
   ]
  },
  {
   "cell_type": "markdown",
   "metadata": {},
   "source": [
    "### SQLite basics: Create a regular (non fts) table, insert and search for values"
   ]
  },
  {
   "cell_type": "code",
   "execution_count": null,
   "metadata": {},
   "outputs": [],
   "source": [
    "c.execute('''DROP TABLE IF EXISTS uoftcoders''') \n",
    "c.execute('''CREATE TABLE uoftcoders (date, title, attendance)''')\n",
    "conn.commit()"
   ]
  },
  {
   "cell_type": "code",
   "execution_count": null,
   "metadata": {},
   "outputs": [],
   "source": [
    "c.execute('''INSERT INTO uoftcoders VALUES (?, ?, ?)''', [\"March 7, 2019\", \"Full Text Search with SQLITE\", 12])\n",
    "c.execute('''INSERT INTO uoftcoders VALUES (?, ?, ?)''', [\"March 14, 2019\", \"Software defined radio\", 15])\n",
    "conn.commit()"
   ]
  },
  {
   "cell_type": "code",
   "execution_count": null,
   "metadata": {},
   "outputs": [],
   "source": [
    "c.execute('''SELECT * FROM uoftcoders WHERE date = ?''', [\"March 7, 2019\"])\n",
    "print(c.fetchall())"
   ]
  },
  {
   "cell_type": "code",
   "execution_count": null,
   "metadata": {},
   "outputs": [],
   "source": [
    "c.execute('''SELECT * FROM uoftcoders WHERE attendance > ?''', [10])\n",
    "print(c.fetchall())"
   ]
  },
  {
   "cell_type": "code",
   "execution_count": null,
   "metadata": {},
   "outputs": [],
   "source": [
    "#basic pattern matching with LIKE\n",
    "c.execute('''SELECT * FROM uoftcoders WHERE date LIKE ?''', [\"%march_%\"])\n",
    "print(c.fetchall())"
   ]
  },
  {
   "cell_type": "markdown",
   "metadata": {},
   "source": [
    "### Full-Text-Search: Create a table, insert data and search for matches"
   ]
  },
  {
   "cell_type": "code",
   "execution_count": null,
   "metadata": {},
   "outputs": [],
   "source": [
    "c.execute('''DROP TABLE IF EXISTS files''')\n",
    "c.execute('''CREATE VIRTUAL TABLE files USING fts4(filename, text)''')\n",
    "#c.execute('''CREATE VIRTUAL TABLE files USING fts4(filename, text, tokenize=porter)''')\n",
    "#c.execute('''CREATE VIRTUAL TABLE files USING fts4(filename, text, tokenize=unicode61)''')\n",
    "conn.commit()"
   ]
  },
  {
   "cell_type": "code",
   "execution_count": null,
   "metadata": {},
   "outputs": [],
   "source": [
    "# Insert all the files in a directory (that contains only plaintext files)\n",
    "textFileDir = \"/users/mikespears/downloads/science/\"\n",
    "allFiles = glob(textFileDir + \"*.*\")\n",
    "\n",
    "for path in allFiles:\n",
    "    with open(path) as file: \n",
    "        try:\n",
    "            text = file.read()\n",
    "            c.execute('''INSERT INTO files(filename, text) VALUES(?, ?)''', [path, text])\n",
    "            #print(path)\n",
    "        except:\n",
    "            e = sys.exc_info()[0]\n",
    "            print(\"Read or insert error: %s (in %s)\" % (e, path))\n",
    "            continue\n",
    "    \n",
    "    \n",
    "conn.commit()"
   ]
  },
  {
   "cell_type": "code",
   "execution_count": null,
   "metadata": {},
   "outputs": [],
   "source": [
    "c.execute('''SELECT COUNT(*) from files''')\n",
    "print(c.fetchall())"
   ]
  },
  {
   "cell_type": "code",
   "execution_count": null,
   "metadata": {},
   "outputs": [],
   "source": [
    "#basic token search text column\n",
    "for row in c.execute('''SELECT filename FROM FILES WHERE text MATCH ?''', ['relativity']):\n",
    "    print(row)"
   ]
  },
  {
   "cell_type": "code",
   "execution_count": null,
   "metadata": {},
   "outputs": [],
   "source": [
    "#implicit 'AND'\n",
    "for row in c.execute('''SELECT filename FROM FILES WHERE text MATCH ?''', ['special relativity']):\n",
    "    print(row)"
   ]
  },
  {
   "cell_type": "code",
   "execution_count": null,
   "metadata": {},
   "outputs": [],
   "source": [
    "# OR\n",
    "for row in c.execute('''SELECT filename FROM FILES WHERE text MATCH ?''', ['special OR relativity']):\n",
    "    print(row)"
   ]
  },
  {
   "cell_type": "code",
   "execution_count": null,
   "metadata": {},
   "outputs": [],
   "source": [
    "#search for a phrase\n",
    "for row in c.execute('''SELECT filename FROM FILES WHERE text MATCH ?''', ['\"special relativity\"']):\n",
    "    print(row)"
   ]
  },
  {
   "cell_type": "code",
   "execution_count": null,
   "metadata": {},
   "outputs": [],
   "source": [
    "#exclude a token\n",
    "for row in c.execute('''SELECT filename FROM FILES WHERE text MATCH ?''', ['relativity -special']):\n",
    "    print(row)"
   ]
  },
  {
   "cell_type": "code",
   "execution_count": null,
   "metadata": {},
   "outputs": [],
   "source": [
    "#NEAR operator\n",
    "for row in c.execute('''SELECT filename FROM FILES WHERE text MATCH ?''', [\"relativity NEAR special\"]):\n",
    "    print(row)"
   ]
  },
  {
   "cell_type": "code",
   "execution_count": null,
   "metadata": {},
   "outputs": [],
   "source": [
    "#specify a column in the search term\n",
    "for row in c.execute('''SELECT filename FROM FILES WHERE text MATCH ?''', ['filename:faq']):\n",
    "    print(row)"
   ]
  },
  {
   "cell_type": "code",
   "execution_count": null,
   "metadata": {},
   "outputs": [],
   "source": [
    "for row in c.execute('''SELECT snippet(files, \">>>>\", \"<<<<\", \"...\"), filename FROM FILES WHERE text MATCH ?''', ['relativity']):\n",
    "    print (\"\\n\\n--------%s\\n\\n\" % row[1])\n",
    "    print(row[0])"
   ]
  },
  {
   "cell_type": "code",
   "execution_count": null,
   "metadata": {},
   "outputs": [],
   "source": [
    "#get offset\n",
    "for row in c.execute('''SELECT offsets(FILES) FROM FILES WHERE text MATCH ?''', ['filename:faq']):\n",
    "    print(row)"
   ]
  },
  {
   "cell_type": "code",
   "execution_count": null,
   "metadata": {},
   "outputs": [],
   "source": [
    "#get matchinfo\n",
    "for row in c.execute('''SELECT matchinfo(FILES) FROM FILES WHERE files MATCH ?''', ['filename:faq']):\n",
    "    print(row)"
   ]
  },
  {
   "cell_type": "code",
   "execution_count": null,
   "metadata": {},
   "outputs": [],
   "source": [
    "#direct access to full-text index\n",
    "c.execute('''DROP TABLE IF EXISTS files_terms''')\n",
    "c.execute('''CREATE VIRTUAL TABLE files_terms USING fts4aux(files)''')\n",
    "conn.commit()\n",
    "for row in c.execute('''SELECT * from files_terms ORDER BY occurrences DESC'''):\n",
    "    print(row)\n"
   ]
  },
  {
   "cell_type": "code",
   "execution_count": null,
   "metadata": {},
   "outputs": [],
   "source": [
    "conn.close()"
   ]
  }
 ],
 "metadata": {
  "kernelspec": {
   "display_name": "Python 3",
   "language": "python",
   "name": "python3"
  },
  "language_info": {
   "codemirror_mode": {
    "name": "ipython",
    "version": 3
   },
   "file_extension": ".py",
   "mimetype": "text/x-python",
   "name": "python",
   "nbconvert_exporter": "python",
   "pygments_lexer": "ipython3",
   "version": "3.6.4"
  }
 },
 "nbformat": 4,
 "nbformat_minor": 2
}
