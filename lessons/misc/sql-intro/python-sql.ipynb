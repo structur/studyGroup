{
 "cells": [
  {
   "cell_type": "markdown",
   "metadata": {},
   "source": [
    "# Introduction to Databases and SQL\n",
    "\n",
    "- **Authors**: Ian Dennis Miller\n",
    "- **Research field**: Social Psychology - Social Complexity\n",
    "- **Lesson topic**: Databases and SQL\n",
    "- **Lesson content URL**: <https://github.com/UofTCoders/studyGroup/tree/gh-pages/lessons/misc/sql-intro>"
   ]
  },
  {
   "cell_type": "markdown",
   "metadata": {
    "collapsed": true
   },
   "source": [
    "# Plan\n",
    "\n",
    "- open sqlite3 database\n",
    "- send a query\n",
    "- parse and print the result\n",
    "- import from sqlite directly into pandas"
   ]
  },
  {
   "cell_type": "code",
   "execution_count": 4,
   "metadata": {
    "collapsed": true
   },
   "outputs": [],
   "source": [
    "import sqlite3\n",
    "conn = sqlite3.connect('mtcars.sqlite')\n",
    "c = conn.cursor()"
   ]
  },
  {
   "cell_type": "markdown",
   "metadata": {},
   "source": [
    "# select cars with 4 cylinders"
   ]
  },
  {
   "cell_type": "code",
   "execution_count": 5,
   "metadata": {
    "collapsed": false
   },
   "outputs": [],
   "source": [
    "# create and execute our query\n",
    "cylinders = 4\n",
    "cursor = c.execute(\"SELECT * FROM results WHERE cyl = {0}\".format(cylinders))"
   ]
  },
  {
   "cell_type": "markdown",
   "metadata": {},
   "source": [
    "# print a list of the results"
   ]
  },
  {
   "cell_type": "code",
   "execution_count": 6,
   "metadata": {
    "collapsed": false
   },
   "outputs": [
    {
     "name": "stdout",
     "output_type": "stream",
     "text": [
      "Datsun 710:\t22.8\n",
      "Merc 240D:\t24.4\n",
      "Merc 230:\t22.8\n",
      "Fiat 128:\t32.4\n",
      "Honda Civic:\t30.4\n",
      "Toyota Corolla:\t33.9\n",
      "Toyota Corona:\t21.5\n",
      "Fiat X1-9:\t27.3\n",
      "Porsche 914-2:\t26.0\n",
      "Lotus Europa:\t30.4\n",
      "Volvo 142E:\t21.4\n"
     ]
    }
   ],
   "source": [
    "# fetch a list of the column names\n",
    "column_names = list(map(lambda x: x[0], cursor.description))\n",
    "\n",
    "# fetch all rows and map column names onto them\n",
    "rows = map(lambda x: dict(zip(column_names, x)), cursor.fetchall())\n",
    "\n",
    "# print the name and MPG for each result\n",
    "for row in rows:\n",
    "    print(\"{name}:\\t{mpg}\".format(**row))"
   ]
  },
  {
   "cell_type": "markdown",
   "metadata": {},
   "source": [
    "# import into pandas"
   ]
  },
  {
   "cell_type": "code",
   "execution_count": 7,
   "metadata": {
    "collapsed": false
   },
   "outputs": [
    {
     "name": "stdout",
     "output_type": "stream",
     "text": [
      "    mpg  cyl   disp   hp  drat     wt   qsec  vs  am  gear  carb  \\\n",
      "0  21.0    6  160.0  110  3.90  2.620  16.46   0   1     4     4   \n",
      "1  21.0    6  160.0  110  3.90  2.875  17.02   0   1     4     4   \n",
      "2  22.8    4  108.0   93  3.85  2.320  18.61   1   1     4     1   \n",
      "3  21.4    6  258.0  110  3.08  3.215  19.44   1   0     3     1   \n",
      "4  18.7    8  360.0  175  3.15  3.440  17.02   0   0     3     2   \n",
      "\n",
      "                name  \n",
      "0          Mazda RX4  \n",
      "1      Mazda RX4 Wag  \n",
      "2         Datsun 710  \n",
      "3     Hornet 4 Drive  \n",
      "4  Hornet Sportabout  \n"
     ]
    }
   ],
   "source": [
    "import pandas as pd\n",
    "df = pd.read_sql_query(\"SELECT * from results\", conn)\n",
    "print(df.head())"
   ]
  },
  {
   "cell_type": "code",
   "execution_count": null,
   "metadata": {
    "collapsed": true
   },
   "outputs": [],
   "source": []
  }
 ],
 "metadata": {
  "kernelspec": {
   "display_name": "Python 2",
   "language": "python",
   "name": "python2"
  },
  "language_info": {
   "codemirror_mode": {
    "name": "ipython",
    "version": 2
   },
   "file_extension": ".py",
   "mimetype": "text/x-python",
   "name": "python",
   "nbconvert_exporter": "python",
   "pygments_lexer": "ipython2",
   "version": "2.7.11"
  }
 },
 "nbformat": 4,
 "nbformat_minor": 1
}
